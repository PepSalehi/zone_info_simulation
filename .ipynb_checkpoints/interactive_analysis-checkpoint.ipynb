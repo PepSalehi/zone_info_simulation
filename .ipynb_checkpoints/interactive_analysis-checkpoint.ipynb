{
 "cells": [
  {
   "cell_type": "code",
   "execution_count": 1,
   "metadata": {},
   "outputs": [],
   "source": [
    "import pickle"
   ]
  },
  {
   "cell_type": "code",
   "execution_count": 7,
   "metadata": {},
   "outputs": [],
   "source": [
    "scores = []\n",
    "for episode in range(5):\n",
    "    m_score = pickle.load(\n",
    "            open(\"./Outputs/dqn/scores {} from simulation 1 with AV_share of {}.p\".format(\n",
    "                    episode,  0.02\n",
    "                ),\n",
    "                \"rb\",\n",
    "            )\n",
    "        )\n",
    "    scores.append(m_score)"
   ]
  },
  {
   "cell_type": "code",
   "execution_count": 9,
   "metadata": {},
   "outputs": [
    {
     "data": {
      "text/plain": [
       "[[3901.5],\n",
       " [3901.5, 4611.5],\n",
       " [3901.5, 4611.5, 4999.0],\n",
       " [3901.5, 4611.5, 4999.0, 5029.0],\n",
       " [3901.5, 4611.5, 4999.0, 5029.0, 4903.5]]"
      ]
     },
     "execution_count": 9,
     "metadata": {},
     "output_type": "execute_result"
    }
   ],
   "source": [
    "scores"
   ]
  },
  {
   "cell_type": "code",
   "execution_count": null,
   "metadata": {},
   "outputs": [],
   "source": []
  }
 ],
 "metadata": {
  "kernelspec": {
   "display_name": "Python 3",
   "language": "python",
   "name": "python3"
  },
  "language_info": {
   "codemirror_mode": {
    "name": "ipython",
    "version": 3
   },
   "file_extension": ".py",
   "mimetype": "text/x-python",
   "name": "python",
   "nbconvert_exporter": "python",
   "pygments_lexer": "ipython3",
   "version": "3.6.8"
  }
 },
 "nbformat": 4,
 "nbformat_minor": 1
}
