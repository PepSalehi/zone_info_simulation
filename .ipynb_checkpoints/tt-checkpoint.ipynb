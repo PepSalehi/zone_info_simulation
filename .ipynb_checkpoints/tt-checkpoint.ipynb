{
 "cells": [
  {
   "cell_type": "code",
   "execution_count": 1,
   "metadata": {},
   "outputs": [],
   "source": [
    "import numpy as np \n",
    "import pandas as pd "
   ]
  },
  {
   "cell_type": "code",
   "execution_count": 2,
   "metadata": {},
   "outputs": [],
   "source": [
    "import pickle "
   ]
  },
  {
   "cell_type": "code",
   "execution_count": 3,
   "metadata": {},
   "outputs": [
    {
     "name": "stdout",
     "output_type": "stream",
     "text": [
      "The number of zones is  64\n",
      "The number of requests over all days is   (197746, 21)\n"
     ]
    }
   ],
   "source": [
    "m = pickle.load(\n",
    "                open(\n",
    "                    \"./Outputs/avg_fare_info/model for fleet size {f} surge 2fdemand 0.0perc_k 0pro_s 0 repl0.p\".format(\n",
    "                        f=100\n",
    "                    ),\n",
    "                    \"rb\",\n",
    "                )\n",
    "            )"
   ]
  },
  {
   "cell_type": "code",
   "execution_count": 4,
   "metadata": {},
   "outputs": [],
   "source": [
    "vehs = m.vehilcs"
   ]
  },
  {
   "cell_type": "code",
   "execution_count": 5,
   "metadata": {},
   "outputs": [],
   "source": [
    "v = vehs[0]"
   ]
  },
  {
   "cell_type": "code",
   "execution_count": 6,
   "metadata": {},
   "outputs": [
    {
     "data": {
      "text/plain": [
       "[25200]"
      ]
     },
     "execution_count": 6,
     "metadata": {},
     "output_type": "execute_result"
    }
   ],
   "source": [
    "v._times_chose_zone"
   ]
  },
  {
   "cell_type": "code",
   "execution_count": 8,
   "metadata": {},
   "outputs": [
    {
     "name": "stdout",
     "output_type": "stream",
     "text": [
      "[25200]\n",
      "[25200, 38310]\n",
      "[25200]\n",
      "[25200]\n",
      "[25200, 30390, 32700, 33180, 33750, 35370, 35940]\n",
      "[25200]\n",
      "[25200]\n",
      "[25200]\n",
      "[25200]\n",
      "[25200]\n",
      "[25200]\n",
      "[25200]\n",
      "[25200]\n",
      "[25200, 37440]\n",
      "[25200]\n",
      "[25200]\n",
      "[25200, 38550, 39990, 40890]\n",
      "[25200]\n",
      "[25200, 25680, 26280]\n",
      "[25200]\n",
      "[25200]\n",
      "[25200]\n",
      "[25200]\n",
      "[25200]\n",
      "[25200]\n",
      "[25200, 31320]\n",
      "[25200]\n",
      "[25200, 33210, 33780]\n",
      "[25200]\n",
      "[25200]\n",
      "[25200]\n",
      "[25200]\n",
      "[25200]\n",
      "[25200]\n",
      "[25200]\n",
      "[25200, 32700]\n",
      "[25200, 26070]\n",
      "[25200, 27660, 30660]\n",
      "[25200]\n",
      "[25200]\n",
      "[25200]\n",
      "[25200]\n",
      "[25200]\n",
      "[25200, 40770, 41370]\n",
      "[25200]\n",
      "[25200]\n",
      "[25200, 26280, 43080]\n",
      "[25200]\n",
      "[25200]\n",
      "[25200]\n",
      "[25200]\n",
      "[25200]\n",
      "[25200, 25890, 30690]\n",
      "[25200]\n",
      "[25200, 29640, 30120, 30600, 31080]\n",
      "[25200, 27840]\n",
      "[25200]\n",
      "[25200]\n",
      "[25200]\n",
      "[25200]\n",
      "[25200]\n",
      "[25200]\n",
      "[25200]\n",
      "[25200, 42750]\n",
      "[25200]\n",
      "[25200, 31650]\n",
      "[25200]\n",
      "[25200, 37530]\n",
      "[25200]\n",
      "[25200]\n",
      "[25200]\n",
      "[25200]\n",
      "[25200, 29490]\n",
      "[25200]\n",
      "[25200]\n",
      "[25200, 33570, 34140]\n",
      "[25200]\n",
      "[25200]\n",
      "[25200, 41070]\n",
      "[25200, 30120]\n",
      "[25200, 39540, 40230]\n",
      "[25200]\n",
      "[25200]\n",
      "[25200, 25950]\n",
      "[25200]\n",
      "[25200, 25800, 27360]\n",
      "[25200]\n",
      "[25200, 33120, 33690]\n",
      "[25200]\n",
      "[25200]\n",
      "[25200, 30960, 32070]\n",
      "[25200]\n",
      "[25200, 33420]\n",
      "[25200]\n",
      "[25200, 41760]\n",
      "[25200, 35370, 35940]\n",
      "[25200, 27630]\n",
      "[25200, 33600, 39900, 41010]\n",
      "[25200, 41280]\n",
      "[25200]\n"
     ]
    }
   ],
   "source": [
    "for v in vehs:\n",
    "    print(v._times_chose_zone)"
   ]
  },
  {
   "cell_type": "code",
   "execution_count": null,
   "metadata": {},
   "outputs": [],
   "source": []
  }
 ],
 "metadata": {
  "kernelspec": {
   "display_name": "Python 3",
   "language": "python",
   "name": "python3"
  },
  "language_info": {
   "codemirror_mode": {
    "name": "ipython",
    "version": 3
   },
   "file_extension": ".py",
   "mimetype": "text/x-python",
   "name": "python",
   "nbconvert_exporter": "python",
   "pygments_lexer": "ipython3",
   "version": "3.6.8"
  }
 },
 "nbformat": 4,
 "nbformat_minor": 2
}
