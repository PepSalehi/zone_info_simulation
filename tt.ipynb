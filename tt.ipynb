{
 "cells": [
  {
   "cell_type": "code",
   "execution_count": 3,
   "metadata": {
    "pycharm": {
     "is_executing": false
    }
   },
   "outputs": [],
   "source": [
    "import numpy as np \n",
    "import pandas as pd "
   ]
  },
  {
   "cell_type": "code",
   "execution_count": 4,
   "metadata": {
    "pycharm": {
     "is_executing": false
    }
   },
   "outputs": [],
   "source": [
    "import pickle "
   ]
  },
  {
   "cell_type": "code",
   "execution_count": 5,
   "metadata": {
    "pycharm": {
     "is_executing": false
    }
   },
   "outputs": [
    {
     "name": "stdout",
     "text": [
      "The number of zones is  64\n",
      "The number of requests over all days is   (197746, 21)\n"
     ],
     "output_type": "stream"
    }
   ],
   "source": [
    "m = pickle.load(\n",
    "                open(\n",
    "                    \"./Outputs/avg_fare_info/1/model for fleet size {f} surge 2fdemand 0.0perc_k 0pro_s 0 repl0.p\".format(\n",
    "                        f=1500\n",
    "                    ),\n",
    "                    \"rb\",\n",
    "                )\n",
    "            )"
   ]
  },
  {
   "cell_type": "code",
   "execution_count": 6,
   "metadata": {
    "scrolled": true,
    "pycharm": {
     "is_executing": false
    }
   },
   "outputs": [
    {
     "data": {
      "text/plain": "     zone_id  w  served  total  LOS  idle  incoming  times_surged\n4          4  0       0      0    0     1         0             0\n12        12  0       0      0    0     1         0             0\n152      152  0       0      0    0     0         0             0\n158      158  0       0      0    0     2         4             0\n161      161  0       0      0    0    60        37             0\n162      162  0       0      0    0    54        39             0\n163      163  0       0      0    0    46        30             0\n164      164  0       0      0    0    31        16             0\n166      166  0       0      0    0     1         1             0\n170      170  0       0      0    0    40        30             0\n186      186  0       0      0    0    36        23             0\n194      194  0       0      0    0     0         0             0\n209      209  0       0      0    0     1         1             0\n211      211  0       0      0    0     2         1             0\n224      224  0       0      0    0     3         2             0\n229      229  0       0      0    0    22        20             0\n230      230  0       0      0    0    40        28             0\n231      231  0       0      0    0     9         8             0\n232      232  0       0      0    0     1         0             0\n233      233  0       0      0    0    10         7             0\n234      234  0       0      0    0    31        29             0\n236      236  0       0      0    0    62        38             0\n237      237  0       0      0    0    53        41             0\n238      238  0       0      0    0     6         2             0\n239      239  0       0      0    0    26        23             0\n243      243  0       0      0    0     0         0             0\n244      244  0       0      0    0     0         0             0\n246      246  0       0      0    0     5         4             0\n249      249  0       0      0    0    12         6             0\n261      261  0       0      0    0     7         8             0\n..       ... ..     ...    ...  ...   ...       ...           ...\n88        88  0       0      0    0     3         3             0\n13        13  0       0      0    0     6         2             0\n24        24  0       0      0    0     0         0             0\n41        41  0       0      0    0     0         1             0\n42        42  0       0      0    0     0         0             0\n43        43  0       0      0    0    20        22             0\n45        45  0       0      0    0     1         1             0\n48        48  0       0      0    0    25        17             0\n50        50  0       0      0    0     6         2             0\n68        68  0       0      0    0    23        16             0\n74        74  0       0      0    0     0         0             0\n75        75  0       0      0    0     4         8             0\n79        79  0       0      0    0     9         3             0\n87        87  0       0      0    0     3         4             0\n90        90  0       0      0    0    14         8             0\n143      143  0       0      0    0     4         8             0\n100      100  0       0      0    0    26        19             0\n107      107  0       0      0    0    13        11             0\n113      113  0       0      0    0    13         6             0\n114      114  0       0      0    0     3         0             0\n116      116  0       0      0    0     0         0             0\n120      120  0       0      0    0     0         0             0\n125      125  0       0      0    0     2         1             0\n127      127  0       0      0    0     0         0             0\n128      128  0       0      0    0     0         0             0\n137      137  0       0      0    0     6         5             0\n140      140  0       0      0    0    22         9             0\n141      141  0       0      0    0    44        35             0\n142      142  0       0      0    0    36        18             0\n263      263  0       0      0    0    19         8             0\n\n[64 rows x 8 columns]",
      "text/html": "<div>\n<style scoped>\n    .dataframe tbody tr th:only-of-type {\n        vertical-align: middle;\n    }\n\n    .dataframe tbody tr th {\n        vertical-align: top;\n    }\n\n    .dataframe thead th {\n        text-align: right;\n    }\n</style>\n<table border=\"1\" class=\"dataframe\">\n  <thead>\n    <tr style=\"text-align: right;\">\n      <th></th>\n      <th>zone_id</th>\n      <th>w</th>\n      <th>served</th>\n      <th>total</th>\n      <th>LOS</th>\n      <th>idle</th>\n      <th>incoming</th>\n      <th>times_surged</th>\n    </tr>\n  </thead>\n  <tbody>\n    <tr>\n      <th>4</th>\n      <td>4</td>\n      <td>0</td>\n      <td>0</td>\n      <td>0</td>\n      <td>0</td>\n      <td>1</td>\n      <td>0</td>\n      <td>0</td>\n    </tr>\n    <tr>\n      <th>12</th>\n      <td>12</td>\n      <td>0</td>\n      <td>0</td>\n      <td>0</td>\n      <td>0</td>\n      <td>1</td>\n      <td>0</td>\n      <td>0</td>\n    </tr>\n    <tr>\n      <th>152</th>\n      <td>152</td>\n      <td>0</td>\n      <td>0</td>\n      <td>0</td>\n      <td>0</td>\n      <td>0</td>\n      <td>0</td>\n      <td>0</td>\n    </tr>\n    <tr>\n      <th>158</th>\n      <td>158</td>\n      <td>0</td>\n      <td>0</td>\n      <td>0</td>\n      <td>0</td>\n      <td>2</td>\n      <td>4</td>\n      <td>0</td>\n    </tr>\n    <tr>\n      <th>161</th>\n      <td>161</td>\n      <td>0</td>\n      <td>0</td>\n      <td>0</td>\n      <td>0</td>\n      <td>60</td>\n      <td>37</td>\n      <td>0</td>\n    </tr>\n    <tr>\n      <th>162</th>\n      <td>162</td>\n      <td>0</td>\n      <td>0</td>\n      <td>0</td>\n      <td>0</td>\n      <td>54</td>\n      <td>39</td>\n      <td>0</td>\n    </tr>\n    <tr>\n      <th>163</th>\n      <td>163</td>\n      <td>0</td>\n      <td>0</td>\n      <td>0</td>\n      <td>0</td>\n      <td>46</td>\n      <td>30</td>\n      <td>0</td>\n    </tr>\n    <tr>\n      <th>164</th>\n      <td>164</td>\n      <td>0</td>\n      <td>0</td>\n      <td>0</td>\n      <td>0</td>\n      <td>31</td>\n      <td>16</td>\n      <td>0</td>\n    </tr>\n    <tr>\n      <th>166</th>\n      <td>166</td>\n      <td>0</td>\n      <td>0</td>\n      <td>0</td>\n      <td>0</td>\n      <td>1</td>\n      <td>1</td>\n      <td>0</td>\n    </tr>\n    <tr>\n      <th>170</th>\n      <td>170</td>\n      <td>0</td>\n      <td>0</td>\n      <td>0</td>\n      <td>0</td>\n      <td>40</td>\n      <td>30</td>\n      <td>0</td>\n    </tr>\n    <tr>\n      <th>186</th>\n      <td>186</td>\n      <td>0</td>\n      <td>0</td>\n      <td>0</td>\n      <td>0</td>\n      <td>36</td>\n      <td>23</td>\n      <td>0</td>\n    </tr>\n    <tr>\n      <th>194</th>\n      <td>194</td>\n      <td>0</td>\n      <td>0</td>\n      <td>0</td>\n      <td>0</td>\n      <td>0</td>\n      <td>0</td>\n      <td>0</td>\n    </tr>\n    <tr>\n      <th>209</th>\n      <td>209</td>\n      <td>0</td>\n      <td>0</td>\n      <td>0</td>\n      <td>0</td>\n      <td>1</td>\n      <td>1</td>\n      <td>0</td>\n    </tr>\n    <tr>\n      <th>211</th>\n      <td>211</td>\n      <td>0</td>\n      <td>0</td>\n      <td>0</td>\n      <td>0</td>\n      <td>2</td>\n      <td>1</td>\n      <td>0</td>\n    </tr>\n    <tr>\n      <th>224</th>\n      <td>224</td>\n      <td>0</td>\n      <td>0</td>\n      <td>0</td>\n      <td>0</td>\n      <td>3</td>\n      <td>2</td>\n      <td>0</td>\n    </tr>\n    <tr>\n      <th>229</th>\n      <td>229</td>\n      <td>0</td>\n      <td>0</td>\n      <td>0</td>\n      <td>0</td>\n      <td>22</td>\n      <td>20</td>\n      <td>0</td>\n    </tr>\n    <tr>\n      <th>230</th>\n      <td>230</td>\n      <td>0</td>\n      <td>0</td>\n      <td>0</td>\n      <td>0</td>\n      <td>40</td>\n      <td>28</td>\n      <td>0</td>\n    </tr>\n    <tr>\n      <th>231</th>\n      <td>231</td>\n      <td>0</td>\n      <td>0</td>\n      <td>0</td>\n      <td>0</td>\n      <td>9</td>\n      <td>8</td>\n      <td>0</td>\n    </tr>\n    <tr>\n      <th>232</th>\n      <td>232</td>\n      <td>0</td>\n      <td>0</td>\n      <td>0</td>\n      <td>0</td>\n      <td>1</td>\n      <td>0</td>\n      <td>0</td>\n    </tr>\n    <tr>\n      <th>233</th>\n      <td>233</td>\n      <td>0</td>\n      <td>0</td>\n      <td>0</td>\n      <td>0</td>\n      <td>10</td>\n      <td>7</td>\n      <td>0</td>\n    </tr>\n    <tr>\n      <th>234</th>\n      <td>234</td>\n      <td>0</td>\n      <td>0</td>\n      <td>0</td>\n      <td>0</td>\n      <td>31</td>\n      <td>29</td>\n      <td>0</td>\n    </tr>\n    <tr>\n      <th>236</th>\n      <td>236</td>\n      <td>0</td>\n      <td>0</td>\n      <td>0</td>\n      <td>0</td>\n      <td>62</td>\n      <td>38</td>\n      <td>0</td>\n    </tr>\n    <tr>\n      <th>237</th>\n      <td>237</td>\n      <td>0</td>\n      <td>0</td>\n      <td>0</td>\n      <td>0</td>\n      <td>53</td>\n      <td>41</td>\n      <td>0</td>\n    </tr>\n    <tr>\n      <th>238</th>\n      <td>238</td>\n      <td>0</td>\n      <td>0</td>\n      <td>0</td>\n      <td>0</td>\n      <td>6</td>\n      <td>2</td>\n      <td>0</td>\n    </tr>\n    <tr>\n      <th>239</th>\n      <td>239</td>\n      <td>0</td>\n      <td>0</td>\n      <td>0</td>\n      <td>0</td>\n      <td>26</td>\n      <td>23</td>\n      <td>0</td>\n    </tr>\n    <tr>\n      <th>243</th>\n      <td>243</td>\n      <td>0</td>\n      <td>0</td>\n      <td>0</td>\n      <td>0</td>\n      <td>0</td>\n      <td>0</td>\n      <td>0</td>\n    </tr>\n    <tr>\n      <th>244</th>\n      <td>244</td>\n      <td>0</td>\n      <td>0</td>\n      <td>0</td>\n      <td>0</td>\n      <td>0</td>\n      <td>0</td>\n      <td>0</td>\n    </tr>\n    <tr>\n      <th>246</th>\n      <td>246</td>\n      <td>0</td>\n      <td>0</td>\n      <td>0</td>\n      <td>0</td>\n      <td>5</td>\n      <td>4</td>\n      <td>0</td>\n    </tr>\n    <tr>\n      <th>249</th>\n      <td>249</td>\n      <td>0</td>\n      <td>0</td>\n      <td>0</td>\n      <td>0</td>\n      <td>12</td>\n      <td>6</td>\n      <td>0</td>\n    </tr>\n    <tr>\n      <th>261</th>\n      <td>261</td>\n      <td>0</td>\n      <td>0</td>\n      <td>0</td>\n      <td>0</td>\n      <td>7</td>\n      <td>8</td>\n      <td>0</td>\n    </tr>\n    <tr>\n      <th>...</th>\n      <td>...</td>\n      <td>...</td>\n      <td>...</td>\n      <td>...</td>\n      <td>...</td>\n      <td>...</td>\n      <td>...</td>\n      <td>...</td>\n    </tr>\n    <tr>\n      <th>88</th>\n      <td>88</td>\n      <td>0</td>\n      <td>0</td>\n      <td>0</td>\n      <td>0</td>\n      <td>3</td>\n      <td>3</td>\n      <td>0</td>\n    </tr>\n    <tr>\n      <th>13</th>\n      <td>13</td>\n      <td>0</td>\n      <td>0</td>\n      <td>0</td>\n      <td>0</td>\n      <td>6</td>\n      <td>2</td>\n      <td>0</td>\n    </tr>\n    <tr>\n      <th>24</th>\n      <td>24</td>\n      <td>0</td>\n      <td>0</td>\n      <td>0</td>\n      <td>0</td>\n      <td>0</td>\n      <td>0</td>\n      <td>0</td>\n    </tr>\n    <tr>\n      <th>41</th>\n      <td>41</td>\n      <td>0</td>\n      <td>0</td>\n      <td>0</td>\n      <td>0</td>\n      <td>0</td>\n      <td>1</td>\n      <td>0</td>\n    </tr>\n    <tr>\n      <th>42</th>\n      <td>42</td>\n      <td>0</td>\n      <td>0</td>\n      <td>0</td>\n      <td>0</td>\n      <td>0</td>\n      <td>0</td>\n      <td>0</td>\n    </tr>\n    <tr>\n      <th>43</th>\n      <td>43</td>\n      <td>0</td>\n      <td>0</td>\n      <td>0</td>\n      <td>0</td>\n      <td>20</td>\n      <td>22</td>\n      <td>0</td>\n    </tr>\n    <tr>\n      <th>45</th>\n      <td>45</td>\n      <td>0</td>\n      <td>0</td>\n      <td>0</td>\n      <td>0</td>\n      <td>1</td>\n      <td>1</td>\n      <td>0</td>\n    </tr>\n    <tr>\n      <th>48</th>\n      <td>48</td>\n      <td>0</td>\n      <td>0</td>\n      <td>0</td>\n      <td>0</td>\n      <td>25</td>\n      <td>17</td>\n      <td>0</td>\n    </tr>\n    <tr>\n      <th>50</th>\n      <td>50</td>\n      <td>0</td>\n      <td>0</td>\n      <td>0</td>\n      <td>0</td>\n      <td>6</td>\n      <td>2</td>\n      <td>0</td>\n    </tr>\n    <tr>\n      <th>68</th>\n      <td>68</td>\n      <td>0</td>\n      <td>0</td>\n      <td>0</td>\n      <td>0</td>\n      <td>23</td>\n      <td>16</td>\n      <td>0</td>\n    </tr>\n    <tr>\n      <th>74</th>\n      <td>74</td>\n      <td>0</td>\n      <td>0</td>\n      <td>0</td>\n      <td>0</td>\n      <td>0</td>\n      <td>0</td>\n      <td>0</td>\n    </tr>\n    <tr>\n      <th>75</th>\n      <td>75</td>\n      <td>0</td>\n      <td>0</td>\n      <td>0</td>\n      <td>0</td>\n      <td>4</td>\n      <td>8</td>\n      <td>0</td>\n    </tr>\n    <tr>\n      <th>79</th>\n      <td>79</td>\n      <td>0</td>\n      <td>0</td>\n      <td>0</td>\n      <td>0</td>\n      <td>9</td>\n      <td>3</td>\n      <td>0</td>\n    </tr>\n    <tr>\n      <th>87</th>\n      <td>87</td>\n      <td>0</td>\n      <td>0</td>\n      <td>0</td>\n      <td>0</td>\n      <td>3</td>\n      <td>4</td>\n      <td>0</td>\n    </tr>\n    <tr>\n      <th>90</th>\n      <td>90</td>\n      <td>0</td>\n      <td>0</td>\n      <td>0</td>\n      <td>0</td>\n      <td>14</td>\n      <td>8</td>\n      <td>0</td>\n    </tr>\n    <tr>\n      <th>143</th>\n      <td>143</td>\n      <td>0</td>\n      <td>0</td>\n      <td>0</td>\n      <td>0</td>\n      <td>4</td>\n      <td>8</td>\n      <td>0</td>\n    </tr>\n    <tr>\n      <th>100</th>\n      <td>100</td>\n      <td>0</td>\n      <td>0</td>\n      <td>0</td>\n      <td>0</td>\n      <td>26</td>\n      <td>19</td>\n      <td>0</td>\n    </tr>\n    <tr>\n      <th>107</th>\n      <td>107</td>\n      <td>0</td>\n      <td>0</td>\n      <td>0</td>\n      <td>0</td>\n      <td>13</td>\n      <td>11</td>\n      <td>0</td>\n    </tr>\n    <tr>\n      <th>113</th>\n      <td>113</td>\n      <td>0</td>\n      <td>0</td>\n      <td>0</td>\n      <td>0</td>\n      <td>13</td>\n      <td>6</td>\n      <td>0</td>\n    </tr>\n    <tr>\n      <th>114</th>\n      <td>114</td>\n      <td>0</td>\n      <td>0</td>\n      <td>0</td>\n      <td>0</td>\n      <td>3</td>\n      <td>0</td>\n      <td>0</td>\n    </tr>\n    <tr>\n      <th>116</th>\n      <td>116</td>\n      <td>0</td>\n      <td>0</td>\n      <td>0</td>\n      <td>0</td>\n      <td>0</td>\n      <td>0</td>\n      <td>0</td>\n    </tr>\n    <tr>\n      <th>120</th>\n      <td>120</td>\n      <td>0</td>\n      <td>0</td>\n      <td>0</td>\n      <td>0</td>\n      <td>0</td>\n      <td>0</td>\n      <td>0</td>\n    </tr>\n    <tr>\n      <th>125</th>\n      <td>125</td>\n      <td>0</td>\n      <td>0</td>\n      <td>0</td>\n      <td>0</td>\n      <td>2</td>\n      <td>1</td>\n      <td>0</td>\n    </tr>\n    <tr>\n      <th>127</th>\n      <td>127</td>\n      <td>0</td>\n      <td>0</td>\n      <td>0</td>\n      <td>0</td>\n      <td>0</td>\n      <td>0</td>\n      <td>0</td>\n    </tr>\n    <tr>\n      <th>128</th>\n      <td>128</td>\n      <td>0</td>\n      <td>0</td>\n      <td>0</td>\n      <td>0</td>\n      <td>0</td>\n      <td>0</td>\n      <td>0</td>\n    </tr>\n    <tr>\n      <th>137</th>\n      <td>137</td>\n      <td>0</td>\n      <td>0</td>\n      <td>0</td>\n      <td>0</td>\n      <td>6</td>\n      <td>5</td>\n      <td>0</td>\n    </tr>\n    <tr>\n      <th>140</th>\n      <td>140</td>\n      <td>0</td>\n      <td>0</td>\n      <td>0</td>\n      <td>0</td>\n      <td>22</td>\n      <td>9</td>\n      <td>0</td>\n    </tr>\n    <tr>\n      <th>141</th>\n      <td>141</td>\n      <td>0</td>\n      <td>0</td>\n      <td>0</td>\n      <td>0</td>\n      <td>44</td>\n      <td>35</td>\n      <td>0</td>\n    </tr>\n    <tr>\n      <th>142</th>\n      <td>142</td>\n      <td>0</td>\n      <td>0</td>\n      <td>0</td>\n      <td>0</td>\n      <td>36</td>\n      <td>18</td>\n      <td>0</td>\n    </tr>\n    <tr>\n      <th>263</th>\n      <td>263</td>\n      <td>0</td>\n      <td>0</td>\n      <td>0</td>\n      <td>0</td>\n      <td>19</td>\n      <td>8</td>\n      <td>0</td>\n    </tr>\n  </tbody>\n</table>\n<p>64 rows × 8 columns</p>\n</div>"
     },
     "metadata": {},
     "output_type": "execute_result",
     "execution_count": 6
    }
   ],
   "source": [
    "m.get_service_rate_per_zone()"
   ]
  },
  {
   "cell_type": "code",
   "execution_count": 38,
   "metadata": {},
   "outputs": [
    {
     "data": {
      "text/plain": [
       "<lib.Zones.Zone at 0x123070240>"
      ]
     },
     "execution_count": 38,
     "metadata": {},
     "output_type": "execute_result"
    }
   ],
   "source": [
    "a "
   ]
  },
  {
   "cell_type": "code",
   "execution_count": 31,
   "metadata": {},
   "outputs": [
    {
     "name": "stdout",
     "output_type": "stream",
     "text": [
      "14.8 µs ± 365 ns per loop (mean ± std. dev. of 7 runs, 100000 loops each)\n"
     ]
    }
   ],
   "source": [
    "%timeit a = [z for z in m.zones if z.id == 194]"
   ]
  },
  {
   "cell_type": "code",
   "execution_count": 30,
   "metadata": {},
   "outputs": [
    {
     "name": "stdout",
     "output_type": "stream",
     "text": [
      "9.69 µs ± 325 ns per loop (mean ± std. dev. of 7 runs, 100000 loops each)\n"
     ]
    },
    {
     "data": {
      "text/plain": [
       "<lib.Zones.Zone at 0x123070240>"
      ]
     },
     "execution_count": 30,
     "metadata": {},
     "output_type": "execute_result"
    }
   ],
   "source": [
    "%timeit my_filter_iter = next(filter(lambda x: x.id == 194, m.zones))\n",
    "my_filter_iter"
   ]
  },
  {
   "cell_type": "code",
   "execution_count": 32,
   "metadata": {},
   "outputs": [
    {
     "data": {
      "text/plain": [
       "1.5273477812177505"
      ]
     },
     "execution_count": 32,
     "metadata": {},
     "output_type": "execute_result"
    }
   ],
   "source": [
    "14.8/9.69"
   ]
  },
  {
   "cell_type": "code",
   "execution_count": 39,
   "metadata": {},
   "outputs": [
    {
     "ename": "AttributeError",
     "evalue": "'Zone' object has no attribute 'DIST_MAT'",
     "output_type": "error",
     "traceback": [
      "\u001b[0;31m---------------------------------------------------------------------------\u001b[0m",
      "\u001b[0;31mAttributeError\u001b[0m                            Traceback (most recent call last)",
      "\u001b[0;32m<ipython-input-39-71da8c846ef7>\u001b[0m in \u001b[0;36m<module>\u001b[0;34m\u001b[0m\n\u001b[0;32m----> 1\u001b[0;31m \u001b[0ma\u001b[0m\u001b[0;34m.\u001b[0m\u001b[0mDIST_MAT\u001b[0m\u001b[0;34m\u001b[0m\u001b[0;34m\u001b[0m\u001b[0m\n\u001b[0m",
      "\u001b[0;31mAttributeError\u001b[0m: 'Zone' object has no attribute 'DIST_MAT'"
     ]
    }
   ],
   "source": [
    "a.DIST_MAT"
   ]
  },
  {
   "cell_type": "code",
   "execution_count": 42,
   "metadata": {},
   "outputs": [],
   "source": [
    "req = a.demand[0]"
   ]
  },
  {
   "cell_type": "code",
   "execution_count": 59,
   "metadata": {
    "scrolled": true
   },
   "outputs": [
    {
     "name": "stdout",
     "output_type": "stream",
     "text": [
      "1.21 ms ± 23.7 µs per loop (mean ± std. dev. of 7 runs, 1000 loops each)\n"
     ]
    }
   ],
   "source": [
    "%%timeit \n",
    "req.DIST_MAT[(req.DIST_MAT[\"PULocationID\"] == req.ozone) & (req.DIST_MAT[\"DOLocationID\"] == req.dzone)][\"trip_distance_meter\"].values[0]  "
   ]
  },
  {
   "cell_type": "code",
   "execution_count": 57,
   "metadata": {},
   "outputs": [
    {
     "name": "stdout",
     "output_type": "stream",
     "text": [
      "2.39 ms ± 80.1 µs per loop (mean ± std. dev. of 7 runs, 100 loops each)\n"
     ]
    }
   ],
   "source": [
    "%%timeit \n",
    "req.DIST_MAT.query(\n",
    "                    \"PULocationID == {origin} & DOLocationID == {destination} \".format(\n",
    "                        origin=req.ozone, destination=req.dzone\n",
    "                    )\n",
    "                )[\"trip_distance_meter\"].values[0]"
   ]
  },
  {
   "cell_type": "code",
   "execution_count": 60,
   "metadata": {},
   "outputs": [],
   "source": [
    "DIST_MAT = req.DIST_MAT"
   ]
  },
  {
   "cell_type": "code",
   "execution_count": 67,
   "metadata": {},
   "outputs": [],
   "source": [
    "dd = (DIST_MAT.to_dict())"
   ]
  },
  {
   "cell_type": "code",
   "execution_count": 68,
   "metadata": {},
   "outputs": [
    {
     "data": {
      "text/plain": [
       "dict_keys(['PULocationID', 'DOLocationID', 'trip_distance_meter'])"
      ]
     },
     "execution_count": 68,
     "metadata": {},
     "output_type": "execute_result"
    }
   ],
   "source": [
    "dd.keys()"
   ]
  },
  {
   "cell_type": "code",
   "execution_count": 99,
   "metadata": {
    "scrolled": true
   },
   "outputs": [
    {
     "ename": "TypeError",
     "evalue": "unhashable type: 'numpy.ndarray'",
     "output_type": "error",
     "traceback": [
      "\u001b[0;31m---------------------------------------------------------------------------\u001b[0m",
      "\u001b[0;31mTypeError\u001b[0m                                 Traceback (most recent call last)",
      "\u001b[0;32m<ipython-input-99-8ca6c21c4203>\u001b[0m in \u001b[0;36m<module>\u001b[0;34m\u001b[0m\n\u001b[1;32m      1\u001b[0m DIST_MAT.query(\n\u001b[1;32m      2\u001b[0m             \"PULocationID=={o} & DOLocationID.isin({destinations})\".format(\n\u001b[0;32m----> 3\u001b[0;31m                 \u001b[0mo\u001b[0m\u001b[0;34m=\u001b[0m\u001b[0mreq\u001b[0m\u001b[0;34m.\u001b[0m\u001b[0mozone\u001b[0m\u001b[0;34m,\u001b[0m \u001b[0mdestinations\u001b[0m\u001b[0;34m=\u001b[0m\u001b[0mneighbors_list\u001b[0m\u001b[0;34m\u001b[0m\u001b[0;34m\u001b[0m\u001b[0m\n\u001b[0m\u001b[1;32m      4\u001b[0m             )\n\u001b[1;32m      5\u001b[0m         )\n",
      "\u001b[0;32m~/anaconda/lib/python3.6/site-packages/pandas/core/frame.py\u001b[0m in \u001b[0;36mquery\u001b[0;34m(self, expr, inplace, **kwargs)\u001b[0m\n\u001b[1;32m   3086\u001b[0m         \u001b[0mkwargs\u001b[0m\u001b[0;34m[\u001b[0m\u001b[0;34m'level'\u001b[0m\u001b[0;34m]\u001b[0m \u001b[0;34m=\u001b[0m \u001b[0mkwargs\u001b[0m\u001b[0;34m.\u001b[0m\u001b[0mpop\u001b[0m\u001b[0;34m(\u001b[0m\u001b[0;34m'level'\u001b[0m\u001b[0;34m,\u001b[0m \u001b[0;36m0\u001b[0m\u001b[0;34m)\u001b[0m \u001b[0;34m+\u001b[0m \u001b[0;36m1\u001b[0m\u001b[0;34m\u001b[0m\u001b[0;34m\u001b[0m\u001b[0m\n\u001b[1;32m   3087\u001b[0m         \u001b[0mkwargs\u001b[0m\u001b[0;34m[\u001b[0m\u001b[0;34m'target'\u001b[0m\u001b[0;34m]\u001b[0m \u001b[0;34m=\u001b[0m \u001b[0;32mNone\u001b[0m\u001b[0;34m\u001b[0m\u001b[0;34m\u001b[0m\u001b[0m\n\u001b[0;32m-> 3088\u001b[0;31m         \u001b[0mres\u001b[0m \u001b[0;34m=\u001b[0m \u001b[0mself\u001b[0m\u001b[0;34m.\u001b[0m\u001b[0meval\u001b[0m\u001b[0;34m(\u001b[0m\u001b[0mexpr\u001b[0m\u001b[0;34m,\u001b[0m \u001b[0;34m**\u001b[0m\u001b[0mkwargs\u001b[0m\u001b[0;34m)\u001b[0m\u001b[0;34m\u001b[0m\u001b[0;34m\u001b[0m\u001b[0m\n\u001b[0m\u001b[1;32m   3089\u001b[0m \u001b[0;34m\u001b[0m\u001b[0m\n\u001b[1;32m   3090\u001b[0m         \u001b[0;32mtry\u001b[0m\u001b[0;34m:\u001b[0m\u001b[0;34m\u001b[0m\u001b[0;34m\u001b[0m\u001b[0m\n",
      "\u001b[0;32m~/anaconda/lib/python3.6/site-packages/pandas/core/frame.py\u001b[0m in \u001b[0;36meval\u001b[0;34m(self, expr, inplace, **kwargs)\u001b[0m\n\u001b[1;32m   3201\u001b[0m             \u001b[0mkwargs\u001b[0m\u001b[0;34m[\u001b[0m\u001b[0;34m'target'\u001b[0m\u001b[0;34m]\u001b[0m \u001b[0;34m=\u001b[0m \u001b[0mself\u001b[0m\u001b[0;34m\u001b[0m\u001b[0;34m\u001b[0m\u001b[0m\n\u001b[1;32m   3202\u001b[0m         \u001b[0mkwargs\u001b[0m\u001b[0;34m[\u001b[0m\u001b[0;34m'resolvers'\u001b[0m\u001b[0;34m]\u001b[0m \u001b[0;34m=\u001b[0m \u001b[0mkwargs\u001b[0m\u001b[0;34m.\u001b[0m\u001b[0mget\u001b[0m\u001b[0;34m(\u001b[0m\u001b[0;34m'resolvers'\u001b[0m\u001b[0;34m,\u001b[0m \u001b[0;34m(\u001b[0m\u001b[0;34m)\u001b[0m\u001b[0;34m)\u001b[0m \u001b[0;34m+\u001b[0m \u001b[0mtuple\u001b[0m\u001b[0;34m(\u001b[0m\u001b[0mresolvers\u001b[0m\u001b[0;34m)\u001b[0m\u001b[0;34m\u001b[0m\u001b[0;34m\u001b[0m\u001b[0m\n\u001b[0;32m-> 3203\u001b[0;31m         \u001b[0;32mreturn\u001b[0m \u001b[0m_eval\u001b[0m\u001b[0;34m(\u001b[0m\u001b[0mexpr\u001b[0m\u001b[0;34m,\u001b[0m \u001b[0minplace\u001b[0m\u001b[0;34m=\u001b[0m\u001b[0minplace\u001b[0m\u001b[0;34m,\u001b[0m \u001b[0;34m**\u001b[0m\u001b[0mkwargs\u001b[0m\u001b[0;34m)\u001b[0m\u001b[0;34m\u001b[0m\u001b[0;34m\u001b[0m\u001b[0m\n\u001b[0m\u001b[1;32m   3204\u001b[0m \u001b[0;34m\u001b[0m\u001b[0m\n\u001b[1;32m   3205\u001b[0m     \u001b[0;32mdef\u001b[0m \u001b[0mselect_dtypes\u001b[0m\u001b[0;34m(\u001b[0m\u001b[0mself\u001b[0m\u001b[0;34m,\u001b[0m \u001b[0minclude\u001b[0m\u001b[0;34m=\u001b[0m\u001b[0;32mNone\u001b[0m\u001b[0;34m,\u001b[0m \u001b[0mexclude\u001b[0m\u001b[0;34m=\u001b[0m\u001b[0;32mNone\u001b[0m\u001b[0;34m)\u001b[0m\u001b[0;34m:\u001b[0m\u001b[0;34m\u001b[0m\u001b[0;34m\u001b[0m\u001b[0m\n",
      "\u001b[0;32m~/anaconda/lib/python3.6/site-packages/pandas/core/computation/eval.py\u001b[0m in \u001b[0;36meval\u001b[0;34m(expr, parser, engine, truediv, local_dict, global_dict, resolvers, level, target, inplace)\u001b[0m\n\u001b[1;32m    297\u001b[0m         \u001b[0meng\u001b[0m \u001b[0;34m=\u001b[0m \u001b[0m_engines\u001b[0m\u001b[0;34m[\u001b[0m\u001b[0mengine\u001b[0m\u001b[0;34m]\u001b[0m\u001b[0;34m\u001b[0m\u001b[0;34m\u001b[0m\u001b[0m\n\u001b[1;32m    298\u001b[0m         \u001b[0meng_inst\u001b[0m \u001b[0;34m=\u001b[0m \u001b[0meng\u001b[0m\u001b[0;34m(\u001b[0m\u001b[0mparsed_expr\u001b[0m\u001b[0;34m)\u001b[0m\u001b[0;34m\u001b[0m\u001b[0;34m\u001b[0m\u001b[0m\n\u001b[0;32m--> 299\u001b[0;31m         \u001b[0mret\u001b[0m \u001b[0;34m=\u001b[0m \u001b[0meng_inst\u001b[0m\u001b[0;34m.\u001b[0m\u001b[0mevaluate\u001b[0m\u001b[0;34m(\u001b[0m\u001b[0;34m)\u001b[0m\u001b[0;34m\u001b[0m\u001b[0;34m\u001b[0m\u001b[0m\n\u001b[0m\u001b[1;32m    300\u001b[0m \u001b[0;34m\u001b[0m\u001b[0m\n\u001b[1;32m    301\u001b[0m         \u001b[0;32mif\u001b[0m \u001b[0mparsed_expr\u001b[0m\u001b[0;34m.\u001b[0m\u001b[0massigner\u001b[0m \u001b[0;32mis\u001b[0m \u001b[0;32mNone\u001b[0m\u001b[0;34m:\u001b[0m\u001b[0;34m\u001b[0m\u001b[0;34m\u001b[0m\u001b[0m\n",
      "\u001b[0;32m~/anaconda/lib/python3.6/site-packages/pandas/core/computation/engines.py\u001b[0m in \u001b[0;36mevaluate\u001b[0;34m(self)\u001b[0m\n\u001b[1;32m     74\u001b[0m \u001b[0;34m\u001b[0m\u001b[0m\n\u001b[1;32m     75\u001b[0m         \u001b[0;31m# make sure no names in resolvers and locals/globals clash\u001b[0m\u001b[0;34m\u001b[0m\u001b[0;34m\u001b[0m\u001b[0;34m\u001b[0m\u001b[0m\n\u001b[0;32m---> 76\u001b[0;31m         \u001b[0mres\u001b[0m \u001b[0;34m=\u001b[0m \u001b[0mself\u001b[0m\u001b[0;34m.\u001b[0m\u001b[0m_evaluate\u001b[0m\u001b[0;34m(\u001b[0m\u001b[0;34m)\u001b[0m\u001b[0;34m\u001b[0m\u001b[0;34m\u001b[0m\u001b[0m\n\u001b[0m\u001b[1;32m     77\u001b[0m         return _reconstruct_object(self.result_type, res, self.aligned_axes,\n\u001b[1;32m     78\u001b[0m                                    self.expr.terms.return_type)\n",
      "\u001b[0;32m~/anaconda/lib/python3.6/site-packages/pandas/core/computation/engines.py\u001b[0m in \u001b[0;36m_evaluate\u001b[0;34m(self)\u001b[0m\n\u001b[1;32m    120\u001b[0m             \u001b[0mscope\u001b[0m \u001b[0;34m=\u001b[0m \u001b[0menv\u001b[0m\u001b[0;34m.\u001b[0m\u001b[0mfull_scope\u001b[0m\u001b[0;34m\u001b[0m\u001b[0;34m\u001b[0m\u001b[0m\n\u001b[1;32m    121\u001b[0m             \u001b[0mtruediv\u001b[0m \u001b[0;34m=\u001b[0m \u001b[0mscope\u001b[0m\u001b[0;34m[\u001b[0m\u001b[0;34m'truediv'\u001b[0m\u001b[0;34m]\u001b[0m\u001b[0;34m\u001b[0m\u001b[0;34m\u001b[0m\u001b[0m\n\u001b[0;32m--> 122\u001b[0;31m             \u001b[0m_check_ne_builtin_clash\u001b[0m\u001b[0;34m(\u001b[0m\u001b[0mself\u001b[0m\u001b[0;34m.\u001b[0m\u001b[0mexpr\u001b[0m\u001b[0;34m)\u001b[0m\u001b[0;34m\u001b[0m\u001b[0;34m\u001b[0m\u001b[0m\n\u001b[0m\u001b[1;32m    123\u001b[0m             \u001b[0;32mreturn\u001b[0m \u001b[0mne\u001b[0m\u001b[0;34m.\u001b[0m\u001b[0mevaluate\u001b[0m\u001b[0;34m(\u001b[0m\u001b[0ms\u001b[0m\u001b[0;34m,\u001b[0m \u001b[0mlocal_dict\u001b[0m\u001b[0;34m=\u001b[0m\u001b[0mscope\u001b[0m\u001b[0;34m,\u001b[0m \u001b[0mtruediv\u001b[0m\u001b[0;34m=\u001b[0m\u001b[0mtruediv\u001b[0m\u001b[0;34m)\u001b[0m\u001b[0;34m\u001b[0m\u001b[0;34m\u001b[0m\u001b[0m\n\u001b[1;32m    124\u001b[0m         \u001b[0;32mexcept\u001b[0m \u001b[0mKeyError\u001b[0m \u001b[0;32mas\u001b[0m \u001b[0me\u001b[0m\u001b[0;34m:\u001b[0m\u001b[0;34m\u001b[0m\u001b[0;34m\u001b[0m\u001b[0m\n",
      "\u001b[0;32m~/anaconda/lib/python3.6/site-packages/pandas/core/computation/engines.py\u001b[0m in \u001b[0;36m_check_ne_builtin_clash\u001b[0;34m(expr)\u001b[0m\n\u001b[1;32m     29\u001b[0m         \u001b[0mTerms\u001b[0m \u001b[0mcan\u001b[0m \u001b[0mcontain\u001b[0m\u001b[0;34m\u001b[0m\u001b[0;34m\u001b[0m\u001b[0m\n\u001b[1;32m     30\u001b[0m     \"\"\"\n\u001b[0;32m---> 31\u001b[0;31m     \u001b[0mnames\u001b[0m \u001b[0;34m=\u001b[0m \u001b[0mexpr\u001b[0m\u001b[0;34m.\u001b[0m\u001b[0mnames\u001b[0m\u001b[0;34m\u001b[0m\u001b[0;34m\u001b[0m\u001b[0m\n\u001b[0m\u001b[1;32m     32\u001b[0m     \u001b[0moverlap\u001b[0m \u001b[0;34m=\u001b[0m \u001b[0mnames\u001b[0m \u001b[0;34m&\u001b[0m \u001b[0m_ne_builtins\u001b[0m\u001b[0;34m\u001b[0m\u001b[0;34m\u001b[0m\u001b[0m\n\u001b[1;32m     33\u001b[0m \u001b[0;34m\u001b[0m\u001b[0m\n",
      "\u001b[0;32m~/anaconda/lib/python3.6/site-packages/pandas/core/computation/expr.py\u001b[0m in \u001b[0;36mnames\u001b[0;34m(self)\u001b[0m\n\u001b[1;32m    771\u001b[0m         \u001b[0;32mif\u001b[0m \u001b[0mis_term\u001b[0m\u001b[0;34m(\u001b[0m\u001b[0mself\u001b[0m\u001b[0;34m.\u001b[0m\u001b[0mterms\u001b[0m\u001b[0;34m)\u001b[0m\u001b[0;34m:\u001b[0m\u001b[0;34m\u001b[0m\u001b[0;34m\u001b[0m\u001b[0m\n\u001b[1;32m    772\u001b[0m             \u001b[0;32mreturn\u001b[0m \u001b[0mfrozenset\u001b[0m\u001b[0;34m(\u001b[0m\u001b[0;34m[\u001b[0m\u001b[0mself\u001b[0m\u001b[0;34m.\u001b[0m\u001b[0mterms\u001b[0m\u001b[0;34m.\u001b[0m\u001b[0mname\u001b[0m\u001b[0;34m]\u001b[0m\u001b[0;34m)\u001b[0m\u001b[0;34m\u001b[0m\u001b[0;34m\u001b[0m\u001b[0m\n\u001b[0;32m--> 773\u001b[0;31m         \u001b[0;32mreturn\u001b[0m \u001b[0mfrozenset\u001b[0m\u001b[0;34m(\u001b[0m\u001b[0mterm\u001b[0m\u001b[0;34m.\u001b[0m\u001b[0mname\u001b[0m \u001b[0;32mfor\u001b[0m \u001b[0mterm\u001b[0m \u001b[0;32min\u001b[0m \u001b[0mcom\u001b[0m\u001b[0;34m.\u001b[0m\u001b[0mflatten\u001b[0m\u001b[0;34m(\u001b[0m\u001b[0mself\u001b[0m\u001b[0;34m.\u001b[0m\u001b[0mterms\u001b[0m\u001b[0;34m)\u001b[0m\u001b[0;34m)\u001b[0m\u001b[0;34m\u001b[0m\u001b[0;34m\u001b[0m\u001b[0m\n\u001b[0m\u001b[1;32m    774\u001b[0m \u001b[0;34m\u001b[0m\u001b[0m\n\u001b[1;32m    775\u001b[0m \u001b[0;34m\u001b[0m\u001b[0m\n",
      "\u001b[0;31mTypeError\u001b[0m: unhashable type: 'numpy.ndarray'"
     ]
    }
   ],
   "source": [
    "DIST_MAT.query(\n",
    "            \"PULocationID=={o} & DOLocationID.isin({destinations})\".format(\n",
    "                o=req.ozone, destinations=neighbors_list\n",
    "            )\n",
    "        )"
   ]
  },
  {
   "cell_type": "code",
   "execution_count": 97,
   "metadata": {
    "scrolled": true
   },
   "outputs": [
    {
     "name": "stdout",
     "output_type": "stream",
     "text": [
      "1.27 ms ± 32.9 µs per loop (mean ± std. dev. of 7 runs, 1000 loops each)\n"
     ]
    }
   ],
   "source": [
    "%timeit DIST_MAT[(DIST_MAT[\"PULocationID\"] == req.ozone) & (DIST_MAT[\"DOLocationID\"].isin(neighbors_list))]\n",
    "            "
   ]
  },
  {
   "cell_type": "code",
   "execution_count": 105,
   "metadata": {},
   "outputs": [],
   "source": [
    "a=0"
   ]
  },
  {
   "cell_type": "code",
   "execution_count": 106,
   "metadata": {},
   "outputs": [],
   "source": [
    "def outer(a=1, b=2):\n",
    "    def inner():\n",
    "        if a >= 1:\n",
    "            return(\"a is more than 1\")\n",
    "        else:\n",
    "            return (\"a is smaller than 1\")\n",
    "    msg = inner()\n",
    "    return msg"
   ]
  },
  {
   "cell_type": "code",
   "execution_count": 107,
   "metadata": {},
   "outputs": [
    {
     "data": {
      "text/plain": [
       "'a is more than 1'"
      ]
     },
     "execution_count": 107,
     "metadata": {},
     "output_type": "execute_result"
    }
   ],
   "source": [
    "outer()"
   ]
  },
  {
   "cell_type": "code",
   "execution_count": 87,
   "metadata": {},
   "outputs": [],
   "source": [
    "neighbors_list= [4,186]"
   ]
  },
  {
   "cell_type": "code",
   "execution_count": null,
   "metadata": {},
   "outputs": [],
   "source": []
  },
  {
   "cell_type": "code",
   "execution_count": 119,
   "metadata": {},
   "outputs": [
    {
     "data": {
      "text/plain": [
       "52.450923001766206"
      ]
     },
     "execution_count": 119,
     "metadata": {},
     "output_type": "execute_result"
    }
   ],
   "source": [
    "m.runtime/60"
   ]
  },
  {
   "cell_type": "code",
   "execution_count": null,
   "metadata": {},
   "outputs": [],
   "source": []
  },
  {
   "cell_type": "code",
   "execution_count": 115,
   "metadata": {},
   "outputs": [
    {
     "data": {
      "text/plain": [
       "7.5"
      ]
     },
     "execution_count": 115,
     "metadata": {},
     "output_type": "execute_result"
    }
   ],
   "source": [
    "450/60"
   ]
  },
  {
   "cell_type": "code",
   "execution_count": 111,
   "metadata": {},
   "outputs": [],
   "source": [
    "vehs = m.vehilcs"
   ]
  },
  {
   "cell_type": "code",
   "execution_count": 112,
   "metadata": {},
   "outputs": [],
   "source": [
    "v = vehs[0]"
   ]
  },
  {
   "cell_type": "markdown",
   "metadata": {},
   "source": [
    "self.idle, self.rebalancing, self.is_busy(), self.should_move(), self.time_to_be_available, self.waited_too_long() "
   ]
  },
  {
   "cell_type": "code",
   "execution_count": 113,
   "metadata": {
    "scrolled": true
   },
   "outputs": [
    {
     "data": {
      "text/plain": [
       "[[25200, True, False, False, True, 0, False],\n",
       " [25650, False, False, True, False, 0, False],\n",
       " [26970, False, False, True, False, 0, False],\n",
       " [27270, False, False, True, False, 0, False],\n",
       " [28320, False, False, True, False, 0, False],\n",
       " [28710, False, False, True, False, 0, False],\n",
       " [29160, False, False, True, False, 0, False],\n",
       " [30840, False, False, True, False, 0, False],\n",
       " [31350, False, False, True, False, 0, False],\n",
       " [31800, False, False, True, False, 0, False],\n",
       " [32970, False, False, True, False, 0, False],\n",
       " [33390, False, False, True, False, 0, False],\n",
       " [33780, False, False, True, False, 0, False],\n",
       " [34230, False, False, True, False, 0, False],\n",
       " [34650, False, False, True, False, 0, False],\n",
       " [35040, False, False, True, False, 0, False],\n",
       " [35370, False, False, True, False, 0, False],\n",
       " [36300, False, False, True, False, 0, False],\n",
       " [36930, False, False, True, False, 0, False],\n",
       " [37290, False, False, True, False, 0, False],\n",
       " [37800, False, False, True, False, 0, False],\n",
       " [38250, False, False, True, False, 0, False],\n",
       " [38670, False, False, True, False, 0, False],\n",
       " [40560, False, False, True, False, 0, False],\n",
       " [41010, False, False, True, False, 0, False],\n",
       " [41430, False, False, True, False, 0, False],\n",
       " [41910, False, False, True, False, 0, False],\n",
       " [42540, False, False, True, False, 0, False],\n",
       " [42930, False, False, True, False, 0, False]]"
      ]
     },
     "execution_count": 113,
     "metadata": {},
     "output_type": "execute_result"
    }
   ],
   "source": [
    "v._times_chose_zone"
   ]
  },
  {
   "cell_type": "code",
   "execution_count": 114,
   "metadata": {},
   "outputs": [
    {
     "name": "stdout",
     "output_type": "stream",
     "text": [
      "[[25200, True, False, False, True, 0, False], [25650, False, False, True, False, 0, False], [26970, False, False, True, False, 0, False], [27270, False, False, True, False, 0, False], [28320, False, False, True, False, 0, False], [28710, False, False, True, False, 0, False], [29160, False, False, True, False, 0, False], [30840, False, False, True, False, 0, False], [31350, False, False, True, False, 0, False], [31800, False, False, True, False, 0, False], [32970, False, False, True, False, 0, False], [33390, False, False, True, False, 0, False], [33780, False, False, True, False, 0, False], [34230, False, False, True, False, 0, False], [34650, False, False, True, False, 0, False], [35040, False, False, True, False, 0, False], [35370, False, False, True, False, 0, False], [36300, False, False, True, False, 0, False], [36930, False, False, True, False, 0, False], [37290, False, False, True, False, 0, False], [37800, False, False, True, False, 0, False], [38250, False, False, True, False, 0, False], [38670, False, False, True, False, 0, False], [40560, False, False, True, False, 0, False], [41010, False, False, True, False, 0, False], [41430, False, False, True, False, 0, False], [41910, False, False, True, False, 0, False], [42540, False, False, True, False, 0, False], [42930, False, False, True, False, 0, False]]\n",
      "[[25200, True, False, False, True, 0, False], [25530, False, False, True, False, 0, False], [26160, False, False, True, False, 0, False], [26820, False, False, True, False, 0, False], [27600, False, False, True, False, 0, False], [28980, False, False, True, False, 0, False], [29340, False, False, True, False, 0, False], [29760, False, False, True, False, 0, False], [30180, False, False, True, False, 0, False], [30600, False, False, True, False, 0, False], [30960, False, False, True, False, 0, False], [31650, False, False, True, False, 0, False], [32280, False, False, True, False, 0, False], [32910, False, False, True, False, 0, False], [33240, False, False, True, False, 0, False], [33540, False, False, True, False, 0, False], [34170, False, False, True, False, 0, False], [35160, False, False, True, False, 0, False], [35790, False, False, True, False, 0, False], [36090, False, False, True, False, 0, False], [36390, False, False, True, False, 0, False], [36900, False, False, True, False, 0, False], [37260, False, False, True, False, 0, False], [38040, False, False, True, False, 0, False], [38430, False, False, True, False, 0, False], [38880, False, False, True, False, 0, False], [39300, False, False, True, False, 0, False], [39750, False, False, True, False, 0, False], [40410, False, False, True, False, 0, False], [41100, False, False, True, False, 0, False], [41610, False, False, True, False, 0, False], [42060, False, False, True, False, 0, False], [42480, False, False, True, False, 0, False], [43110, False, False, True, False, 0, False]]\n",
      "[[25200, True, False, False, True, 0, False], [25860, False, False, True, False, 0, False], [27210, False, False, True, False, 0, False], [27660, False, False, True, False, 0, False], [28110, False, False, True, False, 0, False], [28530, False, False, True, False, 0, False], [28980, False, False, True, False, 0, False], [29430, False, False, True, False, 0, False], [30030, False, False, True, False, 0, False], [30690, False, False, True, False, 0, False], [31050, False, False, True, False, 0, False], [31440, False, False, True, False, 0, False], [32160, False, False, True, False, 0, False], [32550, False, False, True, False, 0, False], [32940, False, False, True, False, 0, False], [33690, False, False, True, False, 0, False], [34230, False, False, True, False, 0, False], [34830, False, False, True, False, 0, False], [35310, False, False, True, False, 0, False], [36030, False, False, True, False, 0, False], [37590, False, False, True, False, 0, False], [38850, False, False, True, False, 0, False], [39360, False, False, True, False, 0, False], [39900, False, False, True, False, 0, False], [40320, False, False, True, False, 0, False], [40770, False, False, True, False, 0, False], [41160, False, False, True, False, 0, False], [41460, False, False, True, False, 0, False], [42060, False, False, True, False, 0, False], [42840, False, False, True, False, 0, False]]\n",
      "[[25200, True, False, False, True, 0, False], [25800, False, False, True, False, 0, False], [26250, False, False, True, False, 0, False], [26640, False, False, True, False, 0, False], [27360, False, False, True, False, 0, False], [27780, False, False, True, False, 0, False], [28320, False, False, True, False, 0, False], [29040, False, False, True, False, 0, False], [29760, False, False, True, False, 0, False], [30210, False, False, True, False, 0, False], [30570, False, False, True, False, 0, False], [30990, False, False, True, False, 0, False], [31740, False, False, True, False, 0, False], [32340, False, False, True, False, 0, False], [33360, False, False, True, False, 0, False], [33660, False, False, True, False, 0, False], [34050, False, False, True, False, 0, False], [34500, False, False, True, False, 0, False], [34890, False, False, True, False, 0, False], [35610, False, False, True, False, 0, False], [36060, False, False, True, False, 0, False], [36840, False, False, True, False, 0, False], [37440, False, False, True, False, 0, False], [37770, False, False, True, False, 0, False], [38580, False, False, True, False, 0, False], [39180, False, False, True, False, 0, False], [39660, False, False, True, False, 0, False], [40350, False, False, True, False, 0, False], [40770, False, False, True, False, 0, False], [41520, False, False, True, False, 0, False], [41880, False, False, True, False, 0, False], [42690, False, False, True, False, 0, False], [43050, False, False, True, False, 0, False]]\n",
      "[[25200, True, False, False, True, 0, False], [25560, False, False, True, False, 0, False], [26040, False, False, True, False, 0, False], [26460, False, False, True, False, 0, False], [28050, False, False, True, False, 0, False], [28950, False, False, True, False, 0, False], [29400, False, False, True, False, 0, False], [30390, False, False, True, False, 0, False], [30750, False, False, True, False, 0, False], [31350, False, False, True, False, 0, False], [31740, False, False, True, False, 0, False], [32130, False, False, True, False, 0, False], [32460, False, False, True, False, 0, False], [32910, False, False, True, False, 0, False], [33630, False, False, True, False, 0, False], [34200, False, False, True, False, 0, False], [35880, False, False, True, False, 0, False], [36930, False, False, True, False, 0, False], [37830, False, False, True, False, 0, False], [39240, False, False, True, False, 0, False], [39600, False, False, True, False, 0, False], [40440, False, False, True, False, 0, False], [40860, False, False, True, False, 0, False], [41610, False, False, True, False, 0, False], [41940, False, False, True, False, 0, False]]\n",
      "[[25200, True, False, False, True, 0, False], [25620, False, False, True, False, 0, False], [26040, False, False, True, False, 0, False], [26490, False, False, True, False, 0, False], [27270, False, False, True, False, 0, False], [28080, False, False, True, False, 0, False], [28590, False, False, True, False, 0, False], [29190, False, False, True, False, 0, False], [29820, False, False, True, False, 0, False], [30210, False, False, True, False, 0, False], [30630, False, False, True, False, 0, False], [31140, False, False, True, False, 0, False], [31560, False, False, True, False, 0, False], [31950, False, False, True, False, 0, False], [32670, False, False, True, False, 0, False], [33210, False, False, True, False, 0, False], [34290, False, False, True, False, 0, False], [34620, False, False, True, False, 0, False], [35010, False, False, True, False, 0, False], [35460, False, False, True, False, 0, False], [35850, False, False, True, False, 0, False], [36300, False, False, True, False, 0, False], [36900, False, False, True, False, 0, False], [37290, False, False, True, False, 0, False], [38130, False, False, True, False, 0, False], [38760, False, False, True, False, 0, False], [39090, False, False, True, False, 0, False], [39480, False, False, True, False, 0, False], [40920, False, False, True, False, 0, False], [41370, False, False, True, False, 0, False], [41820, False, False, True, False, 0, False]]\n",
      "[[25200, True, False, False, True, 0, False], [25740, False, False, True, False, 0, False], [26340, False, False, True, False, 0, False], [26790, False, False, True, False, 0, False], [27300, False, False, True, False, 0, False], [27660, False, False, True, False, 0, False], [28260, False, False, True, False, 0, False], [28740, False, False, True, False, 0, False], [29850, False, False, True, False, 0, False], [30240, False, False, True, False, 0, False], [31530, False, False, True, False, 0, False], [32160, False, False, True, False, 0, False], [32550, False, False, True, False, 0, False], [32940, False, False, True, False, 0, False], [33420, False, False, True, False, 0, False], [34020, False, False, True, False, 0, False], [34530, False, False, True, False, 0, False], [34920, False, False, True, False, 0, False], [35280, False, False, True, False, 0, False], [35880, False, False, True, False, 0, False], [36540, False, False, True, False, 0, False], [36870, False, False, True, False, 0, False], [37260, False, False, True, False, 0, False], [38040, False, False, True, False, 0, False], [39990, False, False, True, False, 0, False], [40680, False, False, True, False, 0, False], [41130, False, False, True, False, 0, False], [41490, False, False, True, False, 0, False], [42390, False, False, True, False, 0, False], [42960, False, False, True, False, 0, False]]\n",
      "[[25200, True, False, False, True, 0, False], [25980, False, False, True, False, 0, False], [26370, False, False, True, False, 0, False], [26730, False, False, True, False, 0, False], [27420, False, False, True, False, 0, False], [27840, False, False, True, False, 0, False], [28950, False, False, True, False, 0, False], [29370, False, False, True, False, 0, False], [29970, False, False, True, False, 0, False], [30390, False, False, True, False, 0, False], [30990, False, False, True, False, 0, False], [32310, False, False, True, False, 0, False], [32670, False, False, True, False, 0, False], [33270, False, False, True, False, 0, False], [33660, False, False, True, False, 0, False], [34350, False, False, True, False, 0, False], [36360, False, False, True, False, 0, False], [36960, False, False, True, False, 0, False], [37350, False, False, True, False, 0, False], [37740, False, False, True, False, 0, False], [39270, False, False, True, False, 0, False], [40380, False, False, True, False, 0, False], [40890, False, False, True, False, 0, False], [41310, False, False, True, False, 0, False], [41910, False, False, True, False, 0, False], [42600, False, False, True, False, 0, False], [42960, False, False, True, False, 0, False]]\n",
      "[[25200, True, False, False, True, 0, False], [25590, False, False, True, False, 0, False], [26460, False, False, True, False, 0, False], [26760, False, False, True, False, 0, False], [27330, False, False, True, False, 0, False], [27780, False, False, True, False, 0, False], [28830, False, False, True, False, 0, False], [29370, False, False, True, False, 0, False], [29850, False, False, True, False, 0, False], [30210, False, False, True, False, 0, False], [30810, False, False, True, False, 0, False], [31290, False, False, True, False, 0, False], [31710, False, False, True, False, 0, False], [32130, False, False, True, False, 0, False], [32580, False, False, True, False, 0, False], [32940, False, False, True, False, 0, False], [33450, False, False, True, False, 0, False], [33870, False, False, True, False, 0, False], [34920, False, False, True, False, 0, False], [35250, False, False, True, False, 0, False], [35550, False, False, True, False, 0, False], [35850, False, False, True, False, 0, False], [36210, False, False, True, False, 0, False], [37140, False, False, True, False, 0, False], [38250, False, False, True, False, 0, False], [38760, False, False, True, False, 0, False], [39240, False, False, True, False, 0, False], [39630, False, False, True, False, 0, False], [40710, False, False, True, False, 0, False], [41280, False, False, True, False, 0, False], [41670, False, False, True, False, 0, False], [41970, False, False, True, False, 0, False], [42270, False, False, True, False, 0, False], [42660, False, False, True, False, 0, False]]\n",
      "[[25200, True, False, False, True, 0, False], [25890, False, False, True, False, 0, False], [26250, False, False, True, False, 0, False], [27090, False, False, True, False, 0, False], [27480, False, False, True, False, 0, False], [28050, False, False, True, False, 0, False], [28380, False, False, True, False, 0, False], [28830, False, False, True, False, 0, False], [29430, False, False, True, False, 0, False], [30960, False, False, True, False, 0, False], [31800, False, False, True, False, 0, False], [32280, False, False, True, False, 0, False], [33420, False, False, True, False, 0, False], [33990, False, False, True, False, 0, False], [34470, False, False, True, False, 0, False], [34800, False, False, True, False, 0, False], [35820, False, False, True, False, 0, False], [36270, False, False, True, False, 0, False], [36690, False, False, True, False, 0, False], [37230, False, False, True, False, 0, False], [38160, False, False, True, False, 0, False], [38520, False, False, True, False, 0, False], [38880, False, False, True, False, 0, False], [39480, False, False, True, False, 0, False], [39870, False, False, True, False, 0, False], [40380, False, False, True, False, 0, False], [41160, False, False, True, False, 0, False], [41640, False, False, True, False, 0, False], [42000, False, False, True, False, 0, False], [42600, False, False, True, False, 0, False]]\n",
      "[[25200, True, False, False, True, 0, False], [25620, False, False, True, False, 0, False], [26130, False, False, True, False, 0, False], [26550, False, False, True, False, 0, False], [27330, False, False, True, False, 0, False], [27840, False, False, True, False, 0, False], [28440, False, False, True, False, 0, False], [28950, False, False, True, False, 0, False], [29370, False, False, True, False, 0, False], [29790, False, False, True, False, 0, False], [30240, False, False, True, False, 0, False], [30540, False, False, True, False, 0, False], [31050, False, False, True, False, 0, False], [31650, False, False, True, False, 0, False], [32220, False, False, True, False, 0, False], [32700, False, False, True, False, 0, False], [33330, False, False, True, False, 0, False], [33900, False, False, True, False, 0, False], [35490, False, False, True, False, 0, False], [35850, False, False, True, False, 0, False], [36330, False, False, True, False, 0, False], [36720, False, False, True, False, 0, False], [37140, False, False, True, False, 0, False], [37560, False, False, True, False, 0, False], [38640, False, False, True, False, 0, False], [39030, False, False, True, False, 0, False], [39720, False, False, True, False, 0, False], [40890, False, False, True, False, 0, False], [41460, False, False, True, False, 0, False], [42180, False, False, True, False, 0, False], [42510, False, False, True, False, 0, False], [42870, False, False, True, False, 0, False]]\n",
      "[[25200, True, False, False, True, 0, False], [25680, False, False, True, False, 0, False], [26340, False, False, True, False, 0, False], [26730, False, False, True, False, 0, False], [27360, False, False, True, False, 0, False], [27690, False, False, True, False, 0, False], [29640, False, False, True, False, 0, False], [30060, False, False, True, False, 0, False], [31020, False, False, True, False, 0, False], [31740, False, False, True, False, 0, False], [33330, False, False, True, False, 0, False], [33780, False, False, True, False, 0, False], [34260, False, False, True, False, 0, False], [34650, False, False, True, False, 0, False], [35250, False, False, True, False, 0, False], [36420, False, False, True, False, 0, False], [36810, False, False, True, False, 0, False], [37170, False, False, True, False, 0, False], [37800, False, False, True, False, 0, False], [38250, False, False, True, False, 0, False], [39240, False, False, True, False, 0, False], [39990, False, False, True, False, 0, False], [40800, False, False, True, False, 0, False], [41790, False, False, True, False, 0, False], [42180, False, False, True, False, 0, False], [42810, False, False, True, False, 0, False]]\n",
      "[[25200, True, False, False, True, 0, False], [26040, False, False, True, False, 0, False], [26670, False, False, True, False, 0, False], [27060, False, False, True, False, 0, False], [27450, False, False, True, False, 0, False], [27780, False, False, True, False, 0, False], [28350, False, False, True, False, 0, False], [28710, False, False, True, False, 0, False], [29010, False, False, True, False, 0, False], [29370, False, False, True, False, 0, False], [29880, False, False, True, False, 0, False], [30300, False, False, True, False, 0, False], [30840, False, False, True, False, 0, False], [31170, False, False, True, False, 0, False], [31830, False, False, True, False, 0, False], [32220, False, False, True, False, 0, False], [32670, False, False, True, False, 0, False], [33360, False, False, True, False, 0, False], [33870, False, False, True, False, 0, False], [34680, False, False, True, False, 0, False], [35070, False, False, True, False, 0, False], [35490, False, False, True, False, 0, False], [35850, False, False, True, False, 0, False], [36660, False, False, True, False, 0, False], [37140, False, False, True, False, 0, False], [38370, False, False, True, False, 0, False], [39810, False, False, True, False, 0, False], [40470, False, False, True, False, 0, False], [41250, False, False, True, False, 0, False], [42030, False, False, True, False, 0, False], [42480, False, False, True, False, 0, False], [43110, False, False, True, False, 0, False]]\n",
      "[[25200, True, False, False, True, 0, False], [25620, False, False, True, False, 0, False], [26700, False, False, True, False, 0, False], [27120, False, False, True, False, 0, False], [27900, False, False, True, False, 0, False], [28560, False, False, True, False, 0, False], [30180, False, False, True, False, 0, False], [30570, False, False, True, False, 0, False], [31980, False, False, True, False, 0, False], [32730, False, False, True, False, 0, False], [33150, False, False, True, False, 0, False], [33540, False, False, True, False, 0, False], [33960, False, False, True, False, 0, False], [34740, False, False, True, False, 0, False], [35730, False, False, True, False, 0, False], [36060, False, False, True, False, 0, False], [36660, False, False, True, False, 0, False], [36960, False, False, True, False, 0, False], [37290, False, False, True, False, 0, False], [37680, False, False, True, False, 0, False], [38070, False, False, True, False, 0, False], [38460, False, False, True, False, 0, False], [38880, False, False, True, False, 0, False], [39450, False, False, True, False, 0, False], [39780, False, False, True, False, 0, False], [40230, False, False, True, False, 0, False], [40620, False, False, True, False, 0, False], [41070, False, False, True, False, 0, False], [41550, False, False, True, False, 0, False], [41970, False, False, True, False, 0, False], [42480, False, False, True, False, 0, False], [42870, False, False, True, False, 0, False]]\n",
      "[[25200, True, False, False, True, 0, False], [25830, False, False, True, False, 0, False], [26460, False, False, True, False, 0, False], [26760, False, False, True, False, 0, False], [27180, False, False, True, False, 0, False], [27600, False, False, True, False, 0, False], [28410, False, False, True, False, 0, False], [28860, False, False, True, False, 0, False], [29280, False, False, True, False, 0, False], [29970, False, False, True, False, 0, False], [30450, False, False, True, False, 0, False], [30870, False, False, True, False, 0, False], [31680, False, False, True, False, 0, False], [32130, False, False, True, False, 0, False], [32520, False, False, True, False, 0, False], [33060, False, False, True, False, 0, False], [33420, False, False, True, False, 0, False], [34830, False, False, True, False, 0, False], [35940, False, False, True, False, 0, False], [36360, False, False, True, False, 0, False], [36720, False, False, True, False, 0, False], [37290, False, False, True, False, 0, False], [37650, False, False, True, False, 0, False], [38340, False, False, True, False, 0, False], [38700, False, False, True, False, 0, False], [39060, False, False, True, False, 0, False], [39450, False, False, True, False, 0, False], [39810, False, False, True, False, 0, False], [40140, False, False, True, False, 0, False], [40590, False, False, True, False, 0, False], [41040, False, False, True, False, 0, False], [41730, False, False, True, False, 0, False], [42210, False, False, True, False, 0, False], [42750, False, False, True, False, 0, False]]\n",
      "[[25200, True, False, False, True, 0, False], [25740, False, False, True, False, 0, False], [26250, False, False, True, False, 0, False], [26910, False, False, True, False, 0, False], [27420, False, False, True, False, 0, False], [27870, False, False, True, False, 0, False], [28650, False, False, True, False, 0, False], [29520, False, False, True, False, 0, False], [30060, False, False, True, False, 0, False], [30420, False, False, True, False, 0, False], [30780, False, False, True, False, 0, False], [31230, False, False, True, False, 0, False], [31890, False, False, True, False, 0, False], [32550, False, False, True, False, 0, False], [33570, False, False, True, False, 0, False], [34050, False, False, True, False, 0, False], [34890, False, False, True, False, 0, False], [35340, False, False, True, False, 0, False], [35940, False, False, True, False, 0, False], [37230, False, False, True, False, 0, False], [38010, False, False, True, False, 0, False], [38490, False, False, True, False, 0, False], [39390, False, False, True, False, 0, False], [39690, False, False, True, False, 0, False], [40560, False, False, True, False, 0, False], [41070, False, False, True, False, 0, False], [41520, False, False, True, False, 0, False], [42150, False, False, True, False, 0, False], [43080, False, False, True, False, 0, False]]\n",
      "[[25200, True, False, False, True, 0, False], [25560, False, False, True, False, 0, False], [26250, False, False, True, False, 0, False], [26670, False, False, True, False, 0, False], [27090, False, False, True, False, 0, False], [27990, False, False, True, False, 0, False], [28380, False, False, True, False, 0, False], [28800, False, False, True, False, 0, False], [29400, False, False, True, False, 0, False], [29970, False, False, True, False, 0, False], [30300, False, False, True, False, 0, False], [30810, False, False, True, False, 0, False], [31170, False, False, True, False, 0, False], [32070, False, False, True, False, 0, False], [33810, False, False, True, False, 0, False], [34350, False, False, True, False, 0, False], [34830, False, False, True, False, 0, False], [35760, False, False, True, False, 0, False], [36000, False, False, True, False, 0, False], [36870, False, False, True, False, 0, False], [37350, False, False, True, False, 0, False], [37770, False, False, True, False, 0, False], [38100, False, False, True, False, 0, False], [38850, False, False, True, False, 0, False], [39420, False, False, True, False, 0, False], [40590, False, False, True, False, 0, False], [40890, False, False, True, False, 0, False], [41790, False, False, True, False, 0, False], [42990, False, False, True, False, 0, False]]\n",
      "[[25200, True, False, False, True, 0, False], [25740, False, False, True, False, 0, False], [26490, False, False, True, False, 0, False], [26910, False, False, True, False, 0, False], [27840, False, False, True, False, 0, False], [29520, False, False, True, False, 0, False], [29940, False, False, True, False, 0, False], [30450, False, False, True, False, 0, False], [31200, False, False, True, False, 0, False], [32310, False, False, True, False, 0, False], [32940, False, False, True, False, 0, False], [33420, False, False, True, False, 0, False], [34890, False, False, True, False, 0, False], [35400, False, False, True, False, 0, False], [36420, False, False, True, False, 0, False], [37020, False, False, True, False, 0, False], [37560, False, False, True, False, 0, False], [37920, False, False, True, False, 0, False], [38280, False, False, True, False, 0, False], [38760, False, False, True, False, 0, False], [39780, False, False, True, False, 0, False], [40170, False, False, True, False, 0, False], [41190, False, False, True, False, 0, False], [41490, False, False, True, False, 0, False], [41970, False, False, True, False, 0, False], [42720, False, False, True, False, 0, False]]\n",
      "[[25200, True, False, False, True, 0, False], [25650, True, False, False, True, 0.25, True], [26220, True, False, False, True, 0, True], [27720, False, False, True, False, 0, False], [28260, False, False, True, False, 0, False], [29220, False, False, True, False, 0, False], [29820, False, False, True, False, 0, False], [30240, False, False, True, False, 0, False], [30600, False, False, True, False, 0, False], [30960, False, False, True, False, 0, False], [31320, False, False, True, False, 0, False], [33000, False, False, True, False, 0, False], [33750, False, False, True, False, 0, False], [34080, False, False, True, False, 0, False], [34830, False, False, True, False, 0, False], [35820, False, False, True, False, 0, False], [36690, False, False, True, False, 0, False], [37170, False, False, True, False, 0, False], [37710, False, False, True, False, 0, False], [38190, False, False, True, False, 0, False], [38700, False, False, True, False, 0, False], [39060, False, False, True, False, 0, False], [39990, False, False, True, False, 0, False], [40350, False, False, True, False, 0, False], [41190, False, False, True, False, 0, False], [41700, False, False, True, False, 0, False], [42150, False, False, True, False, 0, False], [42750, False, False, True, False, 0, False], [43110, False, False, True, False, 0, False]]\n",
      "[[25200, True, False, False, True, 0, False], [26130, False, False, True, False, 0, False], [26490, False, False, True, False, 0, False], [26970, False, False, True, False, 0, False], [28320, False, False, True, False, 0, False], [29310, False, False, True, False, 0, False], [29670, False, False, True, False, 0, False], [30300, False, False, True, False, 0, False], [30750, False, False, True, False, 0, False], [31050, False, False, True, False, 0, False], [31590, False, False, True, False, 0, False], [31920, False, False, True, False, 0, False], [32310, False, False, True, False, 0, False], [32730, False, False, True, False, 0, False], [33090, False, False, True, False, 0, False], [33480, False, False, True, False, 0, False], [33960, False, False, True, False, 0, False], [34530, False, False, True, False, 0, False], [36000, False, False, True, False, 0, False], [36390, False, False, True, False, 0, False], [37320, False, False, True, False, 0, False], [37860, False, False, True, False, 0, False], [38430, False, False, True, False, 0, False], [39300, False, False, True, False, 0, False], [39600, False, False, True, False, 0, False], [39990, False, False, True, False, 0, False], [40410, False, False, True, False, 0, False], [40980, False, False, True, False, 0, False], [41460, False, False, True, False, 0, False], [41820, False, False, True, False, 0, False], [42210, False, False, True, False, 0, False], [42540, False, False, True, False, 0, False], [42930, False, False, True, False, 0, False]]\n",
      "[[25200, True, False, False, True, 0, False], [25470, False, False, True, False, 0, False], [25800, False, False, True, False, 0, False], [26430, False, False, True, False, 0, False], [26790, False, False, True, False, 0, False], [27420, False, False, True, False, 0, False], [28320, False, False, True, False, 0, False], [28620, False, False, True, False, 0, False], [29130, False, False, True, False, 0, False], [29640, False, False, True, False, 0, False], [30090, False, False, True, False, 0, False], [30450, False, False, True, False, 0, False], [30810, False, False, True, False, 0, False], [31320, False, False, True, False, 0, False], [31620, False, False, True, False, 0, False], [32010, False, False, True, False, 0, False], [32460, False, False, True, False, 0, False], [32910, False, False, True, False, 0, False], [33570, False, False, True, False, 0, False], [34260, False, False, True, False, 0, False], [35820, False, False, True, False, 0, False], [36450, False, False, True, False, 0, False], [36780, False, False, True, False, 0, False], [37290, False, False, True, False, 0, False], [37920, False, False, True, False, 0, False], [38550, False, False, True, False, 0, False], [40140, False, False, True, False, 0, False], [41490, False, False, True, False, 0, False], [41940, False, False, True, False, 0, False], [42330, False, False, True, False, 0, False], [42810, False, False, True, False, 0, False]]\n",
      "[[25200, True, False, False, True, 0, False], [25620, False, False, True, False, 0, False], [26100, False, False, True, False, 0, False], [26550, False, False, True, False, 0, False], [27060, False, False, True, False, 0, False], [27750, False, False, True, False, 0, False], [29010, False, False, True, False, 0, False], [30930, False, False, True, False, 0, False], [31920, False, False, True, False, 0, False], [32610, False, False, True, False, 0, False], [33450, False, False, True, False, 0, False], [34350, False, False, True, False, 0, False], [34740, False, False, True, False, 0, False], [35340, False, False, True, False, 0, False], [35880, False, False, True, False, 0, False], [36690, False, False, True, False, 0, False], [37080, False, False, True, False, 0, False], [38940, False, False, True, False, 0, False], [39360, False, False, True, False, 0, False], [40530, False, False, True, False, 0, False], [41160, False, False, True, False, 0, False], [41460, False, False, True, False, 0, False], [41820, False, False, True, False, 0, False], [42480, False, False, True, False, 0, False]]\n",
      "[[25200, True, False, False, True, 0, False], [26190, False, False, True, False, 0, False], [26610, False, False, True, False, 0, False], [26970, False, False, True, False, 0, False], [27390, False, False, True, False, 0, False], [28020, False, False, True, False, 0, False], [29070, False, False, True, False, 0, False], [29490, False, False, True, False, 0, False], [29910, False, False, True, False, 0, False], [30480, False, False, True, False, 0, False], [30900, False, False, True, False, 0, False], [31530, False, False, True, False, 0, False], [32010, False, False, True, False, 0, False], [32820, False, False, True, False, 0, False], [33390, False, False, True, False, 0, False], [33840, False, False, True, False, 0, False], [34290, False, False, True, False, 0, False], [34830, False, False, True, False, 0, False], [35310, False, False, True, False, 0, False], [35730, False, False, True, False, 0, False], [36210, False, False, True, False, 0, False], [37830, False, False, True, False, 0, False], [38490, False, False, True, False, 0, False], [39030, False, False, True, False, 0, False], [39480, False, False, True, False, 0, False], [40080, False, False, True, False, 0, False], [40740, False, False, True, False, 0, False], [41670, False, False, True, False, 0, False], [42150, False, False, True, False, 0, False], [42840, False, False, True, False, 0, False]]\n",
      "[[25200, True, False, False, True, 0, False], [25590, False, False, True, False, 0, False], [26100, False, False, True, False, 0, False], [26490, False, False, True, False, 0, False], [27540, False, False, True, False, 0, False], [27840, False, False, True, False, 0, False], [28860, False, False, True, False, 0, False], [29250, False, False, True, False, 0, False], [29790, False, False, True, False, 0, False], [31230, False, False, True, False, 0, False], [32820, False, False, True, False, 0, False], [33180, False, False, True, False, 0, False], [33810, False, False, True, False, 0, False], [34140, False, False, True, False, 0, False], [34500, False, False, True, False, 0, False], [34920, False, False, True, False, 0, False], [35370, False, False, True, False, 0, False], [35970, False, False, True, False, 0, False], [36450, False, False, True, False, 0, False], [36810, False, False, True, False, 0, False], [37110, False, False, True, False, 0, False], [37500, False, False, True, False, 0, False], [38220, False, False, True, False, 0, False], [38760, False, False, True, False, 0, False], [39840, False, False, True, False, 0, False], [41460, False, False, True, False, 0, False], [42270, False, False, True, False, 0, False], [42780, False, False, True, False, 0, False]]\n",
      "[[25200, True, False, False, True, 0, False], [25620, False, False, True, False, 0, False], [25890, False, False, True, False, 0, False], [26460, False, False, True, False, 0, False], [28350, False, False, True, False, 0, False], [29370, False, False, True, False, 0, False], [29760, False, False, True, False, 0, False], [30480, False, False, True, False, 0, False], [31080, False, False, True, False, 0, False], [31920, False, False, True, False, 0, False], [33150, False, False, True, False, 0, False], [33510, False, False, True, False, 0, False], [33900, False, False, True, False, 0, False], [34350, False, False, True, False, 0, False], [34950, False, False, True, False, 0, False], [35550, False, False, True, False, 0, False], [35970, False, False, True, False, 0, False], [36840, False, False, True, False, 0, False], [37440, False, False, True, False, 0, False], [37950, False, False, True, False, 0, False], [38880, False, False, True, False, 0, False], [39300, False, False, True, False, 0, False], [39600, False, False, True, False, 0, False], [40170, False, False, True, False, 0, False], [40710, False, False, True, False, 0, False], [41190, False, False, True, False, 0, False], [41490, False, False, True, False, 0, False], [41850, False, False, True, False, 0, False], [42300, False, False, True, False, 0, False], [42780, False, False, True, False, 0, False], [43140, False, False, True, False, 0, False]]\n",
      "[[25200, True, False, False, True, 0, False], [25920, False, False, True, False, 0, False], [26400, False, False, True, False, 0, False], [27150, False, False, True, False, 0, False], [28080, False, False, True, False, 0, False], [28680, False, False, True, False, 0, False], [29040, False, False, True, False, 0, False], [29400, False, False, True, False, 0, False], [29820, False, False, True, False, 0, False], [30540, False, False, True, False, 0, False], [31770, False, False, True, False, 0, False], [32130, False, False, True, False, 0, False], [33270, False, False, True, False, 0, False], [34260, False, False, True, False, 0, False], [34770, False, False, True, False, 0, False], [35460, False, False, True, False, 0, False], [35850, False, False, True, False, 0, False], [37200, False, False, True, False, 0, False], [37680, False, False, True, False, 0, False], [38400, False, False, True, False, 0, False], [39690, False, False, True, False, 0, False], [40140, False, False, True, False, 0, False], [42000, False, False, True, False, 0, False]]\n",
      "[[25200, True, False, False, True, 0, False], [25560, False, False, True, False, 0, False], [26400, False, False, True, False, 0, False], [26700, False, False, True, False, 0, False], [27300, False, False, True, False, 0, False], [27750, False, False, True, False, 0, False], [28410, False, False, True, False, 0, False], [28770, False, False, True, False, 0, False], [29190, False, False, True, False, 0, False], [29580, False, False, True, False, 0, False], [30360, False, False, True, False, 0, False], [30780, False, False, True, False, 0, False], [31440, False, False, True, False, 0, False], [32370, False, False, True, False, 0, False], [33360, False, False, True, False, 0, False], [33720, False, False, True, False, 0, False], [34470, False, False, True, False, 0, False], [34860, False, False, True, False, 0, False], [35550, False, False, True, False, 0, False], [35970, False, False, True, False, 0, False], [36990, False, False, True, False, 0, False], [38220, False, False, True, False, 0, False], [39300, False, False, True, False, 0, False], [39660, False, False, True, False, 0, False], [40050, False, False, True, False, 0, False], [40560, False, False, True, False, 0, False], [41040, False, False, True, False, 0, False], [41610, False, False, True, False, 0, False], [43170, False, False, True, False, 0, False]]\n",
      "[[25200, True, False, False, True, 0, False], [25560, False, False, True, False, 0, False], [26130, False, False, True, False, 0, False], [27180, False, False, True, False, 0, False], [27780, False, False, True, False, 0, False], [28350, False, False, True, False, 0, False], [28830, False, False, True, False, 0, False], [29610, False, False, True, False, 0, False], [30060, False, False, True, False, 0, False], [30540, False, False, True, False, 0, False], [30990, False, False, True, False, 0, False], [31710, False, False, True, False, 0, False], [32490, False, False, True, False, 0, False], [33060, False, False, True, False, 0, False], [33540, False, False, True, False, 0, False], [34050, False, False, True, False, 0, False], [34860, False, False, True, False, 0, False], [35400, False, False, True, False, 0, False], [35880, False, False, True, False, 0, False], [36210, False, False, True, False, 0, False], [36660, False, False, True, False, 0, False], [37080, False, False, True, False, 0, False], [37470, False, False, True, False, 0, False], [38400, False, False, True, False, 0, False], [38820, False, False, True, False, 0, False], [39480, False, False, True, False, 0, False], [40110, False, False, True, False, 0, False], [40710, False, False, True, False, 0, False], [41280, False, False, True, False, 0, False]]\n",
      "[[25200, True, False, False, True, 0, False], [25710, False, False, True, False, 0, False], [26040, False, False, True, False, 0, False], [26460, False, False, True, False, 0, False], [28020, False, False, True, False, 0, False], [29430, False, False, True, False, 0, False], [29820, False, False, True, False, 0, False], [32250, False, False, True, False, 0, False], [33240, False, False, True, False, 0, False], [34290, False, False, True, False, 0, False], [34680, False, False, True, False, 0, False], [35040, False, False, True, False, 0, False], [35820, False, False, True, False, 0, False], [36210, False, False, True, False, 0, False], [36840, False, False, True, False, 0, False], [37200, False, False, True, False, 0, False], [37830, False, False, True, False, 0, False], [39000, False, False, True, False, 0, False], [39720, False, False, True, False, 0, False], [40110, False, False, True, False, 0, False], [40530, False, False, True, False, 0, False], [41070, False, False, True, False, 0, False], [41370, False, False, True, False, 0, False], [42090, False, False, True, False, 0, False], [42840, False, False, True, False, 0, False]]\n",
      "[[25200, True, False, False, True, 0, False], [26010, False, False, True, False, 0, False], [27060, False, False, True, False, 0, False], [27420, False, False, True, False, 0, False], [27780, False, False, True, False, 0, False], [28140, False, False, True, False, 0, False], [28560, False, False, True, False, 0, False], [29970, False, False, True, False, 0, False], [30630, False, False, True, False, 0, False], [31170, False, False, True, False, 0, False], [31590, False, False, True, False, 0, False], [32040, False, False, True, False, 0, False], [32730, False, False, True, False, 0, False], [33780, False, False, True, False, 0, False], [34260, False, False, True, False, 0, False], [34650, False, False, True, False, 0, False], [35040, False, False, True, False, 0, False], [35490, False, False, True, False, 0, False], [36090, False, False, True, False, 0, False], [36840, False, False, True, False, 0, False], [37260, False, False, True, False, 0, False], [37950, False, False, True, False, 0, False], [38490, False, False, True, False, 0, False], [39090, False, False, True, False, 0, False], [39570, False, False, True, False, 0, False], [39930, False, False, True, False, 0, False], [40290, False, False, True, False, 0, False], [40710, False, False, True, False, 0, False], [41340, False, False, True, False, 0, False], [41820, False, False, True, False, 0, False], [42210, False, False, True, False, 0, False], [42990, False, False, True, False, 0, False]]\n",
      "[[25200, True, False, False, True, 0, False], [25710, False, False, True, False, 0, False], [26100, False, False, True, False, 0, False], [26490, False, False, True, False, 0, False], [26820, False, False, True, False, 0, False], [27180, False, False, True, False, 0, False], [27660, False, False, True, False, 0, False], [28080, False, False, True, False, 0, False], [29130, False, False, True, False, 0, False], [29700, False, False, True, False, 0, False], [30300, False, False, True, False, 0, False], [30750, False, False, True, False, 0, False], [31050, False, False, True, False, 0, False], [31560, False, False, True, False, 0, False], [32160, False, False, True, False, 0, False], [32790, False, False, True, False, 0, False], [33240, False, False, True, False, 0, False], [33870, False, False, True, False, 0, False], [35130, False, False, True, False, 0, False], [35550, False, False, True, False, 0, False], [36180, False, False, True, False, 0, False], [36930, False, False, True, False, 0, False], [37500, False, False, True, False, 0, False], [37980, False, False, True, False, 0, False], [38400, False, False, True, False, 0, False], [38820, False, False, True, False, 0, False], [39210, False, False, True, False, 0, False], [40020, False, False, True, False, 0, False], [40470, False, False, True, False, 0, False], [40950, False, False, True, False, 0, False], [41280, False, False, True, False, 0, False], [41670, False, False, True, False, 0, False], [42000, False, False, True, False, 0, False], [42510, False, False, True, False, 0, False], [42870, False, False, True, False, 0, False]]\n",
      "[[25200, True, False, False, True, 0, False], [25680, False, False, True, False, 0, False], [26160, False, False, True, False, 0, False], [26700, False, False, True, False, 0, False], [27300, False, False, True, False, 0, False], [27840, False, False, True, False, 0, False], [28320, False, False, True, False, 0, False], [28710, False, False, True, False, 0, False], [29430, False, False, True, False, 0, False], [29880, False, False, True, False, 0, False], [30210, False, False, True, False, 0, False], [30630, False, False, True, False, 0, False], [31080, False, False, True, False, 0, False], [32100, False, False, True, False, 0, False], [33150, False, False, True, False, 0, False], [33570, False, False, True, False, 0, False], [34350, False, False, True, False, 0, False], [35220, False, False, True, False, 0, False], [36270, False, False, True, False, 0, False], [37140, False, False, True, False, 0, False], [37710, False, False, True, False, 0, False], [38100, False, False, True, False, 0, False], [38520, False, False, True, False, 0, False], [38850, False, False, True, False, 0, False], [39240, False, False, True, False, 0, False], [39900, False, False, True, False, 0, False], [40650, False, False, True, False, 0, False], [41250, False, False, True, False, 0, False], [41700, False, False, True, False, 0, False], [42630, False, False, True, False, 0, False], [42960, False, False, True, False, 0, False]]\n",
      "[[25200, True, False, False, True, 0, False], [25860, False, False, True, False, 0, False], [27300, False, False, True, False, 0, False], [27720, False, False, True, False, 0, False], [28170, False, False, True, False, 0, False], [28650, False, False, True, False, 0, False], [29280, False, False, True, False, 0, False], [30180, False, False, True, False, 0, False], [30540, False, False, True, False, 0, False], [30960, False, False, True, False, 0, False], [31440, False, False, True, False, 0, False], [32100, False, False, True, False, 0, False], [32610, False, False, True, False, 0, False], [32970, False, False, True, False, 0, False], [33420, False, False, True, False, 0, False], [33780, False, False, True, False, 0, False], [34230, False, False, True, False, 0, False], [34710, False, False, True, False, 0, False], [35100, False, False, True, False, 0, False], [36030, False, False, True, False, 0, False], [36420, False, False, True, False, 0, False], [36870, False, False, True, False, 0, False], [37290, False, False, True, False, 0, False], [37650, False, False, True, False, 0, False], [38340, False, False, True, False, 0, False], [38760, False, False, True, False, 0, False], [39570, False, False, True, False, 0, False], [40260, False, False, True, False, 0, False], [40590, False, False, True, False, 0, False], [42150, False, False, True, False, 0, False]]\n",
      "[[25200, True, False, False, True, 0, False], [25590, False, False, True, False, 0, False], [26040, False, False, True, False, 0, False], [26460, False, False, True, False, 0, False], [26970, False, False, True, False, 0, False], [27270, False, False, True, False, 0, False], [27630, False, False, True, False, 0, False], [28230, False, False, True, False, 0, False], [29610, False, False, True, False, 0, False], [30000, False, False, True, False, 0, False], [30420, False, False, True, False, 0, False], [30810, False, False, True, False, 0, False], [31140, False, False, True, False, 0, False], [32040, False, False, True, False, 0, False], [32580, False, False, True, False, 0, False], [33450, False, False, True, False, 0, False], [33870, False, False, True, False, 0, False], [34350, False, False, True, False, 0, False], [36090, False, False, True, False, 0, False], [36690, False, False, True, False, 0, False], [37110, False, False, True, False, 0, False], [37620, False, False, True, False, 0, False], [38010, False, False, True, False, 0, False], [38940, False, False, True, False, 0, False], [39330, False, False, True, False, 0, False], [39750, False, False, True, False, 0, False], [40170, False, False, True, False, 0, False], [40740, False, False, True, False, 0, False], [41310, False, False, True, False, 0, False], [41790, False, False, True, False, 0, False], [42180, False, False, True, False, 0, False], [42990, False, False, True, False, 0, False]]\n",
      "[[25200, True, False, False, True, 0, False], [25800, False, False, True, False, 0, False], [26520, False, False, True, False, 0, False], [27300, False, False, True, False, 0, False], [28440, False, False, True, False, 0, False], [29550, False, False, True, False, 0, False], [30150, False, False, True, False, 0, False], [30570, False, False, True, False, 0, False], [31230, False, False, True, False, 0, False], [31890, False, False, True, False, 0, False], [32220, False, False, True, False, 0, False], [32850, False, False, True, False, 0, False], [33270, False, False, True, False, 0, False], [33600, False, False, True, False, 0, False], [33930, False, False, True, False, 0, False], [34710, False, False, True, False, 0, False], [35100, False, False, True, False, 0, False], [35580, False, False, True, False, 0, False], [36870, False, False, True, False, 0, False], [37260, False, False, True, False, 0, False], [37740, False, False, True, False, 0, False], [38520, False, False, True, False, 0, False], [39360, False, False, True, False, 0, False], [39840, False, False, True, False, 0, False], [40620, False, False, True, False, 0, False], [41310, False, False, True, False, 0, False], [41880, False, False, True, False, 0, False], [42660, False, False, True, False, 0, False], [43020, False, False, True, False, 0, False]]\n",
      "[[25200, True, False, False, True, 0, False], [25500, False, False, True, False, 0, False], [25800, False, False, True, False, 0, False], [26760, False, False, True, False, 0, False], [27480, False, False, True, False, 0, False], [27870, False, False, True, False, 0, False], [28320, False, False, True, False, 0, False], [28740, False, False, True, False, 0, False], [29400, False, False, True, False, 0, False], [30150, False, False, True, False, 0, False], [31200, False, False, True, False, 0, False], [31740, False, False, True, False, 0, False], [32220, False, False, True, False, 0, False], [32820, False, False, True, False, 0, False], [33420, False, False, True, False, 0, False], [34050, False, False, True, False, 0, False], [34470, False, False, True, False, 0, False], [34890, False, False, True, False, 0, False], [35520, False, False, True, False, 0, False], [36060, False, False, True, False, 0, False], [36390, False, False, True, False, 0, False], [36900, False, False, True, False, 0, False], [37350, False, False, True, False, 0, False], [37650, False, False, True, False, 0, False], [38280, False, False, True, False, 0, False], [38970, False, False, True, False, 0, False], [39450, False, False, True, False, 0, False], [39930, False, False, True, False, 0, False], [41010, False, False, True, False, 0, False], [42960, False, False, True, False, 0, False]]\n",
      "[[25200, True, False, False, True, 0, False], [26310, False, False, True, False, 0, False], [26700, False, False, True, False, 0, False], [27570, False, False, True, False, 0, False], [28110, False, False, True, False, 0, False], [28560, False, False, True, False, 0, False], [29070, False, False, True, False, 0, False], [29460, False, False, True, False, 0, False], [30030, False, False, True, False, 0, False], [30930, False, False, True, False, 0, False], [31290, False, False, True, False, 0, False], [32730, False, False, True, False, 0, False], [34200, False, False, True, False, 0, False], [34680, False, False, True, False, 0, False], [35280, False, False, True, False, 0, False], [36180, False, False, True, False, 0, False], [36870, False, False, True, False, 0, False], [37230, False, False, True, False, 0, False], [37740, False, False, True, False, 0, False], [38280, False, False, True, False, 0, False], [38730, False, False, True, False, 0, False], [39090, False, False, True, False, 0, False], [40950, False, False, True, False, 0, False], [42030, False, False, True, False, 0, False], [42450, False, False, True, False, 0, False], [42870, False, False, True, False, 0, False]]\n",
      "[[25200, True, False, False, True, 0, False], [25770, False, False, True, False, 0, False], [26460, False, False, True, False, 0, False], [27000, False, False, True, False, 0, False], [27450, False, False, True, False, 0, False], [28080, False, False, True, False, 0, False], [28530, False, False, True, False, 0, False], [29400, False, False, True, False, 0, False], [30090, False, False, True, False, 0, False], [30750, False, False, True, False, 0, False], [31680, False, False, True, False, 0, False], [32580, False, False, True, False, 0, False], [33660, False, False, True, False, 0, False], [34440, False, False, True, False, 0, False], [34860, False, False, True, False, 0, False], [35280, False, False, True, False, 0, False], [35760, False, False, True, False, 0, False], [36120, False, False, True, False, 0, False], [36540, False, False, True, False, 0, False], [37050, False, False, True, False, 0, False], [37650, False, False, True, False, 0, False], [38130, False, False, True, False, 0, False], [38670, False, False, True, False, 0, False], [39270, False, False, True, False, 0, False], [40830, False, False, True, False, 0, False], [41310, False, False, True, False, 0, False], [42600, False, False, True, False, 0, False]]\n",
      "[[25200, True, False, False, True, 0, False], [25650, False, False, True, False, 0, False], [26040, False, False, True, False, 0, False], [26820, False, False, True, False, 0, False], [27660, False, False, True, False, 0, False], [28320, False, False, True, False, 0, False], [29130, False, False, True, False, 0, False], [29790, False, False, True, False, 0, False], [30150, False, False, True, False, 0, False], [30630, False, False, True, False, 0, False], [31500, False, False, True, False, 0, False], [32160, False, False, True, False, 0, False], [33510, False, False, True, False, 0, False], [33930, False, False, True, False, 0, False], [34320, False, False, True, False, 0, False], [34830, False, False, True, False, 0, False], [36570, False, False, True, False, 0, False], [37740, False, False, True, False, 0, False], [38070, False, False, True, False, 0, False], [38400, False, False, True, False, 0, False], [38790, False, False, True, False, 0, False], [39210, False, False, True, False, 0, False], [39570, False, False, True, False, 0, False], [40410, False, False, True, False, 0, False], [40710, False, False, True, False, 0, False], [42030, False, False, True, False, 0, False], [42870, False, False, True, False, 0, False]]\n",
      "[[25200, True, False, False, True, 0, False], [25710, False, False, True, False, 0, False], [26280, False, False, True, False, 0, False], [28320, False, False, True, False, 0, False], [28860, False, False, True, False, 0, False], [29340, False, False, True, False, 0, False], [30300, False, False, True, False, 0, False], [30840, False, False, True, False, 0, False], [31590, False, False, True, False, 0, False], [31890, False, False, True, False, 0, False], [32670, False, False, True, False, 0, False], [33060, False, False, True, False, 0, False], [33630, False, False, True, False, 0, False], [34230, False, False, True, False, 0, False], [35730, False, False, True, False, 0, False], [36510, False, False, True, False, 0, False], [36870, False, False, True, False, 0, False], [37560, False, False, True, False, 0, False], [37980, False, False, True, False, 0, False], [38340, False, False, True, False, 0, False], [39150, False, False, True, False, 0, False], [40200, False, False, True, False, 0, False], [40680, False, False, True, False, 0, False], [41280, False, False, True, False, 0, False], [41700, False, False, True, False, 0, False], [42120, False, False, True, False, 0, False]]\n",
      "[[25200, True, False, False, True, 0, False], [25590, False, False, True, False, 0, False], [26010, False, False, True, False, 0, False], [26400, False, False, True, False, 0, False], [26790, False, False, True, False, 0, False], [27150, False, False, True, False, 0, False], [27480, False, False, True, False, 0, False], [27870, False, False, True, False, 0, False], [28830, False, False, True, False, 0, False], [29220, False, False, True, False, 0, False], [29880, False, False, True, False, 0, False], [30240, False, False, True, False, 0, False], [31080, False, False, True, False, 0, False], [31860, False, False, True, False, 0, False], [32220, False, False, True, False, 0, False], [32610, False, False, True, False, 0, False], [32970, False, False, True, False, 0, False], [33330, False, False, True, False, 0, False], [34560, False, False, True, False, 0, False], [35010, False, False, True, False, 0, False], [35460, False, False, True, False, 0, False], [35880, False, False, True, False, 0, False], [36690, False, False, True, False, 0, False], [37140, False, False, True, False, 0, False], [38340, False, False, True, False, 0, False], [39360, False, False, True, False, 0, False], [39840, False, False, True, False, 0, False], [40710, False, False, True, False, 0, False], [41400, False, False, True, False, 0, False], [42060, False, False, True, False, 0, False], [42510, False, False, True, False, 0, False]]\n",
      "[[25200, True, False, False, True, 0, False], [27060, False, False, True, False, 0, False], [27630, False, False, True, False, 0, False], [28680, False, False, True, False, 0, False], [29100, False, False, True, False, 0, False], [29940, False, False, True, False, 0, False], [30810, False, False, True, False, 0, False], [31260, False, False, True, False, 0, False], [32010, False, False, True, False, 0, False], [33210, False, False, True, False, 0, False], [34260, False, False, True, False, 0, False], [34560, False, False, True, False, 0, False], [35010, False, False, True, False, 0, False], [35430, False, False, True, False, 0, False], [35820, False, False, True, False, 0, False], [36420, False, False, True, False, 0, False], [36930, False, False, True, False, 0, False], [37230, False, False, True, False, 0, False], [38160, False, False, True, False, 0, False], [39600, False, False, True, False, 0, False], [40380, False, False, True, False, 0, False], [41910, False, False, True, False, 0, False]]\n",
      "[[25200, True, False, False, True, 0, False], [25620, False, False, True, False, 0, False], [26310, False, False, True, False, 0, False], [26730, False, False, True, False, 0, False], [27450, False, False, True, False, 0, False], [27930, False, False, True, False, 0, False], [28350, False, False, True, False, 0, False], [28800, False, False, True, False, 0, False], [29220, False, False, True, False, 0, False], [29640, False, False, True, False, 0, False], [30090, False, False, True, False, 0, False], [30510, False, False, True, False, 0, False], [31050, False, False, True, False, 0, False], [31530, False, False, True, False, 0, False], [31890, False, False, True, False, 0, False], [32460, False, False, True, False, 0, False], [33360, False, False, True, False, 0, False], [33780, False, False, True, False, 0, False], [34170, False, False, True, False, 0, False], [34530, False, False, True, False, 0, False], [35100, False, False, True, False, 0, False], [35520, False, False, True, False, 0, False], [36360, False, False, True, False, 0, False], [36960, False, False, True, False, 0, False], [37380, False, False, True, False, 0, False], [37800, False, False, True, False, 0, False], [38250, False, False, True, False, 0, False], [39060, False, False, True, False, 0, False], [39390, False, False, True, False, 0, False], [39780, False, False, True, False, 0, False], [40350, False, False, True, False, 0, False], [40680, False, False, True, False, 0, False], [41730, False, False, True, False, 0, False], [42180, False, False, True, False, 0, False], [42630, False, False, True, False, 0, False]]\n",
      "[[25200, True, False, False, True, 0, False], [25770, False, False, True, False, 0, False], [26400, False, False, True, False, 0, False], [27210, False, False, True, False, 0, False], [28020, False, False, True, False, 0, False], [28410, False, False, True, False, 0, False], [28770, False, False, True, False, 0, False], [29190, False, False, True, False, 0, False], [29520, False, False, True, False, 0, False], [30000, False, False, True, False, 0, False], [30420, False, False, True, False, 0, False], [31170, False, False, True, False, 0, False], [32100, False, False, True, False, 0, False], [32640, False, False, True, False, 0, False], [33090, False, False, True, False, 0, False], [33510, False, False, True, False, 0, False], [33960, False, False, True, False, 0, False], [34920, False, False, True, False, 0, False], [35790, False, False, True, False, 0, False], [36120, False, False, True, False, 0, False], [37020, False, False, True, False, 0, False], [37980, False, False, True, False, 0, False], [38550, False, False, True, False, 0, False], [39150, False, False, True, False, 0, False], [39600, False, False, True, False, 0, False], [40110, False, False, True, False, 0, False], [40800, False, False, True, False, 0, False], [41580, False, False, True, False, 0, False], [42090, False, False, True, False, 0, False], [43110, False, False, True, False, 0, False]]\n",
      "[[25200, True, False, False, True, 0, False], [25650, False, False, True, False, 0, False], [26220, False, False, True, False, 0, False], [26640, False, False, True, False, 0, False], [27210, False, False, True, False, 0, False], [27570, False, False, True, False, 0, False], [28140, False, False, True, False, 0, False], [28500, False, False, True, False, 0, False], [28860, False, False, True, False, 0, False], [30780, False, False, True, False, 0, False], [32370, False, False, True, False, 0, False], [33270, False, False, True, False, 0, False], [33960, False, False, True, False, 0, False], [34410, False, False, True, False, 0, False], [35250, False, False, True, False, 0, False], [35640, False, False, True, False, 0, False], [36090, False, False, True, False, 0, False], [36420, False, False, True, False, 0, False], [37710, False, False, True, False, 0, False], [38250, False, False, True, False, 0, False], [38670, False, False, True, False, 0, False], [39150, False, False, True, False, 0, False], [39780, False, False, True, False, 0, False], [40620, False, False, True, False, 0, False], [41160, False, False, True, False, 0, False], [42420, False, False, True, False, 0, False]]\n",
      "[[25200, True, False, False, True, 0, False], [25590, False, False, True, False, 0, False], [26340, False, False, True, False, 0, False], [26700, False, False, True, False, 0, False], [28260, False, False, True, False, 0, False], [29490, False, False, True, False, 0, False], [29820, False, False, True, False, 0, False], [30390, False, False, True, False, 0, False], [31650, False, False, True, False, 0, False], [32160, False, False, True, False, 0, False], [33660, False, False, True, False, 0, False], [34650, False, False, True, False, 0, False], [35100, False, False, True, False, 0, False], [35400, False, False, True, False, 0, False], [35880, False, False, True, False, 0, False], [36360, False, False, True, False, 0, False], [36990, False, False, True, False, 0, False], [37410, False, False, True, False, 0, False], [37770, False, False, True, False, 0, False], [38370, False, False, True, False, 0, False], [38880, False, False, True, False, 0, False], [39390, False, False, True, False, 0, False], [39990, False, False, True, False, 0, False], [40410, False, False, True, False, 0, False], [40860, False, False, True, False, 0, False], [41760, False, False, True, False, 0, False], [42930, False, False, True, False, 0, False]]\n",
      "[[25200, True, False, False, True, 0, False], [25470, False, False, True, False, 0, False], [26010, False, False, True, False, 0, False], [26370, False, False, True, False, 0, False], [27420, False, False, True, False, 0, False], [28380, False, False, True, False, 0, False], [28800, False, False, True, False, 0, False], [29460, False, False, True, False, 0, False], [29970, False, False, True, False, 0, False], [30570, False, False, True, False, 0, False], [30990, False, False, True, False, 0, False], [31710, False, False, True, False, 0, False], [32070, False, False, True, False, 0, False], [32460, False, False, True, False, 0, False], [33000, False, False, True, False, 0, False], [34530, False, False, True, False, 0, False], [35070, False, False, True, False, 0, False], [35490, False, False, True, False, 0, False], [35880, False, False, True, False, 0, False], [36450, False, False, True, False, 0, False], [37020, False, False, True, False, 0, False], [37800, False, False, True, False, 0, False], [38370, False, False, True, False, 0, False], [38850, False, False, True, False, 0, False], [39270, False, False, True, False, 0, False], [39780, False, False, True, False, 0, False], [40290, False, False, True, False, 0, False], [40860, False, False, True, False, 0, False], [41460, False, False, True, False, 0, False], [41880, False, False, True, False, 0, False]]\n",
      "[[25200, True, False, False, True, 0, False], [25620, False, False, True, False, 0, False], [27180, False, False, True, False, 0, False], [27540, False, False, True, False, 0, False], [27990, False, False, True, False, 0, False], [28410, False, False, True, False, 0, False], [28920, False, False, True, False, 0, False], [29700, False, False, True, False, 0, False], [30720, False, False, True, False, 0, False], [31170, False, False, True, False, 0, False], [31980, False, False, True, False, 0, False], [33090, False, False, True, False, 0, False], [33420, False, False, True, False, 0, False], [33930, False, False, True, False, 0, False], [34410, False, False, True, False, 0, False], [34920, False, False, True, False, 0, False], [36360, False, False, True, False, 0, False], [36780, False, False, True, False, 0, False], [37380, False, False, True, False, 0, False], [37710, False, False, True, False, 0, False], [38730, False, False, True, False, 0, False], [39270, False, False, True, False, 0, False], [39690, False, False, True, False, 0, False], [40110, False, False, True, False, 0, False], [40530, False, False, True, False, 0, False], [40950, False, False, True, False, 0, False], [41700, False, False, True, False, 0, False], [42060, False, False, True, False, 0, False], [42690, False, False, True, False, 0, False], [43020, False, False, True, False, 0, False]]\n",
      "[[25200, True, False, False, True, 0, False], [26160, False, False, True, False, 0, False], [26850, False, False, True, False, 0, False], [27270, False, False, True, False, 0, False], [27660, False, False, True, False, 0, False], [28020, False, False, True, False, 0, False], [28500, False, False, True, False, 0, False], [30090, False, False, True, False, 0, False], [31620, False, False, True, False, 0, False], [31980, False, False, True, False, 0, False], [32820, False, False, True, False, 0, False], [33420, False, False, True, False, 0, False], [33960, False, False, True, False, 0, False], [36690, False, False, True, False, 0, False], [39030, False, False, True, False, 0, False], [39450, False, False, True, False, 0, False], [39870, False, False, True, False, 0, False], [40410, False, False, True, False, 0, False], [40740, False, False, True, False, 0, False], [41670, False, False, True, False, 0, False], [42300, False, False, True, False, 0, False], [42660, False, False, True, False, 0, False]]\n",
      "[[25200, True, False, False, True, 0, False], [25680, False, False, True, False, 0, False], [25980, False, False, True, False, 0, False], [26520, False, False, True, False, 0, False], [27180, False, False, True, False, 0, False], [27930, False, False, True, False, 0, False], [28380, False, False, True, False, 0, False], [28890, False, False, True, False, 0, False], [29250, False, False, True, False, 0, False], [30000, False, False, True, False, 0, False], [30330, False, False, True, False, 0, False], [30720, False, False, True, False, 0, False], [31110, False, False, True, False, 0, False], [31680, False, False, True, False, 0, False], [32820, False, False, True, False, 0, False], [34110, False, False, True, False, 0, False], [34590, False, False, True, False, 0, False], [35130, False, False, True, False, 0, False], [35910, False, False, True, False, 0, False], [36510, False, False, True, False, 0, False], [36930, False, False, True, False, 0, False], [37200, False, False, True, False, 0, False], [37800, False, False, True, False, 0, False], [38490, False, False, True, False, 0, False], [38850, False, False, True, False, 0, False], [39360, False, False, True, False, 0, False], [39660, False, False, True, False, 0, False], [40110, False, False, True, False, 0, False], [40500, False, False, True, False, 0, False], [41280, False, False, True, False, 0, False], [42330, False, False, True, False, 0, False], [42630, False, False, True, False, 0, False], [42990, False, False, True, False, 0, False]]\n",
      "[[25200, True, False, False, True, 0, False], [25560, False, False, True, False, 0, False], [26010, False, False, True, False, 0, False], [26310, False, False, True, False, 0, False], [27060, False, False, True, False, 0, False], [27480, False, False, True, False, 0, False], [27990, False, False, True, False, 0, False], [28530, False, False, True, False, 0, False], [29130, False, False, True, False, 0, False], [29970, False, False, True, False, 0, False], [30720, False, False, True, False, 0, False], [31230, False, False, True, False, 0, False], [31890, False, False, True, False, 0, False], [33330, False, False, True, False, 0, False], [34410, False, False, True, False, 0, False], [35040, False, False, True, False, 0, False], [35670, False, False, True, False, 0, False], [35970, False, False, True, False, 0, False], [36960, False, False, True, False, 0, False], [37410, False, False, True, False, 0, False], [37800, False, False, True, False, 0, False], [38220, False, False, True, False, 0, False], [38640, False, False, True, False, 0, False], [39300, False, False, True, False, 0, False], [39750, False, False, True, False, 0, False], [40110, False, False, True, False, 0, False], [40620, False, False, True, False, 0, False], [40980, False, False, True, False, 0, False], [41310, False, False, True, False, 0, False], [41730, False, False, True, False, 0, False], [42180, False, False, True, False, 0, False]]\n",
      "[[25200, True, False, False, True, 0, False], [25710, False, False, True, False, 0, False], [26370, False, False, True, False, 0, False], [26910, False, False, True, False, 0, False], [27840, False, False, True, False, 0, False], [28500, False, False, True, False, 0, False], [29400, False, False, True, False, 0, False], [29760, False, False, True, False, 0, False], [30600, False, False, True, False, 0, False], [31230, False, False, True, False, 0, False], [31590, False, False, True, False, 0, False], [33420, False, False, True, False, 0, False], [35640, False, False, True, False, 0, False], [36240, False, False, True, False, 0, False], [36690, False, False, True, False, 0, False], [37140, False, False, True, False, 0, False], [37620, False, False, True, False, 0, False], [38070, False, False, True, False, 0, False], [38520, False, False, True, False, 0, False], [38910, False, False, True, False, 0, False], [39570, False, False, True, False, 0, False], [40110, False, False, True, False, 0, False], [40440, False, False, True, False, 0, False], [40980, False, False, True, False, 0, False], [41940, False, False, True, False, 0, False], [42240, False, False, True, False, 0, False], [42630, False, False, True, False, 0, False], [43080, False, False, True, False, 0, False]]\n",
      "[[25200, True, False, False, True, 0, False], [25860, True, False, False, True, 0, True], [26610, False, False, True, False, 0, False], [27210, False, False, True, False, 0, False], [27690, False, False, True, False, 0, False], [28140, False, False, True, False, 0, False], [28680, False, False, True, False, 0, False], [29100, False, False, True, False, 0, False], [29580, False, False, True, False, 0, False], [30540, False, False, True, False, 0, False], [31320, False, False, True, False, 0, False], [31980, False, False, True, False, 0, False], [32580, False, False, True, False, 0, False], [33090, False, False, True, False, 0, False], [34710, False, False, True, False, 0, False], [35130, False, False, True, False, 0, False], [35700, False, False, True, False, 0, False], [36390, False, False, True, False, 0, False], [36720, False, False, True, False, 0, False], [37080, False, False, True, False, 0, False], [37530, False, False, True, False, 0, False], [38070, False, False, True, False, 0, False], [38490, False, False, True, False, 0, False], [38850, False, False, True, False, 0, False], [39510, False, False, True, False, 0, False], [40170, False, False, True, False, 0, False], [41190, False, False, True, False, 0, False], [42060, False, False, True, False, 0, False], [42870, False, False, True, False, 0, False]]\n",
      "[[25200, True, False, False, True, 0, False], [25800, False, False, True, False, 0, False], [26280, False, False, True, False, 0, False], [26760, False, False, True, False, 0, False], [27120, False, False, True, False, 0, False], [27780, False, False, True, False, 0, False], [28290, False, False, True, False, 0, False], [28710, False, False, True, False, 0, False], [29970, False, False, True, False, 0, False], [31710, False, False, True, False, 0, False], [32130, False, False, True, False, 0, False], [32610, False, False, True, False, 0, False], [33060, False, False, True, False, 0, False], [34170, False, False, True, False, 0, False], [34740, False, False, True, False, 0, False], [35100, False, False, True, False, 0, False], [35580, False, False, True, False, 0, False], [36300, False, False, True, False, 0, False], [36810, False, False, True, False, 0, False], [37410, False, False, True, False, 0, False], [37740, False, False, True, False, 0, False], [38250, False, False, True, False, 0, False], [38610, False, False, True, False, 0, False], [38970, False, False, True, False, 0, False], [39330, False, False, True, False, 0, False], [39930, False, False, True, False, 0, False], [40230, False, False, True, False, 0, False], [41130, False, False, True, False, 0, False], [41460, False, False, True, False, 0, False], [42180, False, False, True, False, 0, False]]\n",
      "[[25200, True, False, False, True, 0, False], [25740, False, False, True, False, 0, False], [26250, False, False, True, False, 0, False], [26790, False, False, True, False, 0, False], [27990, False, False, True, False, 0, False], [28560, False, False, True, False, 0, False], [28860, False, False, True, False, 0, False], [29220, False, False, True, False, 0, False], [29580, False, False, True, False, 0, False], [29940, False, False, True, False, 0, False], [30870, False, False, True, False, 0, False], [31680, False, False, True, False, 0, False], [32220, False, False, True, False, 0, False], [33120, False, False, True, False, 0, False], [33630, False, False, True, False, 0, False], [34470, False, False, True, False, 0, False], [35100, False, False, True, False, 0, False], [35460, False, False, True, False, 0, False], [35820, False, False, True, False, 0, False], [36420, False, False, True, False, 0, False], [37260, False, False, True, False, 0, False], [38310, False, False, True, False, 0, False], [38760, False, False, True, False, 0, False], [39180, False, False, True, False, 0, False], [39480, False, False, True, False, 0, False], [40020, False, False, True, False, 0, False], [40530, False, False, True, False, 0, False], [41730, False, False, True, False, 0, False], [42090, False, False, True, False, 0, False]]\n",
      "[[25200, True, False, False, True, 0, False], [25620, False, False, True, False, 0, False], [26100, False, False, True, False, 0, False], [26880, False, False, True, False, 0, False], [27540, False, False, True, False, 0, False], [28020, False, False, True, False, 0, False], [28890, False, False, True, False, 0, False], [29370, False, False, True, False, 0, False], [29760, False, False, True, False, 0, False], [30420, False, False, True, False, 0, False], [31590, False, False, True, False, 0, False], [32250, False, False, True, False, 0, False], [32790, False, False, True, False, 0, False], [33240, False, False, True, False, 0, False], [34800, False, False, True, False, 0, False], [35190, False, False, True, False, 0, False], [36270, False, False, True, False, 0, False], [36960, False, False, True, False, 0, False], [37830, False, False, True, False, 0, False], [38610, False, False, True, False, 0, False], [38940, False, False, True, False, 0, False], [39270, False, False, True, False, 0, False], [40050, False, False, True, False, 0, False], [40470, False, False, True, False, 0, False], [40800, False, False, True, False, 0, False], [41370, False, False, True, False, 0, False], [42450, False, False, True, False, 0, False], [42810, False, False, True, False, 0, False]]\n",
      "[[25200, True, False, False, True, 0, False], [26730, False, False, True, False, 0, False], [27180, False, False, True, False, 0, False], [28110, False, False, True, False, 0, False], [28650, False, False, True, False, 0, False], [29130, False, False, True, False, 0, False], [29550, False, False, True, False, 0, False], [30000, False, False, True, False, 0, False], [30480, False, False, True, False, 0, False], [31020, False, False, True, False, 0, False], [31800, False, False, True, False, 0, False], [32580, False, False, True, False, 0, False], [33000, False, False, True, False, 0, False], [34020, False, False, True, False, 0, False], [34560, False, False, True, False, 0, False], [35340, False, False, True, False, 0, False], [36300, False, False, True, False, 0, False], [36750, False, False, True, False, 0, False], [37110, False, False, True, False, 0, False], [37650, False, False, True, False, 0, False], [38340, False, False, True, False, 0, False], [38730, False, False, True, False, 0, False], [39690, False, False, True, False, 0, False], [40170, False, False, True, False, 0, False], [40740, False, False, True, False, 0, False], [41130, False, False, True, False, 0, False], [41640, False, False, True, False, 0, False], [42300, False, False, True, False, 0, False]]\n",
      "[[25200, True, False, False, True, 0, False], [25620, False, False, True, False, 0, False], [26070, False, False, True, False, 0, False], [26700, False, False, True, False, 0, False], [27900, False, False, True, False, 0, False], [28500, False, False, True, False, 0, False], [29880, False, False, True, False, 0, False], [31020, False, False, True, False, 0, False], [33360, False, False, True, False, 0, False], [34200, False, False, True, False, 0, False], [34740, False, False, True, False, 0, False], [35610, False, False, True, False, 0, False], [35940, False, False, True, False, 0, False], [36300, False, False, True, False, 0, False], [36870, False, False, True, False, 0, False], [37410, False, False, True, False, 0, False], [37920, False, False, True, False, 0, False], [38250, False, False, True, False, 0, False], [38640, False, False, True, False, 0, False], [39210, False, False, True, False, 0, False], [39570, False, False, True, False, 0, False], [39960, False, False, True, False, 0, False], [41130, False, False, True, False, 0, False], [41640, False, False, True, False, 0, False], [42720, False, False, True, False, 0, False]]\n",
      "[[25200, True, False, False, True, 0, False], [25620, False, False, True, False, 0, False], [26040, False, False, True, False, 0, False], [26460, False, False, True, False, 0, False], [26880, False, False, True, False, 0, False], [27390, False, False, True, False, 0, False], [29070, False, False, True, False, 0, False], [29550, True, False, False, True, 0, True], [31950, False, False, True, False, 0, False], [32760, False, False, True, False, 0, False], [33240, False, False, True, False, 0, False], [33660, False, False, True, False, 0, False], [34260, False, False, True, False, 0, False], [34920, False, False, True, False, 0, False], [35610, False, False, True, False, 0, False], [36570, False, False, True, False, 0, False], [36990, False, False, True, False, 0, False], [37620, False, False, True, False, 0, False], [38220, False, False, True, False, 0, False], [38790, False, False, True, False, 0, False], [39330, False, False, True, False, 0, False], [40050, False, False, True, False, 0, False], [40560, False, False, True, False, 0, False], [41040, False, False, True, False, 0, False], [42120, False, False, True, False, 0, False], [43050, False, False, True, False, 0, False]]\n",
      "[[25200, True, False, False, True, 0, False], [25830, False, False, True, False, 0, False], [26280, False, False, True, False, 0, False], [26640, False, False, True, False, 0, False], [27750, False, False, True, False, 0, False], [28080, False, False, True, False, 0, False], [28770, False, False, True, False, 0, False], [29250, False, False, True, False, 0, False], [30450, False, False, True, False, 0, False], [31200, False, False, True, False, 0, False], [31500, False, False, True, False, 0, False], [32160, False, False, True, False, 0, False], [32670, False, False, True, False, 0, False], [33090, False, False, True, False, 0, False], [33660, False, False, True, False, 0, False], [34200, False, False, True, False, 0, False], [34590, False, False, True, False, 0, False], [35370, False, False, True, False, 0, False], [36450, False, False, True, False, 0, False], [37890, False, False, True, False, 0, False], [38880, False, False, True, False, 0, False], [40140, False, False, True, False, 0, False], [42420, False, False, True, False, 0, False], [42780, False, False, True, False, 0, False]]\n",
      "[[25200, True, False, False, True, 0, False], [25620, False, False, True, False, 0, False], [27240, False, False, True, False, 0, False], [27720, False, False, True, False, 0, False], [28200, False, False, True, False, 0, False], [28680, False, False, True, False, 0, False], [29850, False, False, True, False, 0, False], [30480, False, False, True, False, 0, False], [31110, False, False, True, False, 0, False], [31470, False, False, True, False, 0, False], [31770, False, False, True, False, 0, False], [32220, False, False, True, False, 0, False], [32760, False, False, True, False, 0, False], [33090, False, False, True, False, 0, False], [33570, False, False, True, False, 0, False], [34020, False, False, True, False, 0, False], [34470, False, False, True, False, 0, False], [34860, False, False, True, False, 0, False], [35370, False, False, True, False, 0, False], [35730, False, False, True, False, 0, False], [36210, False, False, True, False, 0, False], [36840, False, False, True, False, 0, False], [37950, False, False, True, False, 0, False], [38310, False, False, True, False, 0, False], [38820, False, False, True, False, 0, False], [40290, False, False, True, False, 0, False], [41340, False, False, True, False, 0, False], [42240, False, False, True, False, 0, False], [42900, False, False, True, False, 0, False]]\n",
      "[[25200, True, False, False, True, 0, False], [25830, False, False, True, False, 0, False], [26310, False, False, True, False, 0, False], [27090, False, False, True, False, 0, False], [27570, False, False, True, False, 0, False], [28050, False, False, True, False, 0, False], [28740, False, False, True, False, 0, False], [29370, False, False, True, False, 0, False], [29910, False, False, True, False, 0, False], [30330, False, False, True, False, 0, False], [30660, False, False, True, False, 0, False], [31200, False, False, True, False, 0, False], [31560, False, False, True, False, 0, False], [32700, False, False, True, False, 0, False], [33180, False, False, True, False, 0, False], [33660, False, False, True, False, 0, False], [34560, False, False, True, False, 0, False], [34950, False, False, True, False, 0, False], [35550, False, False, True, False, 0, False], [35910, False, False, True, False, 0, False], [36570, False, False, True, False, 0, False], [36900, False, False, True, False, 0, False], [37290, False, False, True, False, 0, False], [37620, False, False, True, False, 0, False], [38070, False, False, True, False, 0, False], [38820, False, False, True, False, 0, False], [39930, False, False, True, False, 0, False], [40320, False, False, True, False, 0, False], [41130, False, False, True, False, 0, False], [41550, False, False, True, False, 0, False], [42240, False, False, True, False, 0, False], [42810, False, False, True, False, 0, False]]\n",
      "[[25200, True, False, False, True, 0, False], [25650, False, False, True, False, 0, False], [25980, False, False, True, False, 0, False], [26520, False, False, True, False, 0, False], [27210, False, False, True, False, 0, False], [27690, False, False, True, False, 0, False], [28080, False, False, True, False, 0, False], [28770, False, False, True, False, 0, False], [29700, False, False, True, False, 0, False], [30450, False, False, True, False, 0, False], [31140, False, False, True, False, 0, False], [31500, False, False, True, False, 0, False], [32040, False, False, True, False, 0, False], [32550, False, False, True, False, 0, False], [33030, False, False, True, False, 0, False], [33660, False, False, True, False, 0, False], [34110, False, False, True, False, 0, False], [34500, False, False, True, False, 0, False], [34830, False, False, True, False, 0, False], [35220, False, False, True, False, 0, False], [35550, False, False, True, False, 0, False], [36720, False, False, True, False, 0, False], [37800, False, False, True, False, 0, False], [39450, False, False, True, False, 0, False], [39840, False, False, True, False, 0, False], [40170, False, False, True, False, 0, False], [41340, False, False, True, False, 0, False], [42060, False, False, True, False, 0, False]]\n",
      "[[25200, True, False, False, True, 0, False], [25710, True, False, False, True, 0, True], [26400, False, False, True, False, 0, False], [26730, False, False, True, False, 0, False], [27150, False, False, True, False, 0, False], [28260, False, False, True, False, 0, False], [28920, False, False, True, False, 0, False], [29460, False, False, True, False, 0, False], [29820, False, False, True, False, 0, False], [30990, False, False, True, False, 0, False], [31350, False, False, True, False, 0, False], [31710, False, False, True, False, 0, False], [32700, False, False, True, False, 0, False], [33000, False, False, True, False, 0, False], [33330, False, False, True, False, 0, False], [34200, False, False, True, False, 0, False], [34650, False, False, True, False, 0, False], [35100, False, False, True, False, 0, False], [35700, False, False, True, False, 0, False], [37140, False, False, True, False, 0, False], [37800, False, False, True, False, 0, False], [38460, False, False, True, False, 0, False], [38820, False, False, True, False, 0, False], [39420, False, False, True, False, 0, False], [40440, False, False, True, False, 0, False], [41010, False, False, True, False, 0, False], [41490, False, False, True, False, 0, False], [42630, False, False, True, False, 0, False], [43110, False, False, True, False, 0, False]]\n",
      "[[25200, True, False, False, True, 0, False], [25650, False, False, True, False, 0, False], [26100, False, False, True, False, 0, False], [26460, False, False, True, False, 0, False], [26910, False, False, True, False, 0, False], [27570, False, False, True, False, 0, False], [27900, False, False, True, False, 0, False], [28650, False, False, True, False, 0, False], [29280, False, False, True, False, 0, False], [29670, False, False, True, False, 0, False], [30120, False, False, True, False, 0, False], [30600, False, False, True, False, 0, False], [31020, False, False, True, False, 0, False], [32190, False, False, True, False, 0, False], [32670, False, False, True, False, 0, False], [33600, False, False, True, False, 0, False], [33930, False, False, True, False, 0, False], [34320, False, False, True, False, 0, False], [34830, False, False, True, False, 0, False], [35940, False, False, True, False, 0, False], [36330, False, False, True, False, 0, False], [36720, False, False, True, False, 0, False], [37320, False, False, True, False, 0, False], [37710, False, False, True, False, 0, False], [38190, False, False, True, False, 0, False], [39180, False, False, True, False, 0, False], [39510, False, False, True, False, 0, False], [40140, False, False, True, False, 0, False], [40800, False, False, True, False, 0, False], [41370, False, False, True, False, 0, False], [41820, False, False, True, False, 0, False], [42360, False, False, True, False, 0, False], [43110, False, False, True, False, 0, False]]\n",
      "[[25200, True, False, False, True, 0, False], [26310, False, False, True, False, 0, False], [27210, False, False, True, False, 0, False], [27600, False, False, True, False, 0, False], [28380, False, False, True, False, 0, False], [28890, False, False, True, False, 0, False], [29580, False, False, True, False, 0, False], [30570, False, False, True, False, 0, False], [31020, False, False, True, False, 0, False], [31380, False, False, True, False, 0, False], [31740, False, False, True, False, 0, False], [32700, False, False, True, False, 0, False], [33030, False, False, True, False, 0, False], [33330, False, False, True, False, 0, False], [33810, False, False, True, False, 0, False], [34260, False, False, True, False, 0, False], [35100, False, False, True, False, 0, False], [35580, False, False, True, False, 0, False], [36360, False, False, True, False, 0, False], [36930, False, False, True, False, 0, False], [37980, False, False, True, False, 0, False], [38400, False, False, True, False, 0, False], [39150, False, False, True, False, 0, False], [40560, False, False, True, False, 0, False], [41340, False, False, True, False, 0, False], [41970, False, False, True, False, 0, False]]\n",
      "[[25200, True, False, False, True, 0, False], [25650, False, False, True, False, 0, False], [26160, False, False, True, False, 0, False], [26550, False, False, True, False, 0, False], [26970, False, False, True, False, 0, False], [27480, False, False, True, False, 0, False], [28110, False, False, True, False, 0, False], [28830, False, False, True, False, 0, False], [29670, False, False, True, False, 0, False], [30510, False, False, True, False, 0, False], [31200, False, False, True, False, 0, False], [32490, False, False, True, False, 0, False], [33030, False, False, True, False, 0, False], [33840, False, False, True, False, 0, False], [34200, False, False, True, False, 0, False], [34620, False, False, True, False, 0, False], [34920, False, False, True, False, 0, False], [35310, False, False, True, False, 0, False], [35700, False, False, True, False, 0, False], [36030, False, False, True, False, 0, False], [36510, False, False, True, False, 0, False], [37020, False, False, True, False, 0, False], [37650, False, False, True, False, 0, False], [38190, False, False, True, False, 0, False], [38580, False, False, True, False, 0, False], [39060, False, False, True, False, 0, False], [39690, False, False, True, False, 0, False], [40170, False, False, True, False, 0, False], [40530, False, False, True, False, 0, False], [41310, False, False, True, False, 0, False], [41700, False, False, True, False, 0, False], [42150, False, False, True, False, 0, False], [42480, False, False, True, False, 0, False]]\n",
      "[[25200, True, False, False, True, 0, False], [25590, False, False, True, False, 0, False], [26100, False, False, True, False, 0, False], [26790, False, False, True, False, 0, False], [27270, False, False, True, False, 0, False], [27690, False, False, True, False, 0, False], [28080, False, False, True, False, 0, False], [28560, False, False, True, False, 0, False], [28920, False, False, True, False, 0, False], [30000, False, False, True, False, 0, False], [31200, False, False, True, False, 0, False], [31950, False, False, True, False, 0, False], [32400, False, False, True, False, 0, False], [33000, False, False, True, False, 0, False], [33630, False, False, True, False, 0, False], [34020, False, False, True, False, 0, False], [34320, False, False, True, False, 0, False], [35190, False, False, True, False, 0, False], [36090, False, False, True, False, 0, False], [36690, False, False, True, False, 0, False], [37050, False, False, True, False, 0, False], [39030, False, False, True, False, 0, False], [39510, False, False, True, False, 0, False], [40350, False, False, True, False, 0, False], [40710, False, False, True, False, 0, False], [41640, False, False, True, False, 0, False], [42060, False, False, True, False, 0, False], [42900, False, False, True, False, 0, False]]\n",
      "[[25200, True, False, False, True, 0, False], [25590, False, False, True, False, 0, False], [26130, False, False, True, False, 0, False], [26430, False, False, True, False, 0, False], [27060, False, False, True, False, 0, False], [27630, False, False, True, False, 0, False], [28260, False, False, True, False, 0, False], [28710, False, False, True, False, 0, False], [29940, False, False, True, False, 0, False], [30720, False, False, True, False, 0, False], [33180, False, False, True, False, 0, False], [33870, False, False, True, False, 0, False], [34200, False, False, True, False, 0, False], [34710, False, False, True, False, 0, False], [35100, False, False, True, False, 0, False], [35820, False, False, True, False, 0, False], [36510, False, False, True, False, 0, False], [37170, False, False, True, False, 0, False], [37860, False, False, True, False, 0, False], [38850, False, False, True, False, 0, False], [39420, False, False, True, False, 0, False], [40500, False, False, True, False, 0, False], [41160, False, False, True, False, 0, False], [41730, False, False, True, False, 0, False], [42270, False, False, True, False, 0, False], [42630, False, False, True, False, 0, False]]\n",
      "[[25200, True, False, False, True, 0, False], [25920, False, False, True, False, 0, False], [26340, False, False, True, False, 0, False], [26730, False, False, True, False, 0, False], [27150, False, False, True, False, 0, False], [27660, False, False, True, False, 0, False], [28200, False, False, True, False, 0, False], [28680, False, False, True, False, 0, False], [29160, False, False, True, False, 0, False], [29850, False, False, True, False, 0, False], [30930, False, False, True, False, 0, False], [31260, False, False, True, False, 0, False], [31740, False, False, True, False, 0, False], [32070, False, False, True, False, 0, False], [32430, False, False, True, False, 0, False], [32760, False, False, True, False, 0, False], [33150, False, False, True, False, 0, False], [33630, False, False, True, False, 0, False], [34140, False, False, True, False, 0, False], [34710, False, False, True, False, 0, False], [35460, False, False, True, False, 0, False], [36060, False, False, True, False, 0, False], [36480, False, False, True, False, 0, False], [37890, False, False, True, False, 0, False], [39510, False, False, True, False, 0, False], [40320, False, False, True, False, 0, False], [40680, False, False, True, False, 0, False], [41730, False, False, True, False, 0, False], [42150, False, False, True, False, 0, False], [42600, False, False, True, False, 0, False], [43020, False, False, True, False, 0, False]]\n",
      "[[25200, True, False, False, True, 0, False], [26640, False, False, True, False, 0, False], [27270, False, False, True, False, 0, False], [27780, False, False, True, False, 0, False], [28200, False, False, True, False, 0, False], [28650, False, False, True, False, 0, False], [29310, False, False, True, False, 0, False], [30570, False, False, True, False, 0, False], [31860, False, False, True, False, 0, False], [32430, False, False, True, False, 0, False], [33420, False, False, True, False, 0, False], [34620, False, False, True, False, 0, False], [35040, False, False, True, False, 0, False], [35460, False, False, True, False, 0, False], [36030, False, False, True, False, 0, False], [36420, False, False, True, False, 0, False], [37170, False, False, True, False, 0, False], [37620, False, False, True, False, 0, False], [38190, False, False, True, False, 0, False], [38880, False, False, True, False, 0, False], [39210, False, False, True, False, 0, False], [39630, False, False, True, False, 0, False], [40020, False, False, True, False, 0, False], [40470, False, False, True, False, 0, False], [40950, False, False, True, False, 0, False], [41250, False, False, True, False, 0, False], [41670, False, False, True, False, 0, False], [42150, False, False, True, False, 0, False], [42780, False, False, True, False, 0, False]]\n",
      "[[25200, True, False, False, True, 0, False], [25500, False, False, True, False, 0, False], [25950, False, False, True, False, 0, False], [26370, False, False, True, False, 0, False], [26880, False, False, True, False, 0, False], [27540, False, False, True, False, 0, False], [27930, False, False, True, False, 0, False], [28710, False, False, True, False, 0, False], [29190, False, False, True, False, 0, False], [30870, False, False, True, False, 0, False], [31320, False, False, True, False, 0, False], [32220, False, False, True, False, 0, False], [32550, False, False, True, False, 0, False], [32910, False, False, True, False, 0, False], [33510, False, False, True, False, 0, False], [34140, False, False, True, False, 0, False], [34740, False, False, True, False, 0, False], [35220, False, False, True, False, 0, False], [36240, False, False, True, False, 0, False], [37140, False, False, True, False, 0, False], [37500, False, False, True, False, 0, False], [38040, False, False, True, False, 0, False], [38490, False, False, True, False, 0, False], [39030, False, False, True, False, 0, False], [39390, False, False, True, False, 0, False], [39840, False, False, True, False, 0, False], [40590, False, False, True, False, 0, False], [41580, False, False, True, False, 0, False], [43170, False, False, True, False, 0, False]]\n",
      "[[25200, True, False, False, True, 0, False], [25590, False, False, True, False, 0, False], [25950, False, False, True, False, 0, False], [26430, False, False, True, False, 0, False], [27330, False, False, True, False, 0, False], [27840, False, False, True, False, 0, False], [29070, False, False, True, False, 0, False], [29550, False, False, True, False, 0, False], [29940, False, False, True, False, 0, False], [30300, False, False, True, False, 0, False], [31080, False, False, True, False, 0, False], [32040, False, False, True, False, 0, False], [32640, False, False, True, False, 0, False], [33060, False, False, True, False, 0, False], [33480, False, False, True, False, 0, False], [34470, False, False, True, False, 0, False], [34980, False, False, True, False, 0, False], [35310, False, False, True, False, 0, False], [35670, False, False, True, False, 0, False], [36120, False, False, True, False, 0, False], [36480, False, False, True, False, 0, False], [36960, False, False, True, False, 0, False], [37980, False, False, True, False, 0, False], [38550, False, False, True, False, 0, False], [39420, False, False, True, False, 0, False], [39870, False, False, True, False, 0, False], [41850, False, False, True, False, 0, False]]\n",
      "[[25200, True, False, False, True, 0, False], [25530, False, False, True, False, 0, False], [26160, False, False, True, False, 0, False], [26760, False, False, True, False, 0, False], [27060, False, False, True, False, 0, False], [27450, False, False, True, False, 0, False], [28080, False, False, True, False, 0, False], [28830, False, False, True, False, 0, False], [29160, False, False, True, False, 0, False], [29610, False, False, True, False, 0, False], [30060, False, False, True, False, 0, False], [30750, False, False, True, False, 0, False], [32040, False, False, True, False, 0, False], [32430, False, False, True, False, 0, False], [32940, False, False, True, False, 0, False], [33360, False, False, True, False, 0, False], [34260, False, False, True, False, 0, False], [35250, False, False, True, False, 0, False], [36030, False, False, True, False, 0, False], [36510, False, False, True, False, 0, False], [37290, False, False, True, False, 0, False], [37860, False, False, True, False, 0, False], [38250, False, False, True, False, 0, False], [38640, False, False, True, False, 0, False], [39240, False, False, True, False, 0, False], [39840, False, False, True, False, 0, False], [40230, False, False, True, False, 0, False], [40650, False, False, True, False, 0, False], [41100, False, False, True, False, 0, False], [41460, False, False, True, False, 0, False], [41880, False, False, True, False, 0, False], [42420, False, False, True, False, 0, False], [42780, False, False, True, False, 0, False]]\n",
      "[[25200, True, False, False, True, 0, False], [25740, False, False, True, False, 0, False], [26430, False, False, True, False, 0, False], [26850, False, False, True, False, 0, False], [27240, False, False, True, False, 0, False], [27930, False, False, True, False, 0, False], [28320, False, False, True, False, 0, False], [28650, False, False, True, False, 0, False], [29220, False, False, True, False, 0, False], [29550, False, False, True, False, 0, False], [29910, False, False, True, False, 0, False], [30600, False, False, True, False, 0, False], [31020, False, False, True, False, 0, False], [33000, False, False, True, False, 0, False], [34530, False, False, True, False, 0, False], [35010, False, False, True, False, 0, False], [35490, False, False, True, False, 0, False], [36420, False, False, True, False, 0, False], [36780, False, False, True, False, 0, False], [37170, False, False, True, False, 0, False], [38310, False, False, True, False, 0, False], [38790, False, False, True, False, 0, False], [39420, False, False, True, False, 0, False], [39810, False, False, True, False, 0, False], [40410, False, False, True, False, 0, False], [40920, False, False, True, False, 0, False], [41250, False, False, True, False, 0, False], [41610, False, False, True, False, 0, False], [42030, False, False, True, False, 0, False], [42540, False, False, True, False, 0, False]]\n",
      "[[25200, True, False, False, True, 0, False], [25710, False, False, True, False, 0, False], [26100, False, False, True, False, 0, False], [26520, False, False, True, False, 0, False], [27240, False, False, True, False, 0, False], [27720, False, False, True, False, 0, False], [28140, False, False, True, False, 0, False], [28890, False, False, True, False, 0, False], [29310, False, False, True, False, 0, False], [29670, False, False, True, False, 0, False], [31020, False, False, True, False, 0, False], [31350, False, False, True, False, 0, False], [31920, False, False, True, False, 0, False], [32400, False, False, True, False, 0, False], [32790, False, False, True, False, 0, False], [34800, False, False, True, False, 0, False], [35280, False, False, True, False, 0, False], [35760, False, False, True, False, 0, False], [37140, False, False, True, False, 0, False], [37470, False, False, True, False, 0, False], [37800, False, False, True, False, 0, False], [38340, False, False, True, False, 0, False], [39060, False, False, True, False, 0, False], [39510, False, False, True, False, 0, False], [39900, False, False, True, False, 0, False], [40470, False, False, True, False, 0, False], [40830, False, False, True, False, 0, False], [41220, False, False, True, False, 0, False], [42450, False, False, True, False, 0, False]]\n",
      "[[25200, True, False, False, True, 0, False], [25530, False, False, True, False, 0, False], [26490, False, False, True, False, 0, False], [27690, False, False, True, False, 0, False], [28170, False, False, True, False, 0, False], [28620, False, False, True, False, 0, False], [29130, False, False, True, False, 0, False], [30030, False, False, True, False, 0, False], [30570, False, False, True, False, 0, False], [31260, False, False, True, False, 0, False], [32550, False, False, True, False, 0, False], [33360, False, False, True, False, 0, False], [34110, False, False, True, False, 0, False], [34530, False, False, True, False, 0, False], [34920, False, False, True, False, 0, False], [35370, False, False, True, False, 0, False], [36240, False, False, True, False, 0, False], [36810, False, False, True, False, 0, False], [37740, False, False, True, False, 0, False], [38310, False, False, True, False, 0, False], [38850, False, False, True, False, 0, False], [39210, False, False, True, False, 0, False], [39570, False, False, True, False, 0, False], [39990, False, False, True, False, 0, False], [40350, False, False, True, False, 0, False], [40950, False, False, True, False, 0, False], [41340, False, False, True, False, 0, False], [42300, False, False, True, False, 0, False], [42810, False, False, True, False, 0, False]]\n",
      "[[25200, True, False, False, True, 0, False], [25590, False, False, True, False, 0, False], [26010, False, False, True, False, 0, False], [27780, False, False, True, False, 0, False], [28350, False, False, True, False, 0, False], [28770, False, False, True, False, 0, False], [29190, False, False, True, False, 0, False], [29550, False, False, True, False, 0, False], [30090, False, False, True, False, 0, False], [30720, False, False, True, False, 0, False], [31080, False, False, True, False, 0, False], [31950, False, False, True, False, 0, False], [32340, False, False, True, False, 0, False], [32700, False, False, True, False, 0, False], [33240, False, False, True, False, 0, False], [33600, False, False, True, False, 0, False], [34080, False, False, True, False, 0, False], [35280, False, False, True, False, 0, False], [35790, False, False, True, False, 0, False], [36330, False, False, True, False, 0, False], [37500, False, False, True, False, 0, False], [38010, False, False, True, False, 0, False], [38370, False, False, True, False, 0, False], [39240, False, False, True, False, 0, False], [39660, False, False, True, False, 0, False], [40140, False, False, True, False, 0, False], [41850, False, False, True, False, 0, False], [42240, False, False, True, False, 0, False]]\n",
      "[[25200, True, False, False, True, 0, False], [25590, False, False, True, False, 0, False], [26040, False, False, True, False, 0, False], [26640, False, False, True, False, 0, False], [27450, False, False, True, False, 0, False], [28440, False, False, True, False, 0, False], [28920, False, False, True, False, 0, False], [29580, False, False, True, False, 0, False], [30330, False, False, True, False, 0, False], [30690, False, False, True, False, 0, False], [31320, False, False, True, False, 0, False], [32280, False, False, True, False, 0, False], [34260, False, False, True, False, 0, False], [35220, False, False, True, False, 0, False], [35460, False, False, True, False, 0, False], [36180, False, False, True, False, 0, False], [36660, False, False, True, False, 0, False], [37140, False, False, True, False, 0, False], [37530, False, False, True, False, 0, False], [37980, False, False, True, False, 0, False], [38400, False, False, True, False, 0, False], [38700, False, False, True, False, 0, False], [39030, False, False, True, False, 0, False], [39450, False, False, True, False, 0, False], [39840, False, False, True, False, 0, False], [40410, False, False, True, False, 0, False], [42120, False, False, True, False, 0, False], [42930, False, False, True, False, 0, False]]\n",
      "[[25200, True, False, False, True, 0, False], [26760, False, False, True, False, 0, False], [27090, False, False, True, False, 0, False], [27630, False, False, True, False, 0, False], [28290, False, False, True, False, 0, False], [28680, False, False, True, False, 0, False], [30540, False, False, True, False, 0, False], [31680, False, False, True, False, 0, False], [32490, False, False, True, False, 0, False], [33060, False, False, True, False, 0, False], [33900, False, False, True, False, 0, False], [34320, False, False, True, False, 0, False], [34860, False, False, True, False, 0, False], [35250, False, False, True, False, 0, False], [35610, False, False, True, False, 0, False], [36150, False, False, True, False, 0, False], [36570, False, False, True, False, 0, False], [37290, False, False, True, False, 0, False], [37860, False, False, True, False, 0, False], [38550, False, False, True, False, 0, False], [39240, False, False, True, False, 0, False], [39570, False, False, True, False, 0, False], [40050, False, False, True, False, 0, False], [40440, False, False, True, False, 0, False], [40800, False, False, True, False, 0, False], [41160, False, False, True, False, 0, False], [41730, False, False, True, False, 0, False], [42870, False, False, True, False, 0, False]]\n",
      "[[25200, True, False, False, True, 0, False], [26700, False, False, True, False, 0, False], [27120, False, False, True, False, 0, False], [27420, False, False, True, False, 0, False], [27780, False, False, True, False, 0, False], [28440, False, False, True, False, 0, False], [28830, False, False, True, False, 0, False], [29370, False, False, True, False, 0, False], [30360, False, False, True, False, 0, False], [31860, False, False, True, False, 0, False], [32370, False, False, True, False, 0, False], [33150, True, False, False, True, 0, True], [33390, False, False, True, False, 0, False], [33960, True, False, False, True, 0, True], [34560, False, False, True, False, 0, False], [35070, False, False, True, False, 0, False], [36090, False, False, True, False, 0, False], [36810, False, False, True, False, 0, False], [37200, False, False, True, False, 0, False], [37620, False, False, True, False, 0, False], [38130, False, False, True, False, 0, False], [38640, False, False, True, False, 0, False], [39360, False, False, True, False, 0, False], [39990, False, False, True, False, 0, False], [40410, False, False, True, False, 0, False], [40710, False, False, True, False, 0, False], [41820, False, False, True, False, 0, False]]\n",
      "[[25200, True, False, False, True, 0, False], [25860, False, False, True, False, 0, False], [26610, False, False, True, False, 0, False], [27090, False, False, True, False, 0, False], [27450, False, False, True, False, 0, False], [27870, False, False, True, False, 0, False], [28290, False, False, True, False, 0, False], [28920, False, False, True, False, 0, False], [29490, False, False, True, False, 0, False], [29850, False, False, True, False, 0, False], [30240, False, False, True, False, 0, False], [30720, False, False, True, False, 0, False], [31110, False, False, True, False, 0, False], [31830, False, False, True, False, 0, False], [32340, False, False, True, False, 0, False], [32940, False, False, True, False, 0, False], [33270, False, False, True, False, 0, False], [33720, False, False, True, False, 0, False], [34080, False, False, True, False, 0, False], [34530, False, False, True, False, 0, False], [35550, False, False, True, False, 0, False], [35970, False, False, True, False, 0, False], [36360, False, False, True, False, 0, False], [36870, False, False, True, False, 0, False], [37260, False, False, True, False, 0, False], [37830, False, False, True, False, 0, False], [38370, False, False, True, False, 0, False], [39150, False, False, True, False, 0, False], [39600, False, False, True, False, 0, False], [39960, False, False, True, False, 0, False], [40350, False, False, True, False, 0, False], [41070, False, False, True, False, 0, False], [41640, False, False, True, False, 0, False], [42180, False, False, True, False, 0, False], [42540, False, False, True, False, 0, False], [43110, False, False, True, False, 0, False]]\n",
      "[[25200, True, False, False, True, 0, False], [25560, False, False, True, False, 0, False], [25980, False, False, True, False, 0, False], [26400, False, False, True, False, 0, False], [26760, False, False, True, False, 0, False], [27180, False, False, True, False, 0, False], [27900, False, False, True, False, 0, False], [28440, False, False, True, False, 0, False], [28800, False, False, True, False, 0, False], [29520, False, False, True, False, 0, False], [31230, False, False, True, False, 0, False], [31710, False, False, True, False, 0, False], [32460, False, False, True, False, 0, False], [32970, False, False, True, False, 0, False], [33690, False, False, True, False, 0, False], [34050, False, False, True, False, 0, False], [34500, False, False, True, False, 0, False], [34980, False, False, True, False, 0, False], [35430, False, False, True, False, 0, False], [36240, False, False, True, False, 0, False], [36660, False, False, True, False, 0, False], [37260, False, False, True, False, 0, False], [37830, False, False, True, False, 0, False], [38640, False, False, True, False, 0, False], [39060, False, False, True, False, 0, False], [39480, False, False, True, False, 0, False], [41670, False, False, True, False, 0, False], [42810, False, False, True, False, 0, False]]\n",
      "[[25200, True, False, False, True, 0, False], [27270, False, False, True, False, 0, False], [27630, False, False, True, False, 0, False], [28320, False, False, True, False, 0, False], [28680, False, False, True, False, 0, False], [29400, False, False, True, False, 0, False], [31410, False, False, True, False, 0, False], [32580, False, False, True, False, 0, False], [33120, False, False, True, False, 0, False], [33480, False, False, True, False, 0, False], [34680, False, False, True, False, 0, False], [35280, False, False, True, False, 0, False], [36120, False, False, True, False, 0, False], [36600, False, False, True, False, 0, False], [36900, False, False, True, False, 0, False], [37440, False, False, True, False, 0, False], [37950, False, False, True, False, 0, False], [38370, False, False, True, False, 0, False], [38880, False, False, True, False, 0, False], [39240, False, False, True, False, 0, False], [39750, False, False, True, False, 0, False], [40110, False, False, True, False, 0, False], [40650, False, False, True, False, 0, False], [41160, False, False, True, False, 0, False], [42150, False, False, True, False, 0, False], [42750, False, False, True, False, 0, False], [43110, False, False, True, False, 0, False]]\n",
      "[[25200, True, False, False, True, 0, False], [26250, False, False, True, False, 0, False], [26610, False, False, True, False, 0, False], [26970, False, False, True, False, 0, False], [27930, False, False, True, False, 0, False], [28290, False, False, True, False, 0, False], [29280, False, False, True, False, 0, False], [29940, False, False, True, False, 0, False], [30450, False, False, True, False, 0, False], [31650, False, False, True, False, 0, False], [32160, False, False, True, False, 0, False], [32640, False, False, True, False, 0, False], [33060, False, False, True, False, 0, False], [33480, False, False, True, False, 0, False], [33900, False, False, True, False, 0, False], [34320, False, False, True, False, 0, False], [34680, False, False, True, False, 0, False], [35340, False, False, True, False, 0, False], [35670, False, False, True, False, 0, False], [36120, False, False, True, False, 0, False], [36750, False, False, True, False, 0, False], [37290, False, False, True, False, 0, False], [37770, False, False, True, False, 0, False], [38670, False, False, True, False, 0, False], [39090, False, False, True, False, 0, False], [39510, False, False, True, False, 0, False], [40050, False, False, True, False, 0, False], [40470, False, False, True, False, 0, False], [40890, False, False, True, False, 0, False], [41250, False, False, True, False, 0, False], [42660, False, False, True, False, 0, False]]\n",
      "[[25200, True, False, False, True, 0, False], [25770, True, False, False, True, 0, True], [26160, False, False, True, False, 0, False], [26610, False, False, True, False, 0, False], [27120, False, False, True, False, 0, False], [27780, True, False, False, True, 0, True], [28290, False, False, True, False, 0, False], [29220, False, False, True, False, 0, False], [29580, False, False, True, False, 0, False], [30270, False, False, True, False, 0, False], [30780, False, False, True, False, 0, False], [32250, False, False, True, False, 0, False], [32670, False, False, True, False, 0, False], [33660, False, False, True, False, 0, False], [34560, False, False, True, False, 0, False], [34920, False, False, True, False, 0, False], [35580, False, False, True, False, 0, False], [36180, False, False, True, False, 0, False], [36510, False, False, True, False, 0, False], [38160, False, False, True, False, 0, False], [38820, False, False, True, False, 0, False], [39930, False, False, True, False, 0, False], [40290, False, False, True, False, 0, False], [41910, False, False, True, False, 0, False], [42480, False, False, True, False, 0, False], [42930, False, False, True, False, 0, False]]\n",
      "[[25200, True, False, False, True, 0, False], [25590, False, False, True, False, 0, False], [25980, False, False, True, False, 0, False], [26520, False, False, True, False, 0, False], [27240, False, False, True, False, 0, False], [28260, False, False, True, False, 0, False], [28650, False, False, True, False, 0, False], [28980, False, False, True, False, 0, False], [29520, False, False, True, False, 0, False], [30120, False, False, True, False, 0, False], [30660, False, False, True, False, 0, False], [31170, False, False, True, False, 0, False], [31680, False, False, True, False, 0, False], [32340, False, False, True, False, 0, False], [32820, False, False, True, False, 0, False], [33330, False, False, True, False, 0, False], [33690, False, False, True, False, 0, False], [34560, False, False, True, False, 0, False], [34890, False, False, True, False, 0, False], [35460, False, False, True, False, 0, False], [35820, False, False, True, False, 0, False], [36330, False, False, True, False, 0, False], [36810, False, False, True, False, 0, False], [37290, False, False, True, False, 0, False], [37800, False, False, True, False, 0, False], [38490, False, False, True, False, 0, False], [38880, False, False, True, False, 0, False], [39450, False, False, True, False, 0, False], [39930, False, False, True, False, 0, False], [40350, False, False, True, False, 0, False], [40740, False, False, True, False, 0, False], [41460, False, False, True, False, 0, False], [42030, False, False, True, False, 0, False], [42510, False, False, True, False, 0, False], [42960, False, False, True, False, 0, False]]\n",
      "[[25200, True, False, False, True, 0, False], [25530, False, False, True, False, 0, False], [25860, False, False, True, False, 0, False], [26430, False, False, True, False, 0, False], [27330, False, False, True, False, 0, False], [27810, False, False, True, False, 0, False], [28590, False, False, True, False, 0, False], [28950, False, False, True, False, 0, False], [29370, False, False, True, False, 0, False], [29700, False, False, True, False, 0, False], [30480, False, False, True, False, 0, False], [30930, False, False, True, False, 0, False], [31590, False, False, True, False, 0, False], [33000, False, False, True, False, 0, False], [33570, False, False, True, False, 0, False], [34080, False, False, True, False, 0, False], [34680, False, False, True, False, 0, False], [35040, False, False, True, False, 0, False], [35550, False, False, True, False, 0, False], [36450, False, False, True, False, 0, False], [36900, False, False, True, False, 0, False], [37350, False, False, True, False, 0, False], [38430, False, False, True, False, 0, False], [38850, False, False, True, False, 0, False], [39240, False, False, True, False, 0, False], [39600, False, False, True, False, 0, False], [40050, False, False, True, False, 0, False], [40440, False, False, True, False, 0, False], [41040, False, False, True, False, 0, False], [41520, False, False, True, False, 0, False], [42210, False, False, True, False, 0, False], [42570, False, False, True, False, 0, False], [42930, False, False, True, False, 0, False]]\n",
      "[[25200, True, False, False, True, 0, False], [25710, False, False, True, False, 0, False], [26070, False, False, True, False, 0, False], [26880, False, False, True, False, 0, False], [27570, False, False, True, False, 0, False], [28020, False, False, True, False, 0, False], [28500, False, False, True, False, 0, False], [28890, False, False, True, False, 0, False], [29610, False, False, True, False, 0, False], [30150, False, False, True, False, 0, False], [30930, False, False, True, False, 0, False], [31680, False, False, True, False, 0, False], [33090, False, False, True, False, 0, False], [33870, False, False, True, False, 0, False], [34320, False, False, True, False, 0, False], [35250, False, False, True, False, 0, False], [35610, False, False, True, False, 0, False], [36210, False, False, True, False, 0, False], [36720, False, False, True, False, 0, False], [37650, False, False, True, False, 0, False], [38340, False, False, True, False, 0, False], [38790, False, False, True, False, 0, False], [39210, False, False, True, False, 0, False], [39810, False, False, True, False, 0, False], [40320, False, False, True, False, 0, False], [40680, False, False, True, False, 0, False], [41220, False, False, True, False, 0, False], [41610, False, False, True, False, 0, False], [41940, False, False, True, False, 0, False], [42330, False, False, True, False, 0, False], [42840, False, False, True, False, 0, False]]\n",
      "[[25200, True, False, False, True, 0, False], [26760, False, False, True, False, 0, False], [28020, False, False, True, False, 0, False], [28350, False, False, True, False, 0, False], [29340, False, False, True, False, 0, False], [29850, False, False, True, False, 0, False], [30690, False, False, True, False, 0, False], [31140, False, False, True, False, 0, False], [31560, False, False, True, False, 0, False], [32220, False, False, True, False, 0, False], [32910, False, False, True, False, 0, False], [33390, False, False, True, False, 0, False], [33870, False, False, True, False, 0, False], [34200, False, False, True, False, 0, False], [34740, False, False, True, False, 0, False], [35160, False, False, True, False, 0, False], [35490, False, False, True, False, 0, False], [36720, False, False, True, False, 0, False], [37230, False, False, True, False, 0, False], [37860, False, False, True, False, 0, False], [38550, False, False, True, False, 0, False], [38910, False, False, True, False, 0, False], [39510, False, False, True, False, 0, False], [39900, False, False, True, False, 0, False], [40470, False, False, True, False, 0, False], [40890, False, False, True, False, 0, False], [41340, False, False, True, False, 0, False], [42090, False, False, True, False, 0, False], [42390, False, False, True, False, 0, False], [42870, False, False, True, False, 0, False]]\n",
      "[[25200, True, False, False, True, 0, False], [25470, False, False, True, False, 0, False], [25800, False, False, True, False, 0, False], [26100, False, False, True, False, 0, False], [26760, False, False, True, False, 0, False], [27180, False, False, True, False, 0, False], [27780, False, False, True, False, 0, False], [28170, False, False, True, False, 0, False], [28740, False, False, True, False, 0, False], [29400, False, False, True, False, 0, False], [29730, False, False, True, False, 0, False], [30120, False, False, True, False, 0, False], [31050, False, False, True, False, 0, False], [31380, False, False, True, False, 0, False], [31800, False, False, True, False, 0, False], [32310, False, False, True, False, 0, False], [33180, False, False, True, False, 0, False], [33750, False, False, True, False, 0, False], [35070, False, False, True, False, 0, False], [35610, False, False, True, False, 0, False], [35940, False, False, True, False, 0, False], [36390, False, False, True, False, 0, False], [36810, False, False, True, False, 0, False], [37410, False, False, True, False, 0, False], [37710, False, False, True, False, 0, False], [38070, False, False, True, False, 0, False], [38880, False, False, True, False, 0, False], [39240, False, False, True, False, 0, False], [39570, False, False, True, False, 0, False], [40350, False, False, True, False, 0, False], [40980, False, False, True, False, 0, False], [41430, False, False, True, False, 0, False], [42000, False, False, True, False, 0, False], [43110, False, False, True, False, 0, False]]\n",
      "[[25200, True, False, False, True, 0, False], [27390, False, False, True, False, 0, False], [28110, False, False, True, False, 0, False], [28470, False, False, True, False, 0, False], [28980, False, False, True, False, 0, False], [29820, False, False, True, False, 0, False], [30300, False, False, True, False, 0, False], [30720, False, False, True, False, 0, False], [31080, False, False, True, False, 0, False], [31440, False, False, True, False, 0, False], [31860, False, False, True, False, 0, False], [32460, False, False, True, False, 0, False], [32850, False, False, True, False, 0, False], [33450, False, False, True, False, 0, False], [34440, False, False, True, False, 0, False], [34740, False, False, True, False, 0, False], [35910, False, False, True, False, 0, False], [36600, False, False, True, False, 0, False], [37230, False, False, True, False, 0, False], [37800, False, False, True, False, 0, False], [38100, False, False, True, False, 0, False], [38550, False, False, True, False, 0, False], [39450, False, False, True, False, 0, False], [40830, False, False, True, False, 0, False], [41610, False, False, True, False, 0, False], [42150, False, False, True, False, 0, False], [43080, False, False, True, False, 0, False]]\n",
      "[[25200, True, False, False, True, 0, False], [25560, False, False, True, False, 0, False], [26010, False, False, True, False, 0, False], [26580, False, False, True, False, 0, False], [26940, False, False, True, False, 0, False], [27270, False, False, True, False, 0, False], [27840, False, False, True, False, 0, False], [28770, False, False, True, False, 0, False], [29190, False, False, True, False, 0, False], [29760, False, False, True, False, 0, False], [30390, False, False, True, False, 0, False], [30690, False, False, True, False, 0, False], [31680, False, False, True, False, 0, False], [32310, False, False, True, False, 0, False], [34350, False, False, True, False, 0, False], [34800, False, False, True, False, 0, False], [35250, False, False, True, False, 0, False], [35640, False, False, True, False, 0, False], [36000, False, False, True, False, 0, False], [36450, False, False, True, False, 0, False], [36990, False, False, True, False, 0, False], [37830, False, False, True, False, 0, False], [38490, False, False, True, False, 0, False], [39090, False, False, True, False, 0, False], [39930, False, False, True, False, 0, False], [40920, False, False, True, False, 0, False], [41220, False, False, True, False, 0, False], [41550, False, False, True, False, 0, False], [41970, False, False, True, False, 0, False], [42420, False, False, True, False, 0, False], [43050, False, False, True, False, 0, False]]\n",
      "[[25200, True, False, False, True, 0, False], [26130, False, False, True, False, 0, False], [26670, False, False, True, False, 0, False], [27150, False, False, True, False, 0, False], [28530, False, False, True, False, 0, False], [28980, False, False, True, False, 0, False], [29370, False, False, True, False, 0, False], [30480, False, False, True, False, 0, False], [30900, False, False, True, False, 0, False], [31260, False, False, True, False, 0, False], [31620, False, False, True, False, 0, False], [31920, False, False, True, False, 0, False], [32310, False, False, True, False, 0, False], [33000, False, False, True, False, 0, False], [33870, False, False, True, False, 0, False], [34830, False, False, True, False, 0, False], [35220, False, False, True, False, 0, False], [36060, False, False, True, False, 0, False], [36450, False, False, True, False, 0, False], [37200, False, False, True, False, 0, False], [37680, False, False, True, False, 0, False], [38310, False, False, True, False, 0, False], [39210, False, False, True, False, 0, False], [39690, False, False, True, False, 0, False], [40080, False, False, True, False, 0, False], [40950, False, False, True, False, 0, False], [41370, False, False, True, False, 0, False], [42030, False, False, True, False, 0, False], [42390, False, False, True, False, 0, False], [42900, False, False, True, False, 0, False]]\n",
      "[[25200, True, False, False, True, 0, False], [25560, False, False, True, False, 0, False], [26340, False, False, True, False, 0, False], [26670, False, False, True, False, 0, False], [27240, False, False, True, False, 0, False], [27870, False, False, True, False, 0, False], [28320, False, False, True, False, 0, False], [28800, False, False, True, False, 0, False], [29160, False, False, True, False, 0, False], [29520, False, False, True, False, 0, False], [29850, False, False, True, False, 0, False], [31200, False, False, True, False, 0, False], [31770, False, False, True, False, 0, False], [32220, False, False, True, False, 0, False], [32700, False, False, True, False, 0, False], [33210, False, False, True, False, 0, False], [34140, False, False, True, False, 0, False], [34650, False, False, True, False, 0, False], [35100, False, False, True, False, 0, False], [35880, False, False, True, False, 0, False], [36210, False, False, True, False, 0, False], [36840, False, False, True, False, 0, False], [37170, False, False, True, False, 0, False], [37770, False, False, True, False, 0, False], [38130, False, False, True, False, 0, False], [38880, False, False, True, False, 0, False], [39330, False, False, True, False, 0, False], [40320, False, False, True, False, 0, False], [40650, False, False, True, False, 0, False], [40980, False, False, True, False, 0, False], [42270, False, False, True, False, 0, False], [43170, False, False, True, False, 0, False]]\n",
      "[[25200, True, False, False, True, 0, False], [25860, False, False, True, False, 0, False], [26310, False, False, True, False, 0, False], [27150, False, False, True, False, 0, False], [27570, False, False, True, False, 0, False], [28980, False, False, True, False, 0, False], [30210, False, False, True, False, 0, False], [30540, False, False, True, False, 0, False], [31110, False, False, True, False, 0, False], [31560, False, False, True, False, 0, False], [32880, False, False, True, False, 0, False], [34650, False, False, True, False, 0, False], [35730, False, False, True, False, 0, False], [36180, False, False, True, False, 0, False], [36480, False, False, True, False, 0, False], [36810, False, False, True, False, 0, False], [37170, False, False, True, False, 0, False], [37800, False, False, True, False, 0, False], [38160, False, False, True, False, 0, False], [39180, False, False, True, False, 0, False], [39600, False, False, True, False, 0, False], [39900, False, False, True, False, 0, False], [40470, False, False, True, False, 0, False], [41340, False, False, True, False, 0, False], [41760, False, False, True, False, 0, False], [43140, False, False, True, False, 0, False]]\n",
      "[[25200, True, False, False, True, 0, False], [25800, False, False, True, False, 0, False], [26250, False, False, True, False, 0, False], [26640, False, False, True, False, 0, False], [27060, False, False, True, False, 0, False], [27480, False, False, True, False, 0, False], [27810, False, False, True, False, 0, False], [28140, False, False, True, False, 0, False], [28440, False, False, True, False, 0, False], [28890, False, False, True, False, 0, False], [29220, False, False, True, False, 0, False], [30330, False, False, True, False, 0, False], [30750, False, False, True, False, 0, False], [31080, False, False, True, False, 0, False], [31680, False, False, True, False, 0, False], [32130, False, False, True, False, 0, False], [33360, False, False, True, False, 0, False], [34800, False, False, True, False, 0, False], [35820, False, False, True, False, 0, False], [36450, False, False, True, False, 0, False], [36900, False, False, True, False, 0, False], [37470, False, False, True, False, 0, False], [38250, False, False, True, False, 0, False], [39150, False, False, True, False, 0, False], [40020, False, False, True, False, 0, False], [40590, False, False, True, False, 0, False], [40950, False, False, True, False, 0, False], [41310, False, False, True, False, 0, False], [42360, False, False, True, False, 0, False], [42690, False, False, True, False, 0, False], [43170, False, False, True, False, 0, False]]\n",
      "[[25200, True, False, False, True, 0, False], [25620, False, False, True, False, 0, False], [26370, False, False, True, False, 0, False], [26820, False, False, True, False, 0, False], [27240, False, False, True, False, 0, False], [28650, False, False, True, False, 0, False], [29070, False, False, True, False, 0, False], [29760, False, False, True, False, 0, False], [30270, False, False, True, False, 0, False], [30780, False, False, True, False, 0, False], [31170, False, False, True, False, 0, False], [31980, False, False, True, False, 0, False], [32370, False, False, True, False, 0, False], [33090, False, False, True, False, 0, False], [34260, False, False, True, False, 0, False], [35010, False, False, True, False, 0, False], [35550, False, False, True, False, 0, False], [36180, False, False, True, False, 0, False], [37590, False, False, True, False, 0, False], [38430, False, False, True, False, 0, False], [38910, False, False, True, False, 0, False], [39270, False, False, True, False, 0, False], [39600, False, False, True, False, 0, False], [40200, False, False, True, False, 0, False], [41490, False, False, True, False, 0, False], [41910, False, False, True, False, 0, False], [42570, False, False, True, False, 0, False]]\n",
      "[[25200, True, False, False, True, 0, False], [25710, False, False, True, False, 0, False], [26160, False, False, True, False, 0, False], [26610, False, False, True, False, 0, False], [27150, False, False, True, False, 0, False], [27570, False, False, True, False, 0, False], [29070, False, False, True, False, 0, False], [29460, False, False, True, False, 0, False], [30750, False, False, True, False, 0, False], [31140, False, False, True, False, 0, False], [31860, False, False, True, False, 0, False], [32280, False, False, True, False, 0, False], [32970, False, False, True, False, 0, False], [33360, False, False, True, False, 0, False], [33900, False, False, True, False, 0, False], [34320, False, False, True, False, 0, False], [34650, False, False, True, False, 0, False], [35010, False, False, True, False, 0, False], [36000, False, False, True, False, 0, False], [36780, False, False, True, False, 0, False], [37200, False, False, True, False, 0, False], [37680, False, False, True, False, 0, False], [38130, False, False, True, False, 0, False], [38940, False, False, True, False, 0, False], [39690, False, False, True, False, 0, False], [40020, False, False, True, False, 0, False], [40380, False, False, True, False, 0, False], [40770, False, False, True, False, 0, False], [41730, False, False, True, False, 0, False], [42600, False, False, True, False, 0, False]]\n",
      "[[25200, True, False, False, True, 0, False], [25650, False, False, True, False, 0, False], [26190, False, False, True, False, 0, False], [26700, False, False, True, False, 0, False], [27390, False, False, True, False, 0, False], [27720, False, False, True, False, 0, False], [28290, False, False, True, False, 0, False], [28710, False, False, True, False, 0, False], [29040, False, False, True, False, 0, False], [29640, False, False, True, False, 0, False], [30120, False, False, True, False, 0, False], [30810, False, False, True, False, 0, False], [31620, False, False, True, False, 0, False], [32220, False, False, True, False, 0, False], [33180, False, False, True, False, 0, False], [33660, False, False, True, False, 0, False], [34410, False, False, True, False, 0, False], [34860, False, False, True, False, 0, False], [35580, False, False, True, False, 0, False], [36570, False, False, True, False, 0, False], [36930, False, False, True, False, 0, False], [37320, False, False, True, False, 0, False], [37740, False, False, True, False, 0, False], [38100, False, False, True, False, 0, False], [38850, False, False, True, False, 0, False], [40410, False, False, True, False, 0, False], [40980, False, False, True, False, 0, False], [41310, False, False, True, False, 0, False], [41640, False, False, True, False, 0, False], [42000, False, False, True, False, 0, False], [42420, False, False, True, False, 0, False], [42930, False, False, True, False, 0, False]]\n"
     ]
    }
   ],
   "source": [
    "for v in vehs:\n",
    "    print(v._times_chose_zone)"
   ]
  },
  {
   "cell_type": "code",
   "execution_count": 9,
   "metadata": {},
   "outputs": [],
   "source": [
    "a = []"
   ]
  },
  {
   "cell_type": "code",
   "execution_count": 10,
   "metadata": {},
   "outputs": [],
   "source": [
    "a.append([2,3])"
   ]
  },
  {
   "cell_type": "code",
   "execution_count": 11,
   "metadata": {},
   "outputs": [
    {
     "data": {
      "text/plain": [
       "[[2, 3]]"
      ]
     },
     "execution_count": 11,
     "metadata": {},
     "output_type": "execute_result"
    }
   ],
   "source": [
    "a"
   ]
  },
  {
   "cell_type": "code",
   "execution_count": 120,
   "metadata": {},
   "outputs": [],
   "source": [
    "report = m.get_service_rate_per_zone()"
   ]
  },
  {
   "cell_type": "code",
   "execution_count": 121,
   "metadata": {
    "scrolled": true
   },
   "outputs": [
    {
     "data": {
      "text/html": [
       "<div>\n",
       "<style scoped>\n",
       "    .dataframe tbody tr th:only-of-type {\n",
       "        vertical-align: middle;\n",
       "    }\n",
       "\n",
       "    .dataframe tbody tr th {\n",
       "        vertical-align: top;\n",
       "    }\n",
       "\n",
       "    .dataframe thead th {\n",
       "        text-align: right;\n",
       "    }\n",
       "</style>\n",
       "<table border=\"1\" class=\"dataframe\">\n",
       "  <thead>\n",
       "    <tr style=\"text-align: right;\">\n",
       "      <th></th>\n",
       "      <th>zone_id</th>\n",
       "      <th>w</th>\n",
       "      <th>served</th>\n",
       "      <th>total</th>\n",
       "      <th>LOS</th>\n",
       "      <th>idle</th>\n",
       "      <th>incoming</th>\n",
       "      <th>times_surged</th>\n",
       "    </tr>\n",
       "  </thead>\n",
       "  <tbody>\n",
       "    <tr>\n",
       "      <th>100</th>\n",
       "      <td>100</td>\n",
       "      <td>0</td>\n",
       "      <td>1894</td>\n",
       "      <td>1894</td>\n",
       "      <td>1.000000</td>\n",
       "      <td>36</td>\n",
       "      <td>26</td>\n",
       "      <td>0</td>\n",
       "    </tr>\n",
       "    <tr>\n",
       "      <th>161</th>\n",
       "      <td>161</td>\n",
       "      <td>0</td>\n",
       "      <td>1458</td>\n",
       "      <td>1458</td>\n",
       "      <td>1.000000</td>\n",
       "      <td>82</td>\n",
       "      <td>64</td>\n",
       "      <td>0</td>\n",
       "    </tr>\n",
       "    <tr>\n",
       "      <th>162</th>\n",
       "      <td>162</td>\n",
       "      <td>0</td>\n",
       "      <td>2147</td>\n",
       "      <td>2147</td>\n",
       "      <td>1.000000</td>\n",
       "      <td>94</td>\n",
       "      <td>54</td>\n",
       "      <td>0</td>\n",
       "    </tr>\n",
       "    <tr>\n",
       "      <th>234</th>\n",
       "      <td>234</td>\n",
       "      <td>0</td>\n",
       "      <td>1113</td>\n",
       "      <td>1113</td>\n",
       "      <td>1.000000</td>\n",
       "      <td>41</td>\n",
       "      <td>18</td>\n",
       "      <td>0</td>\n",
       "    </tr>\n",
       "    <tr>\n",
       "      <th>125</th>\n",
       "      <td>125</td>\n",
       "      <td>0</td>\n",
       "      <td>192</td>\n",
       "      <td>192</td>\n",
       "      <td>1.000000</td>\n",
       "      <td>7</td>\n",
       "      <td>7</td>\n",
       "      <td>0</td>\n",
       "    </tr>\n",
       "    <tr>\n",
       "      <th>237</th>\n",
       "      <td>237</td>\n",
       "      <td>0</td>\n",
       "      <td>2610</td>\n",
       "      <td>2610</td>\n",
       "      <td>1.000000</td>\n",
       "      <td>50</td>\n",
       "      <td>40</td>\n",
       "      <td>0</td>\n",
       "    </tr>\n",
       "    <tr>\n",
       "      <th>170</th>\n",
       "      <td>170</td>\n",
       "      <td>0</td>\n",
       "      <td>2629</td>\n",
       "      <td>2629</td>\n",
       "      <td>1.000000</td>\n",
       "      <td>69</td>\n",
       "      <td>51</td>\n",
       "      <td>0</td>\n",
       "    </tr>\n",
       "    <tr>\n",
       "      <th>243</th>\n",
       "      <td>243</td>\n",
       "      <td>0</td>\n",
       "      <td>20</td>\n",
       "      <td>20</td>\n",
       "      <td>1.000000</td>\n",
       "      <td>2</td>\n",
       "      <td>1</td>\n",
       "      <td>0</td>\n",
       "    </tr>\n",
       "    <tr>\n",
       "      <th>209</th>\n",
       "      <td>209</td>\n",
       "      <td>0</td>\n",
       "      <td>74</td>\n",
       "      <td>74</td>\n",
       "      <td>1.000000</td>\n",
       "      <td>2</td>\n",
       "      <td>3</td>\n",
       "      <td>0</td>\n",
       "    </tr>\n",
       "    <tr>\n",
       "      <th>88</th>\n",
       "      <td>88</td>\n",
       "      <td>0</td>\n",
       "      <td>195</td>\n",
       "      <td>195</td>\n",
       "      <td>1.000000</td>\n",
       "      <td>3</td>\n",
       "      <td>8</td>\n",
       "      <td>0</td>\n",
       "    </tr>\n",
       "    <tr>\n",
       "      <th>87</th>\n",
       "      <td>87</td>\n",
       "      <td>0</td>\n",
       "      <td>419</td>\n",
       "      <td>419</td>\n",
       "      <td>1.000000</td>\n",
       "      <td>11</td>\n",
       "      <td>7</td>\n",
       "      <td>0</td>\n",
       "    </tr>\n",
       "    <tr>\n",
       "      <th>230</th>\n",
       "      <td>230</td>\n",
       "      <td>0</td>\n",
       "      <td>1016</td>\n",
       "      <td>1016</td>\n",
       "      <td>1.000000</td>\n",
       "      <td>63</td>\n",
       "      <td>33</td>\n",
       "      <td>0</td>\n",
       "    </tr>\n",
       "    <tr>\n",
       "      <th>163</th>\n",
       "      <td>163</td>\n",
       "      <td>0</td>\n",
       "      <td>967</td>\n",
       "      <td>967</td>\n",
       "      <td>1.000000</td>\n",
       "      <td>62</td>\n",
       "      <td>38</td>\n",
       "      <td>0</td>\n",
       "    </tr>\n",
       "    <tr>\n",
       "      <th>164</th>\n",
       "      <td>164</td>\n",
       "      <td>0</td>\n",
       "      <td>1129</td>\n",
       "      <td>1129</td>\n",
       "      <td>1.000000</td>\n",
       "      <td>45</td>\n",
       "      <td>34</td>\n",
       "      <td>0</td>\n",
       "    </tr>\n",
       "    <tr>\n",
       "      <th>261</th>\n",
       "      <td>261</td>\n",
       "      <td>0</td>\n",
       "      <td>168</td>\n",
       "      <td>168</td>\n",
       "      <td>1.000000</td>\n",
       "      <td>39</td>\n",
       "      <td>32</td>\n",
       "      <td>0</td>\n",
       "    </tr>\n",
       "    <tr>\n",
       "      <th>48</th>\n",
       "      <td>48</td>\n",
       "      <td>0</td>\n",
       "      <td>2366</td>\n",
       "      <td>2366</td>\n",
       "      <td>1.000000</td>\n",
       "      <td>46</td>\n",
       "      <td>32</td>\n",
       "      <td>0</td>\n",
       "    </tr>\n",
       "    <tr>\n",
       "      <th>45</th>\n",
       "      <td>45</td>\n",
       "      <td>0</td>\n",
       "      <td>70</td>\n",
       "      <td>70</td>\n",
       "      <td>1.000000</td>\n",
       "      <td>7</td>\n",
       "      <td>1</td>\n",
       "      <td>0</td>\n",
       "    </tr>\n",
       "    <tr>\n",
       "      <th>43</th>\n",
       "      <td>43</td>\n",
       "      <td>0</td>\n",
       "      <td>550</td>\n",
       "      <td>550</td>\n",
       "      <td>1.000000</td>\n",
       "      <td>27</td>\n",
       "      <td>16</td>\n",
       "      <td>0</td>\n",
       "    </tr>\n",
       "    <tr>\n",
       "      <th>144</th>\n",
       "      <td>144</td>\n",
       "      <td>0</td>\n",
       "      <td>208</td>\n",
       "      <td>208</td>\n",
       "      <td>1.000000</td>\n",
       "      <td>16</td>\n",
       "      <td>16</td>\n",
       "      <td>0</td>\n",
       "    </tr>\n",
       "    <tr>\n",
       "      <th>12</th>\n",
       "      <td>12</td>\n",
       "      <td>0</td>\n",
       "      <td>11</td>\n",
       "      <td>11</td>\n",
       "      <td>1.000000</td>\n",
       "      <td>7</td>\n",
       "      <td>1</td>\n",
       "      <td>0</td>\n",
       "    </tr>\n",
       "    <tr>\n",
       "      <th>211</th>\n",
       "      <td>211</td>\n",
       "      <td>0</td>\n",
       "      <td>208</td>\n",
       "      <td>208</td>\n",
       "      <td>1.000000</td>\n",
       "      <td>16</td>\n",
       "      <td>9</td>\n",
       "      <td>0</td>\n",
       "    </tr>\n",
       "    <tr>\n",
       "      <th>13</th>\n",
       "      <td>13</td>\n",
       "      <td>0</td>\n",
       "      <td>890</td>\n",
       "      <td>890</td>\n",
       "      <td>1.000000</td>\n",
       "      <td>15</td>\n",
       "      <td>13</td>\n",
       "      <td>0</td>\n",
       "    </tr>\n",
       "    <tr>\n",
       "      <th>231</th>\n",
       "      <td>231</td>\n",
       "      <td>0</td>\n",
       "      <td>829</td>\n",
       "      <td>829</td>\n",
       "      <td>1.000000</td>\n",
       "      <td>54</td>\n",
       "      <td>26</td>\n",
       "      <td>0</td>\n",
       "    </tr>\n",
       "    <tr>\n",
       "      <th>141</th>\n",
       "      <td>141</td>\n",
       "      <td>39</td>\n",
       "      <td>2258</td>\n",
       "      <td>2297</td>\n",
       "      <td>0.983021</td>\n",
       "      <td>0</td>\n",
       "      <td>36</td>\n",
       "      <td>0</td>\n",
       "    </tr>\n",
       "    <tr>\n",
       "      <th>68</th>\n",
       "      <td>68</td>\n",
       "      <td>20</td>\n",
       "      <td>1123</td>\n",
       "      <td>1143</td>\n",
       "      <td>0.982502</td>\n",
       "      <td>0</td>\n",
       "      <td>16</td>\n",
       "      <td>0</td>\n",
       "    </tr>\n",
       "    <tr>\n",
       "      <th>142</th>\n",
       "      <td>142</td>\n",
       "      <td>29</td>\n",
       "      <td>1507</td>\n",
       "      <td>1536</td>\n",
       "      <td>0.981120</td>\n",
       "      <td>0</td>\n",
       "      <td>21</td>\n",
       "      <td>0</td>\n",
       "    </tr>\n",
       "    <tr>\n",
       "      <th>116</th>\n",
       "      <td>116</td>\n",
       "      <td>4</td>\n",
       "      <td>126</td>\n",
       "      <td>130</td>\n",
       "      <td>0.969231</td>\n",
       "      <td>0</td>\n",
       "      <td>4</td>\n",
       "      <td>0</td>\n",
       "    </tr>\n",
       "    <tr>\n",
       "      <th>152</th>\n",
       "      <td>152</td>\n",
       "      <td>3</td>\n",
       "      <td>75</td>\n",
       "      <td>78</td>\n",
       "      <td>0.961538</td>\n",
       "      <td>0</td>\n",
       "      <td>0</td>\n",
       "      <td>0</td>\n",
       "    </tr>\n",
       "    <tr>\n",
       "      <th>41</th>\n",
       "      <td>41</td>\n",
       "      <td>36</td>\n",
       "      <td>295</td>\n",
       "      <td>331</td>\n",
       "      <td>0.891239</td>\n",
       "      <td>0</td>\n",
       "      <td>3</td>\n",
       "      <td>0</td>\n",
       "    </tr>\n",
       "    <tr>\n",
       "      <th>75</th>\n",
       "      <td>75</td>\n",
       "      <td>77</td>\n",
       "      <td>628</td>\n",
       "      <td>705</td>\n",
       "      <td>0.890780</td>\n",
       "      <td>0</td>\n",
       "      <td>6</td>\n",
       "      <td>0</td>\n",
       "    </tr>\n",
       "    <tr>\n",
       "      <th>...</th>\n",
       "      <td>...</td>\n",
       "      <td>...</td>\n",
       "      <td>...</td>\n",
       "      <td>...</td>\n",
       "      <td>...</td>\n",
       "      <td>...</td>\n",
       "      <td>...</td>\n",
       "      <td>...</td>\n",
       "    </tr>\n",
       "    <tr>\n",
       "      <th>24</th>\n",
       "      <td>24</td>\n",
       "      <td>48</td>\n",
       "      <td>197</td>\n",
       "      <td>245</td>\n",
       "      <td>0.804082</td>\n",
       "      <td>0</td>\n",
       "      <td>1</td>\n",
       "      <td>0</td>\n",
       "    </tr>\n",
       "    <tr>\n",
       "      <th>114</th>\n",
       "      <td>114</td>\n",
       "      <td>73</td>\n",
       "      <td>288</td>\n",
       "      <td>361</td>\n",
       "      <td>0.797784</td>\n",
       "      <td>0</td>\n",
       "      <td>10</td>\n",
       "      <td>0</td>\n",
       "    </tr>\n",
       "    <tr>\n",
       "      <th>79</th>\n",
       "      <td>79</td>\n",
       "      <td>237</td>\n",
       "      <td>862</td>\n",
       "      <td>1099</td>\n",
       "      <td>0.784349</td>\n",
       "      <td>0</td>\n",
       "      <td>6</td>\n",
       "      <td>0</td>\n",
       "    </tr>\n",
       "    <tr>\n",
       "      <th>74</th>\n",
       "      <td>74</td>\n",
       "      <td>71</td>\n",
       "      <td>257</td>\n",
       "      <td>328</td>\n",
       "      <td>0.783537</td>\n",
       "      <td>0</td>\n",
       "      <td>0</td>\n",
       "      <td>0</td>\n",
       "    </tr>\n",
       "    <tr>\n",
       "      <th>233</th>\n",
       "      <td>233</td>\n",
       "      <td>250</td>\n",
       "      <td>904</td>\n",
       "      <td>1154</td>\n",
       "      <td>0.783362</td>\n",
       "      <td>0</td>\n",
       "      <td>10</td>\n",
       "      <td>0</td>\n",
       "    </tr>\n",
       "    <tr>\n",
       "      <th>148</th>\n",
       "      <td>148</td>\n",
       "      <td>74</td>\n",
       "      <td>207</td>\n",
       "      <td>281</td>\n",
       "      <td>0.736655</td>\n",
       "      <td>0</td>\n",
       "      <td>2</td>\n",
       "      <td>0</td>\n",
       "    </tr>\n",
       "    <tr>\n",
       "      <th>229</th>\n",
       "      <td>229</td>\n",
       "      <td>609</td>\n",
       "      <td>1345</td>\n",
       "      <td>1954</td>\n",
       "      <td>0.688332</td>\n",
       "      <td>0</td>\n",
       "      <td>16</td>\n",
       "      <td>0</td>\n",
       "    </tr>\n",
       "    <tr>\n",
       "      <th>263</th>\n",
       "      <td>263</td>\n",
       "      <td>553</td>\n",
       "      <td>1200</td>\n",
       "      <td>1753</td>\n",
       "      <td>0.684541</td>\n",
       "      <td>0</td>\n",
       "      <td>10</td>\n",
       "      <td>0</td>\n",
       "    </tr>\n",
       "    <tr>\n",
       "      <th>113</th>\n",
       "      <td>113</td>\n",
       "      <td>326</td>\n",
       "      <td>665</td>\n",
       "      <td>991</td>\n",
       "      <td>0.671039</td>\n",
       "      <td>0</td>\n",
       "      <td>9</td>\n",
       "      <td>0</td>\n",
       "    </tr>\n",
       "    <tr>\n",
       "      <th>90</th>\n",
       "      <td>90</td>\n",
       "      <td>395</td>\n",
       "      <td>704</td>\n",
       "      <td>1099</td>\n",
       "      <td>0.640582</td>\n",
       "      <td>0</td>\n",
       "      <td>8</td>\n",
       "      <td>0</td>\n",
       "    </tr>\n",
       "    <tr>\n",
       "      <th>186</th>\n",
       "      <td>186</td>\n",
       "      <td>1292</td>\n",
       "      <td>2153</td>\n",
       "      <td>3445</td>\n",
       "      <td>0.624964</td>\n",
       "      <td>0</td>\n",
       "      <td>26</td>\n",
       "      <td>0</td>\n",
       "    </tr>\n",
       "    <tr>\n",
       "      <th>249</th>\n",
       "      <td>249</td>\n",
       "      <td>423</td>\n",
       "      <td>639</td>\n",
       "      <td>1062</td>\n",
       "      <td>0.601695</td>\n",
       "      <td>0</td>\n",
       "      <td>7</td>\n",
       "      <td>0</td>\n",
       "    </tr>\n",
       "    <tr>\n",
       "      <th>158</th>\n",
       "      <td>158</td>\n",
       "      <td>182</td>\n",
       "      <td>259</td>\n",
       "      <td>441</td>\n",
       "      <td>0.587302</td>\n",
       "      <td>0</td>\n",
       "      <td>3</td>\n",
       "      <td>0</td>\n",
       "    </tr>\n",
       "    <tr>\n",
       "      <th>262</th>\n",
       "      <td>262</td>\n",
       "      <td>631</td>\n",
       "      <td>895</td>\n",
       "      <td>1526</td>\n",
       "      <td>0.586501</td>\n",
       "      <td>0</td>\n",
       "      <td>8</td>\n",
       "      <td>0</td>\n",
       "    </tr>\n",
       "    <tr>\n",
       "      <th>236</th>\n",
       "      <td>236</td>\n",
       "      <td>1369</td>\n",
       "      <td>1864</td>\n",
       "      <td>3233</td>\n",
       "      <td>0.576554</td>\n",
       "      <td>0</td>\n",
       "      <td>25</td>\n",
       "      <td>0</td>\n",
       "    </tr>\n",
       "    <tr>\n",
       "      <th>143</th>\n",
       "      <td>143</td>\n",
       "      <td>451</td>\n",
       "      <td>536</td>\n",
       "      <td>987</td>\n",
       "      <td>0.543060</td>\n",
       "      <td>0</td>\n",
       "      <td>4</td>\n",
       "      <td>0</td>\n",
       "    </tr>\n",
       "    <tr>\n",
       "      <th>246</th>\n",
       "      <td>246</td>\n",
       "      <td>301</td>\n",
       "      <td>345</td>\n",
       "      <td>646</td>\n",
       "      <td>0.534056</td>\n",
       "      <td>0</td>\n",
       "      <td>6</td>\n",
       "      <td>0</td>\n",
       "    </tr>\n",
       "    <tr>\n",
       "      <th>50</th>\n",
       "      <td>50</td>\n",
       "      <td>381</td>\n",
       "      <td>384</td>\n",
       "      <td>765</td>\n",
       "      <td>0.501961</td>\n",
       "      <td>0</td>\n",
       "      <td>8</td>\n",
       "      <td>0</td>\n",
       "    </tr>\n",
       "    <tr>\n",
       "      <th>127</th>\n",
       "      <td>127</td>\n",
       "      <td>2</td>\n",
       "      <td>2</td>\n",
       "      <td>4</td>\n",
       "      <td>0.500000</td>\n",
       "      <td>0</td>\n",
       "      <td>0</td>\n",
       "      <td>0</td>\n",
       "    </tr>\n",
       "    <tr>\n",
       "      <th>239</th>\n",
       "      <td>239</td>\n",
       "      <td>897</td>\n",
       "      <td>892</td>\n",
       "      <td>1789</td>\n",
       "      <td>0.498603</td>\n",
       "      <td>0</td>\n",
       "      <td>9</td>\n",
       "      <td>0</td>\n",
       "    </tr>\n",
       "    <tr>\n",
       "      <th>151</th>\n",
       "      <td>151</td>\n",
       "      <td>362</td>\n",
       "      <td>358</td>\n",
       "      <td>720</td>\n",
       "      <td>0.497222</td>\n",
       "      <td>0</td>\n",
       "      <td>6</td>\n",
       "      <td>0</td>\n",
       "    </tr>\n",
       "    <tr>\n",
       "      <th>137</th>\n",
       "      <td>137</td>\n",
       "      <td>650</td>\n",
       "      <td>593</td>\n",
       "      <td>1243</td>\n",
       "      <td>0.477072</td>\n",
       "      <td>0</td>\n",
       "      <td>10</td>\n",
       "      <td>0</td>\n",
       "    </tr>\n",
       "    <tr>\n",
       "      <th>224</th>\n",
       "      <td>224</td>\n",
       "      <td>250</td>\n",
       "      <td>184</td>\n",
       "      <td>434</td>\n",
       "      <td>0.423963</td>\n",
       "      <td>0</td>\n",
       "      <td>3</td>\n",
       "      <td>0</td>\n",
       "    </tr>\n",
       "    <tr>\n",
       "      <th>4</th>\n",
       "      <td>4</td>\n",
       "      <td>165</td>\n",
       "      <td>92</td>\n",
       "      <td>257</td>\n",
       "      <td>0.357977</td>\n",
       "      <td>0</td>\n",
       "      <td>1</td>\n",
       "      <td>0</td>\n",
       "    </tr>\n",
       "    <tr>\n",
       "      <th>238</th>\n",
       "      <td>238</td>\n",
       "      <td>1199</td>\n",
       "      <td>538</td>\n",
       "      <td>1737</td>\n",
       "      <td>0.309729</td>\n",
       "      <td>0</td>\n",
       "      <td>6</td>\n",
       "      <td>0</td>\n",
       "    </tr>\n",
       "    <tr>\n",
       "      <th>232</th>\n",
       "      <td>232</td>\n",
       "      <td>51</td>\n",
       "      <td>21</td>\n",
       "      <td>72</td>\n",
       "      <td>0.291667</td>\n",
       "      <td>0</td>\n",
       "      <td>0</td>\n",
       "      <td>0</td>\n",
       "    </tr>\n",
       "    <tr>\n",
       "      <th>140</th>\n",
       "      <td>140</td>\n",
       "      <td>1438</td>\n",
       "      <td>518</td>\n",
       "      <td>1956</td>\n",
       "      <td>0.264826</td>\n",
       "      <td>0</td>\n",
       "      <td>9</td>\n",
       "      <td>0</td>\n",
       "    </tr>\n",
       "    <tr>\n",
       "      <th>194</th>\n",
       "      <td>194</td>\n",
       "      <td>4</td>\n",
       "      <td>1</td>\n",
       "      <td>5</td>\n",
       "      <td>0.200000</td>\n",
       "      <td>0</td>\n",
       "      <td>0</td>\n",
       "      <td>0</td>\n",
       "    </tr>\n",
       "    <tr>\n",
       "      <th>128</th>\n",
       "      <td>128</td>\n",
       "      <td>0</td>\n",
       "      <td>0</td>\n",
       "      <td>0</td>\n",
       "      <td>0.000000</td>\n",
       "      <td>0</td>\n",
       "      <td>0</td>\n",
       "      <td>0</td>\n",
       "    </tr>\n",
       "    <tr>\n",
       "      <th>120</th>\n",
       "      <td>120</td>\n",
       "      <td>0</td>\n",
       "      <td>0</td>\n",
       "      <td>0</td>\n",
       "      <td>0.000000</td>\n",
       "      <td>0</td>\n",
       "      <td>0</td>\n",
       "      <td>0</td>\n",
       "    </tr>\n",
       "  </tbody>\n",
       "</table>\n",
       "<p>64 rows × 8 columns</p>\n",
       "</div>"
      ],
      "text/plain": [
       "     zone_id     w  served  total       LOS  idle  incoming  times_surged\n",
       "100      100     0    1894   1894  1.000000    36        26             0\n",
       "161      161     0    1458   1458  1.000000    82        64             0\n",
       "162      162     0    2147   2147  1.000000    94        54             0\n",
       "234      234     0    1113   1113  1.000000    41        18             0\n",
       "125      125     0     192    192  1.000000     7         7             0\n",
       "237      237     0    2610   2610  1.000000    50        40             0\n",
       "170      170     0    2629   2629  1.000000    69        51             0\n",
       "243      243     0      20     20  1.000000     2         1             0\n",
       "209      209     0      74     74  1.000000     2         3             0\n",
       "88        88     0     195    195  1.000000     3         8             0\n",
       "87        87     0     419    419  1.000000    11         7             0\n",
       "230      230     0    1016   1016  1.000000    63        33             0\n",
       "163      163     0     967    967  1.000000    62        38             0\n",
       "164      164     0    1129   1129  1.000000    45        34             0\n",
       "261      261     0     168    168  1.000000    39        32             0\n",
       "48        48     0    2366   2366  1.000000    46        32             0\n",
       "45        45     0      70     70  1.000000     7         1             0\n",
       "43        43     0     550    550  1.000000    27        16             0\n",
       "144      144     0     208    208  1.000000    16        16             0\n",
       "12        12     0      11     11  1.000000     7         1             0\n",
       "211      211     0     208    208  1.000000    16         9             0\n",
       "13        13     0     890    890  1.000000    15        13             0\n",
       "231      231     0     829    829  1.000000    54        26             0\n",
       "141      141    39    2258   2297  0.983021     0        36             0\n",
       "68        68    20    1123   1143  0.982502     0        16             0\n",
       "142      142    29    1507   1536  0.981120     0        21             0\n",
       "116      116     4     126    130  0.969231     0         4             0\n",
       "152      152     3      75     78  0.961538     0         0             0\n",
       "41        41    36     295    331  0.891239     0         3             0\n",
       "75        75    77     628    705  0.890780     0         6             0\n",
       "..       ...   ...     ...    ...       ...   ...       ...           ...\n",
       "24        24    48     197    245  0.804082     0         1             0\n",
       "114      114    73     288    361  0.797784     0        10             0\n",
       "79        79   237     862   1099  0.784349     0         6             0\n",
       "74        74    71     257    328  0.783537     0         0             0\n",
       "233      233   250     904   1154  0.783362     0        10             0\n",
       "148      148    74     207    281  0.736655     0         2             0\n",
       "229      229   609    1345   1954  0.688332     0        16             0\n",
       "263      263   553    1200   1753  0.684541     0        10             0\n",
       "113      113   326     665    991  0.671039     0         9             0\n",
       "90        90   395     704   1099  0.640582     0         8             0\n",
       "186      186  1292    2153   3445  0.624964     0        26             0\n",
       "249      249   423     639   1062  0.601695     0         7             0\n",
       "158      158   182     259    441  0.587302     0         3             0\n",
       "262      262   631     895   1526  0.586501     0         8             0\n",
       "236      236  1369    1864   3233  0.576554     0        25             0\n",
       "143      143   451     536    987  0.543060     0         4             0\n",
       "246      246   301     345    646  0.534056     0         6             0\n",
       "50        50   381     384    765  0.501961     0         8             0\n",
       "127      127     2       2      4  0.500000     0         0             0\n",
       "239      239   897     892   1789  0.498603     0         9             0\n",
       "151      151   362     358    720  0.497222     0         6             0\n",
       "137      137   650     593   1243  0.477072     0        10             0\n",
       "224      224   250     184    434  0.423963     0         3             0\n",
       "4          4   165      92    257  0.357977     0         1             0\n",
       "238      238  1199     538   1737  0.309729     0         6             0\n",
       "232      232    51      21     72  0.291667     0         0             0\n",
       "140      140  1438     518   1956  0.264826     0         9             0\n",
       "194      194     4       1      5  0.200000     0         0             0\n",
       "128      128     0       0      0  0.000000     0         0             0\n",
       "120      120     0       0      0  0.000000     0         0             0\n",
       "\n",
       "[64 rows x 8 columns]"
      ]
     },
     "execution_count": 121,
     "metadata": {},
     "output_type": "execute_result"
    }
   ],
   "source": [
    "report"
   ]
  },
  {
   "cell_type": "code",
   "execution_count": 124,
   "metadata": {},
   "outputs": [
    {
     "data": {
      "text/plain": [
       "0.7766054119547657"
      ]
     },
     "execution_count": 124,
     "metadata": {},
     "output_type": "execute_result"
    }
   ],
   "source": [
    "report.served.sum()/(report.total.sum())"
   ]
  },
  {
   "cell_type": "code",
   "execution_count": null,
   "metadata": {},
   "outputs": [],
   "source": []
  }
 ],
 "metadata": {
  "kernelspec": {
   "display_name": "Python 3",
   "language": "python",
   "name": "python3"
  },
  "language_info": {
   "codemirror_mode": {
    "name": "ipython",
    "version": 3
   },
   "file_extension": ".py",
   "mimetype": "text/x-python",
   "name": "python",
   "nbconvert_exporter": "python",
   "pygments_lexer": "ipython3",
   "version": "3.6.8"
  },
  "pycharm": {
   "stem_cell": {
    "cell_type": "raw",
    "source": [],
    "metadata": {
     "collapsed": false
    }
   }
  }
 },
 "nbformat": 4,
 "nbformat_minor": 2
}