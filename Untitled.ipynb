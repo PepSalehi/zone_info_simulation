{
 "cells": [
  {
   "cell_type": "code",
   "execution_count": 1,
   "metadata": {
    "pycharm": {
     "is_executing": false
    }
   },
   "outputs": [],
   "source": [
    "import pickle \n",
    "import numpy as np \n",
    "import pandas as pd "
   ]
  },
  {
   "cell_type": "code",
   "execution_count": 3,
   "metadata": {},
   "outputs": [],
   "source": [
    "m_scores = []\n",
    "for i in range(25):\n",
    "    m_scores.append(pickle.load(open('mean_score {}.p'.format(i), \"rb\")))"
   ]
  },
  {
   "cell_type": "code",
   "execution_count": 4,
   "metadata": {},
   "outputs": [
    {
     "data": {
      "text/plain": [
       "[3836.0,\n",
       " 4465.75,\n",
       " 4560.833333333333,\n",
       " 4690.125,\n",
       " 4719.1,\n",
       " 4724.5,\n",
       " 4770.214285714285,\n",
       " 4789.4375,\n",
       " 4807.5,\n",
       " 4831.55,\n",
       " 4844.727272727273,\n",
       " 4856.458333333333,\n",
       " 4861.192307692308,\n",
       " 4853.0,\n",
       " 4868.366666666667,\n",
       " 4873.40625,\n",
       " 4884.470588235294,\n",
       " 4878.861111111111,\n",
       " 4878.026315789473,\n",
       " 4876.575,\n",
       " 4878.642857142857,\n",
       " 4888.0,\n",
       " 4891.54347826087,\n",
       " 4900.625,\n",
       " 4903.0]"
      ]
     },
     "execution_count": 4,
     "metadata": {},
     "output_type": "execute_result"
    }
   ],
   "source": [
    "m_scores"
   ]
  },
  {
   "cell_type": "code",
   "execution_count": null,
   "metadata": {},
   "outputs": [],
   "source": []
  }
 ],
 "metadata": {
  "kernelspec": {
   "display_name": "Python 3",
   "language": "python",
   "name": "python3"
  },
  "language_info": {
   "codemirror_mode": {
    "name": "ipython",
    "version": 3
   },
   "file_extension": ".py",
   "mimetype": "text/x-python",
   "name": "python",
   "nbconvert_exporter": "python",
   "pygments_lexer": "ipython3",
   "version": "3.6.8"
  }
 },
 "nbformat": 4,
 "nbformat_minor": 2
}